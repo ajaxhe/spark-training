{
 "cells": [
  {
   "cell_type": "markdown",
   "metadata": {},
   "source": [
    "# Connecting to Spark"
   ]
  },
  {
   "cell_type": "markdown",
   "metadata": {},
   "source": [
    "We're going to be using Python with DataFrames, which is only available in Spark 1.3 or later.  We're going to be using a recent version of open source spark.  To use it, you'll have to import the `SQLContext`."
   ]
  },
  {
   "cell_type": "code",
   "execution_count": 3,
   "metadata": {
    "collapsed": false
   },
   "outputs": [],
   "source": [
    "from pyspark.sql import SQLContext\n",
    "sql = SQLContext(sc)"
   ]
  },
  {
   "cell_type": "markdown",
   "metadata": {
    "collapsed": true
   },
   "source": [
    "Let's set up some common functions"
   ]
  },
  {
   "cell_type": "markdown",
   "metadata": {},
   "source": [
    "# Reading a table"
   ]
  },
  {
   "cell_type": "code",
   "execution_count": 4,
   "metadata": {
    "collapsed": false
   },
   "outputs": [],
   "source": [
    "user = sql.read.format(\"org.apache.spark.sql.cassandra\").\\\n",
    "               load(keyspace=\"training\", table=\"user\")"
   ]
  },
  {
   "cell_type": "markdown",
   "metadata": {},
   "source": [
    "# Display"
   ]
  },
  {
   "cell_type": "code",
   "execution_count": 5,
   "metadata": {
    "collapsed": false
   },
   "outputs": [
    {
     "data": {
      "text/plain": [
       "[Row(user_id=5, age=10, favorite_foods=[u'Anger'], name=u'Larry'),\n",
       " Row(user_id=1, age=34, favorite_foods=[u'Bacon', u'Cheese'], name=u'Jon'),\n",
       " Row(user_id=2, age=22, favorite_foods=[u'Kale', u'Pizza', u'Wine'], name=u'Dani'),\n",
       " Row(user_id=4, age=1, favorite_foods=[u'Candy', u'Fear'], name=u'Baby Luke'),\n",
       " Row(user_id=3, age=108, favorite_foods=[u'Muffins', u'Pie', u'Steak'], name=u'Patrick')]"
      ]
     },
     "execution_count": 5,
     "metadata": {},
     "output_type": "execute_result"
    }
   ],
   "source": [
    "user.collect()"
   ]
  },
  {
   "cell_type": "markdown",
   "metadata": {},
   "source": [
    "# Basic Filtering"
   ]
  },
  {
   "cell_type": "code",
   "execution_count": 6,
   "metadata": {
    "collapsed": true
   },
   "outputs": [],
   "source": [
    "from pyspark.sql.functions import *"
   ]
  },
  {
   "cell_type": "code",
   "execution_count": 5,
   "metadata": {
    "collapsed": false,
    "scrolled": true
   },
   "outputs": [
    {
     "data": {
      "text/plain": [
       "[Row(user_id=1, age=34, favorite_foods=[u'Bacon', u'Cheese'], name=u'Jon')]"
      ]
     },
     "execution_count": 5,
     "metadata": {},
     "output_type": "execute_result"
    }
   ],
   "source": [
    "user[user.name == \"Jon\"].collect()"
   ]
  },
  {
   "cell_type": "code",
   "execution_count": 6,
   "metadata": {
    "collapsed": false
   },
   "outputs": [],
   "source": [
    "tmp = user.age > 100"
   ]
  },
  {
   "cell_type": "code",
   "execution_count": 7,
   "metadata": {
    "collapsed": true
   },
   "outputs": [],
   "source": [
    "user.registerTempTable(\"user\")"
   ]
  },
  {
   "cell_type": "code",
   "execution_count": 8,
   "metadata": {
    "collapsed": false
   },
   "outputs": [],
   "source": [
    "tmp = sql.sql(\"SELECT * from user WHERE name = 'Larry' or age > 30\")"
   ]
  },
  {
   "cell_type": "code",
   "execution_count": 9,
   "metadata": {
    "collapsed": false
   },
   "outputs": [
    {
     "name": "stdout",
     "output_type": "stream",
     "text": [
      "Filter ((name#3 = Larry) || (age#1 > 30))\n",
      " PhysicalRDD [user_id#0,age#1,favorite_foods#2,name#3], MapPartitionsRDD[13] at executedPlan at NativeMethodAccessorImpl.java:-2\n",
      "\n"
     ]
    }
   ],
   "source": [
    "tmp.explain()"
   ]
  },
  {
   "cell_type": "code",
   "execution_count": 10,
   "metadata": {
    "collapsed": false
   },
   "outputs": [
    {
     "name": "stdout",
     "output_type": "stream",
     "text": [
      "+-------+---+--------------------+-----+\n",
      "|user_id|age|      favorite_foods| name|\n",
      "+-------+---+--------------------+-----+\n",
      "|      5| 10|  ArrayBuffer(Anger)|Larry|\n",
      "|      1| 34|ArrayBuffer(Bacon...|  Jon|\n",
      "+-------+---+--------------------+-----+\n",
      "\n"
     ]
    }
   ],
   "source": [
    "user.filter('name = \"Larry\" or name = \"Jon\"').show()"
   ]
  },
  {
   "cell_type": "code",
   "execution_count": 10,
   "metadata": {
    "collapsed": false
   },
   "outputs": [
    {
     "data": {
      "text/plain": [
       "[Row(user_id=3, age=108, favorite_foods=[u'Muffins', u'Pie', u'Steak'], name=u'Patrick'),\n",
       " Row(user_id=5, age=10, favorite_foods=[u'Anger'], name=u'Larry')]"
      ]
     },
     "execution_count": 10,
     "metadata": {},
     "output_type": "execute_result"
    }
   ],
   "source": [
    "user.filter(\"age > 100 or name = 'Larry'\").collect()"
   ]
  },
  {
   "cell_type": "code",
   "execution_count": 7,
   "metadata": {
    "collapsed": false
   },
   "outputs": [
    {
     "data": {
      "text/plain": [
       "DataFrame[name: string, years: int]"
      ]
     },
     "execution_count": 7,
     "metadata": {},
     "output_type": "execute_result"
    }
   ],
   "source": [
    "user.select(user.name, user.age.alias(\"years\"))"
   ]
  },
  {
   "cell_type": "code",
   "execution_count": 12,
   "metadata": {
    "collapsed": false
   },
   "outputs": [
    {
     "data": {
      "text/plain": [
       "[Row(name=u'Jon', years=34),\n",
       " Row(name=u'Dani', years=22),\n",
       " Row(name=u'Patrick', years=108)]"
      ]
     },
     "execution_count": 12,
     "metadata": {},
     "output_type": "execute_result"
    }
   ],
   "source": [
    "user.select(user.name, user.age.alias(\"years\")).filter(\"years > 10\").collect()"
   ]
  },
  {
   "cell_type": "code",
   "execution_count": 9,
   "metadata": {
    "collapsed": false
   },
   "outputs": [
    {
     "data": {
      "text/plain": [
       "[Row(_c0=u'Anger'),\n",
       " Row(_c0=u'Bacon'),\n",
       " Row(_c0=u'Cheese'),\n",
       " Row(_c0=u'Kale'),\n",
       " Row(_c0=u'Pizza'),\n",
       " Row(_c0=u'Wine'),\n",
       " Row(_c0=u'Candy'),\n",
       " Row(_c0=u'Fear'),\n",
       " Row(_c0=u'Muffins'),\n",
       " Row(_c0=u'Pie'),\n",
       " Row(_c0=u'Steak')]"
      ]
     },
     "execution_count": 9,
     "metadata": {},
     "output_type": "execute_result"
    }
   ],
   "source": [
    "user.select(explode(user.favorite_foods)).collect()"
   ]
  },
  {
   "cell_type": "code",
   "execution_count": 22,
   "metadata": {
    "collapsed": false
   },
   "outputs": [
    {
     "data": {
      "text/plain": [
       "[Row(user_id=1, name=u'Jon', food=u'Bacon')]"
      ]
     },
     "execution_count": 22,
     "metadata": {},
     "output_type": "execute_result"
    }
   ],
   "source": [
    "# Find users who like a certain food\n",
    "user.select(\"user_id\", \"name\", explode(user.favorite_foods).alias(\"food\")).where(\"food='Bacon'\").collect()"
   ]
  },
  {
   "cell_type": "markdown",
   "metadata": {},
   "source": [
    "# A nicer reader"
   ]
  },
  {
   "cell_type": "code",
   "execution_count": 23,
   "metadata": {
    "collapsed": false
   },
   "outputs": [],
   "source": [
    "def create_reader(sql, keyspace):\n",
    "    def reader(table):\n",
    "        df = sql.read.format(\"org.apache.spark.sql.cassandra\").\\\n",
    "               load(keyspace=keyspace, table=table)\n",
    "        return df\n",
    "    return reader\n",
    "\n",
    "reader = create_reader(sql, \"training\")"
   ]
  },
  {
   "cell_type": "markdown",
   "metadata": {},
   "source": [
    "# A Nicer Writer"
   ]
  },
  {
   "cell_type": "code",
   "execution_count": 17,
   "metadata": {
    "collapsed": false
   },
   "outputs": [],
   "source": [
    "def create_writer(sql, keyspace, mode=\"append\"):\n",
    "    def writer(df, table):\n",
    "        df.write.format(\"org.apache.spark.sql.cassandra\").\\\n",
    "                 options(table=table, keyspace=keyspace).save(mode=\"append\")\n",
    "    return writer\n",
    "\n",
    "writer = create_writer(sql, \"training\")"
   ]
  },
  {
   "cell_type": "markdown",
   "metadata": {
    "collapsed": true
   },
   "source": [
    "# Data Migrations"
   ]
  },
  {
   "cell_type": "code",
   "execution_count": 25,
   "metadata": {
    "collapsed": false
   },
   "outputs": [],
   "source": [
    "\n",
    "result = user.select(explode(user.favorite_foods).alias(\"food\"), \"user_id\")\n",
    "writer(result, \"favorite_foods_index\")"
   ]
  },
  {
   "cell_type": "markdown",
   "metadata": {
    "collapsed": false
   },
   "source": [
    "# SparkSQL\n",
    "\n",
    "Register dataframe as a table\n",
    "\n",
    "do whatever you want with it"
   ]
  },
  {
   "cell_type": "code",
   "execution_count": 26,
   "metadata": {
    "collapsed": true
   },
   "outputs": [],
   "source": [
    "user.registerTempTable(\"user\")"
   ]
  },
  {
   "cell_type": "code",
   "execution_count": 27,
   "metadata": {
    "collapsed": false
   },
   "outputs": [
    {
     "data": {
      "text/plain": [
       "[Row(user_id=1, age=34, favorite_foods=[u'Bacon', u'Cheese'], name=u'Jon'),\n",
       " Row(user_id=2, age=22, favorite_foods=[u'Kale', u'Pizza', u'Wine'], name=u'Dani'),\n",
       " Row(user_id=3, age=108, favorite_foods=[u'Muffins', u'Pie', u'Steak'], name=u'Patrick')]"
      ]
     },
     "execution_count": 27,
     "metadata": {},
     "output_type": "execute_result"
    }
   ],
   "source": [
    "sql.sql(\"select * from user where age > 15\").collect()"
   ]
  },
  {
   "cell_type": "markdown",
   "metadata": {},
   "source": [
    "# Load the movie lens data\n",
    "\n",
    "Dataset lives in ml-10M100K directory\n"
   ]
  },
  {
   "cell_type": "code",
   "execution_count": 11,
   "metadata": {
    "collapsed": false
   },
   "outputs": [],
   "source": [
    "movies = sc.textFile(\"ml-10M100K/movies.dat\").map(lambda x: x.split(\"::\") )"
   ]
  },
  {
   "cell_type": "code",
   "execution_count": 12,
   "metadata": {
    "collapsed": false
   },
   "outputs": [],
   "source": [
    "movies = movies.map(lambda (x,y,z): (x,y,z.split(\"|\")))"
   ]
  },
  {
   "cell_type": "code",
   "execution_count": 13,
   "metadata": {
    "collapsed": true
   },
   "outputs": [],
   "source": [
    "movies = movies.toDF([\"movie_id\", \"name\", \"tags\"])"
   ]
  },
  {
   "cell_type": "code",
   "execution_count": 14,
   "metadata": {
    "collapsed": true
   },
   "outputs": [],
   "source": [
    "movies.registerTempTable(\"movies\")"
   ]
  },
  {
   "cell_type": "code",
   "execution_count": 15,
   "metadata": {
    "collapsed": false
   },
   "outputs": [
    {
     "data": {
      "text/plain": [
       "[Row(movie_id=u'1', name=u'Toy Story (1995)', tags=[u'Adventure', u'Animation', u'Children', u'Comedy', u'Fantasy']),\n",
       " Row(movie_id=u'2', name=u'Jumanji (1995)', tags=[u'Adventure', u'Children', u'Fantasy']),\n",
       " Row(movie_id=u'3', name=u'Grumpier Old Men (1995)', tags=[u'Comedy', u'Romance']),\n",
       " Row(movie_id=u'4', name=u'Waiting to Exhale (1995)', tags=[u'Comedy', u'Drama', u'Romance']),\n",
       " Row(movie_id=u'5', name=u'Father of the Bride Part II (1995)', tags=[u'Comedy']),\n",
       " Row(movie_id=u'6', name=u'Heat (1995)', tags=[u'Action', u'Crime', u'Thriller']),\n",
       " Row(movie_id=u'7', name=u'Sabrina (1995)', tags=[u'Comedy', u'Romance']),\n",
       " Row(movie_id=u'8', name=u'Tom and Huck (1995)', tags=[u'Adventure', u'Children']),\n",
       " Row(movie_id=u'9', name=u'Sudden Death (1995)', tags=[u'Action']),\n",
       " Row(movie_id=u'10', name=u'GoldenEye (1995)', tags=[u'Action', u'Adventure', u'Thriller'])]"
      ]
     },
     "execution_count": 15,
     "metadata": {},
     "output_type": "execute_result"
    }
   ],
   "source": [
    "movies.head(10)"
   ]
  },
  {
   "cell_type": "code",
   "execution_count": 18,
   "metadata": {
    "collapsed": false
   },
   "outputs": [],
   "source": [
    "writer(movies, \"movie\")"
   ]
  },
  {
   "cell_type": "code",
   "execution_count": 34,
   "metadata": {
    "collapsed": false
   },
   "outputs": [
    {
     "name": "stdout",
     "output_type": "stream",
     "text": [
      "+--------+----------------+--------------------+\n",
      "|movie_id|            name|                tags|\n",
      "+--------+----------------+--------------------+\n",
      "|       1|Toy Story (1995)|ArrayBuffer(Adven...|\n",
      "+--------+----------------+--------------------+\n",
      "\n"
     ]
    }
   ],
   "source": [
    "sql.sql(\"SELECT * from movies where movie_id=1\").show()"
   ]
  },
  {
   "cell_type": "code",
   "execution_count": 35,
   "metadata": {
    "collapsed": false
   },
   "outputs": [
    {
     "name": "stdout",
     "output_type": "stream",
     "text": [
      "+--------+-------------------+--------------------+\n",
      "|movie_id|               name|                tags|\n",
      "+--------+-------------------+--------------------+\n",
      "|       1|   Toy Story (1995)|ArrayBuffer(Adven...|\n",
      "|    2253|        Toys (1992)|ArrayBuffer(Actio...|\n",
      "|    3114| Toy Story 2 (1999)|ArrayBuffer(Adven...|\n",
      "|    4929|    Toy, The (1982)| ArrayBuffer(Comedy)|\n",
      "|    5843|Toy Soldiers (1991)|ArrayBuffer(Actio...|\n",
      "+--------+-------------------+--------------------+\n",
      "\n"
     ]
    }
   ],
   "source": [
    "sql.sql(\"select * from movies where name like 'Toy%'\").show()"
   ]
  },
  {
   "cell_type": "code",
   "execution_count": 36,
   "metadata": {
    "collapsed": false
   },
   "outputs": [
    {
     "name": "stdout",
     "output_type": "stream",
     "text": [
      "+--------+--------------------+--------------------+\n",
      "|movie_id|                name|                tags|\n",
      "+--------+--------------------+--------------------+\n",
      "|     610|  Heavy Metal (1981)|ArrayBuffer(Actio...|\n",
      "|     681|Clean Slate (Coup...|  ArrayBuffer(Crime)|\n",
      "|    1033|Fox and the Hound...|ArrayBuffer(Anima...|\n",
      "|    1124|On Golden Pond (1...|  ArrayBuffer(Drama)|\n",
      "|    1129|Escape from New Y...|ArrayBuffer(Actio...|\n",
      "|    1198|Raiders of the Lo...|ArrayBuffer(Actio...|\n",
      "|    1233|Boat, The (Das Bo...|ArrayBuffer(Actio...|\n",
      "|    1264|         Diva (1981)|ArrayBuffer(Actio...|\n",
      "|    1321|American Werewolf...|ArrayBuffer(Comed...|\n",
      "|    1335|  Blood Beach (1981)|ArrayBuffer(Actio...|\n",
      "|    1663|      Stripes (1981)|ArrayBuffer(Comed...|\n",
      "|    1957|Chariots of Fire ...|  ArrayBuffer(Drama)|\n",
      "|    1975|Friday the 13th P...| ArrayBuffer(Horror)|\n",
      "|    1983| Halloween II (1981)| ArrayBuffer(Horror)|\n",
      "|    2041|    Condorman (1981)|ArrayBuffer(Actio...|\n",
      "|    2044|Devil and Max Dev...|ArrayBuffer(Comed...|\n",
      "|    2075|     Mephisto (1981)|ArrayBuffer(Drama...|\n",
      "|    2254|      Choices (1981)|  ArrayBuffer(Drama)|\n",
      "|    2301|History of the Wo...|ArrayBuffer(Comed...|\n",
      "|    2639|Mommie Dearest (1...|  ArrayBuffer(Drama)|\n",
      "+--------+--------------------+--------------------+\n",
      "\n"
     ]
    }
   ],
   "source": [
    "sql.sql(\"select * from movies where name like '%(1981)'\").show()"
   ]
  },
  {
   "cell_type": "code",
   "execution_count": 39,
   "metadata": {
    "collapsed": true
   },
   "outputs": [],
   "source": [
    "# UserID::MovieID::Rating::Timestamp\n",
    "ratings_rdd = sc.textFile(\"ml-10M100K/ratings.dat\").map(lambda x: x.split(\"::\") )"
   ]
  },
  {
   "cell_type": "code",
   "execution_count": 40,
   "metadata": {
    "collapsed": false
   },
   "outputs": [],
   "source": [
    "ratings = ratings_rdd.toDF([\"user_id\", \"movie_id\", \"rating\", \"timestamp\"])"
   ]
  },
  {
   "cell_type": "code",
   "execution_count": 42,
   "metadata": {
    "collapsed": false,
    "scrolled": true
   },
   "outputs": [],
   "source": [
    "ratings = ratings.select(\"movie_id\", \"user_id\", \"rating\", \"timestamp\")"
   ]
  },
  {
   "cell_type": "code",
   "execution_count": 43,
   "metadata": {
    "collapsed": false
   },
   "outputs": [],
   "source": [
    "writer(ratings, \"rating_by_movie\")"
   ]
  },
  {
   "cell_type": "markdown",
   "metadata": {},
   "source": [
    "# JOINS and Aggregations"
   ]
  },
  {
   "cell_type": "code",
   "execution_count": 44,
   "metadata": {
    "collapsed": true
   },
   "outputs": [],
   "source": [
    "ratings.registerTempTable(\"ratings\")"
   ]
  },
  {
   "cell_type": "code",
   "execution_count": 45,
   "metadata": {
    "collapsed": false
   },
   "outputs": [],
   "source": [
    "aggregated_ratings = sql.sql(\"select movie_id, avg(rating) as rating from ratings group by movie_id\")"
   ]
  },
  {
   "cell_type": "code",
   "execution_count": 46,
   "metadata": {
    "collapsed": false
   },
   "outputs": [],
   "source": [
    "aggregated_ratings.registerTempTable(\"average_ratings\")"
   ]
  },
  {
   "cell_type": "code",
   "execution_count": 47,
   "metadata": {
    "collapsed": false
   },
   "outputs": [],
   "source": [
    "writer(aggregated_ratings, \"average_rating\")"
   ]
  },
  {
   "cell_type": "code",
   "execution_count": 48,
   "metadata": {
    "collapsed": true
   },
   "outputs": [],
   "source": [
    "movies.registerTempTable('movie')"
   ]
  },
  {
   "cell_type": "code",
   "execution_count": 49,
   "metadata": {
    "collapsed": false
   },
   "outputs": [
    {
     "data": {
      "text/plain": [
       "[Row(movie_id=u'51209', name=u'Fighting Elegy (Kenka erejii) (1966)', tags=[u'Action', u'Comedy'], rating=5.0),\n",
       " Row(movie_id=u'33264', name=u\"Satan's Tango (S\\xe1t\\xe1ntang\\xf3) (1994)\", tags=[u'Drama'], rating=5.0),\n",
       " Row(movie_id=u'53355', name=u'Sun Alley (Sonnenallee) (1999)', tags=[u'Comedy', u'Romance'], rating=5.0),\n",
       " Row(movie_id=u'42783', name=u'Shadows of Forgotten Ancestors (1964)', tags=[u'Drama', u'Romance'], rating=5.0),\n",
       " Row(movie_id=u'64275', name=u'Blue Light, The (Das Blaue Licht) (1932)', tags=[u'Drama', u'Fantasy', u'Mystery'], rating=5.0),\n",
       " Row(movie_id=u'26048', name=u'Human Condition II, The (Ningen no joken II) (1959)', tags=[u'Drama', u'War'], rating=4.75),\n",
       " Row(movie_id=u'26073', name=u'Human Condition III, The (Ningen no joken III) (1961)', tags=[u'Drama', u'War'], rating=4.75),\n",
       " Row(movie_id=u'65001', name=u\"Constantine's Sword (2007)\", tags=[u'Documentary'], rating=4.75),\n",
       " Row(movie_id=u'4454', name=u'More (1998)', tags=[u'Animation', u'IMAX', u'Sci-Fi'], rating=4.75),\n",
       " Row(movie_id=u'5194', name=u\"Who's Singin' Over There? (a.k.a. Who Sings Over There) (Ko to tamo peva) (1980)\", tags=[u'Comedy'], rating=4.75),\n",
       " Row(movie_id=u'63808', name=u'Class, The (Entre les Murs) (2008)', tags=[u'Drama'], rating=4.666666666666667),\n",
       " Row(movie_id=u'5849', name=u\"I'm Starting From Three (Ricomincio da Tre) (1981)\", tags=[u'Comedy'], rating=4.666666666666667),\n",
       " Row(movie_id=u'32657', name=u\"Man Who Planted Trees, The (Homme qui plantait des arbres, L') (1987)\", tags=[u'Animation', u'Drama'], rating=4.571428571428571),\n",
       " Row(movie_id=u'25975', name=u'Life of Oharu, The (Saikaku ichidai onna) (1952)', tags=[u'Drama'], rating=4.5),\n",
       " Row(movie_id=u'7452', name=u'Mickey (2003)', tags=[u'Crime', u'Drama'], rating=4.5),\n",
       " Row(movie_id=u'50477', name=u\"Testament of Orpheus, The (Testament d'Orph\\xe9e) (1960)\", tags=[u'Drama'], rating=4.5),\n",
       " Row(movie_id=u'63179', name=u'Tokyo! (2008)', tags=[u'Drama'], rating=4.5),\n",
       " Row(movie_id=u'3226', name=u'Hellhounds on My Trail (1999)', tags=[u'Documentary'], rating=4.5),\n",
       " Row(movie_id=u'60990', name=u'End of Summer, The (Kohayagawa-ke no aki) (1961)', tags=[u'Drama'], rating=4.5),\n",
       " Row(movie_id=u'58185', name=u'Please Vote for Me (2007)', tags=[u'Children', u'Documentary'], rating=4.5)]"
      ]
     },
     "execution_count": 49,
     "metadata": {},
     "output_type": "execute_result"
    }
   ],
   "source": [
    "sql.sql(\"\"\"select movie.movie_id, name, tags, rating FROM movie join average_ratings on movie.movie_id = average_ratings.movie_id  order by rating desc limit 20\"\"\").collect()"
   ]
  },
  {
   "cell_type": "markdown",
   "metadata": {},
   "source": [
    "# Top movies for a tag"
   ]
  },
  {
   "cell_type": "code",
   "execution_count": 50,
   "metadata": {
    "collapsed": false
   },
   "outputs": [
    {
     "data": {
      "text/plain": [
       "[u'movie_id', u'name', u'tags']"
      ]
     },
     "execution_count": 50,
     "metadata": {},
     "output_type": "execute_result"
    }
   ],
   "source": [
    "movies.columns"
   ]
  },
  {
   "cell_type": "code",
   "execution_count": 51,
   "metadata": {
    "collapsed": false
   },
   "outputs": [],
   "source": [
    "movies_by_tag = movies.select(explode(movies.tags).alias(\"tag\"), \"movie_id\", \"name\")"
   ]
  },
  {
   "cell_type": "code",
   "execution_count": 53,
   "metadata": {
    "collapsed": false
   },
   "outputs": [],
   "source": [
    "writer(movies_by_tag, \"movies_by_tag\")"
   ]
  },
  {
   "cell_type": "code",
   "execution_count": 54,
   "metadata": {
    "collapsed": false
   },
   "outputs": [
    {
     "data": {
      "text/plain": [
       "[Row(tag=u'Adventure', movie_id=u'1', name=u'Toy Story (1995)'),\n",
       " Row(tag=u'Animation', movie_id=u'1', name=u'Toy Story (1995)'),\n",
       " Row(tag=u'Children', movie_id=u'1', name=u'Toy Story (1995)'),\n",
       " Row(tag=u'Comedy', movie_id=u'1', name=u'Toy Story (1995)'),\n",
       " Row(tag=u'Fantasy', movie_id=u'1', name=u'Toy Story (1995)'),\n",
       " Row(tag=u'Adventure', movie_id=u'2', name=u'Jumanji (1995)'),\n",
       " Row(tag=u'Children', movie_id=u'2', name=u'Jumanji (1995)'),\n",
       " Row(tag=u'Fantasy', movie_id=u'2', name=u'Jumanji (1995)'),\n",
       " Row(tag=u'Comedy', movie_id=u'3', name=u'Grumpier Old Men (1995)'),\n",
       " Row(tag=u'Romance', movie_id=u'3', name=u'Grumpier Old Men (1995)')]"
      ]
     },
     "execution_count": 54,
     "metadata": {},
     "output_type": "execute_result"
    }
   ],
   "source": [
    "movies_by_tag.head(10)"
   ]
  },
  {
   "cell_type": "code",
   "execution_count": 55,
   "metadata": {
    "collapsed": false
   },
   "outputs": [
    {
     "data": {
      "text/plain": [
       "[u'movie_id', u'rating']"
      ]
     },
     "execution_count": 55,
     "metadata": {},
     "output_type": "execute_result"
    }
   ],
   "source": [
    "aggregated_ratings.columns"
   ]
  },
  {
   "cell_type": "code",
   "execution_count": 56,
   "metadata": {
    "collapsed": false
   },
   "outputs": [
    {
     "data": {
      "text/plain": [
       "[Row(movie_id=u'26649', name=u'Lonesome Dove (1989)', rating=4.3076923076923075),\n",
       " Row(movie_id=u'908', name=u'North by Northwest (1959)', rating=4.261366341347299),\n",
       " Row(movie_id=u'1198', name=u'Raiders of the Lost Ark (Indiana Jones and the Raiders of the Lost Ark) (1981)', rating=4.261317249919736),\n",
       " Row(movie_id=u'25789', name=u'Shanghai Express (1932)', rating=4.25),\n",
       " Row(movie_id=u'720', name=u'Wallace & Gromit: The Best of Aardman Animation (1996)', rating=4.22979797979798),\n",
       " Row(movie_id=u'260', name=u'Star Wars: Episode IV - A New Hope (a.k.a. Star Wars) (1977)', rating=4.2202093397745575),\n",
       " Row(movie_id=u'1204', name=u'Lawrence of Arabia (1962)', rating=4.209582164476598),\n",
       " Row(movie_id=u'1196', name=u'Star Wars: Episode V - The Empire Strikes Back (1980)', rating=4.1943614395218916),\n",
       " Row(movie_id=u'1197', name=u'Princess Bride, The (1987)', rating=4.194158595641646),\n",
       " Row(movie_id=u'5618', name=u'Spirited Away (Sen to Chihiro no kamikakushi) (2001)', rating=4.186452947259566)]"
      ]
     },
     "execution_count": 56,
     "metadata": {},
     "output_type": "execute_result"
    }
   ],
   "source": [
    "#joined = movies.join(movies_by_tag, movies.movie_id == movies_by_tag.movie_id)\n",
    "movies_by_tag.where(movies_by_tag.tag == \"Adventure\").\\\n",
    "              join(aggregated_ratings, movies_by_tag.movie_id==aggregated_ratings.movie_id).\\\n",
    "              orderBy(aggregated_ratings.rating, ascending=False).\\\n",
    "              select(movies_by_tag.movie_id, movies_by_tag.name, aggregated_ratings.rating).\\\n",
    "              limit(10).collect()"
   ]
  },
  {
   "cell_type": "code",
   "execution_count": 60,
   "metadata": {
    "collapsed": false
   },
   "outputs": [
    {
     "name": "stdout",
     "output_type": "stream",
     "text": [
      "+---------+--------+--------------------+\n",
      "|      tag|movie_id|                name|\n",
      "+---------+--------+--------------------+\n",
      "|Adventure|       1|    Toy Story (1995)|\n",
      "|Animation|       1|    Toy Story (1995)|\n",
      "| Children|       1|    Toy Story (1995)|\n",
      "|   Comedy|       1|    Toy Story (1995)|\n",
      "|  Fantasy|       1|    Toy Story (1995)|\n",
      "|Adventure|       2|      Jumanji (1995)|\n",
      "| Children|       2|      Jumanji (1995)|\n",
      "|  Fantasy|       2|      Jumanji (1995)|\n",
      "|   Comedy|       3|Grumpier Old Men ...|\n",
      "|  Romance|       3|Grumpier Old Men ...|\n",
      "|   Comedy|       4|Waiting to Exhale...|\n",
      "|    Drama|       4|Waiting to Exhale...|\n",
      "|  Romance|       4|Waiting to Exhale...|\n",
      "|   Comedy|       5|Father of the Bri...|\n",
      "|   Action|       6|         Heat (1995)|\n",
      "|    Crime|       6|         Heat (1995)|\n",
      "| Thriller|       6|         Heat (1995)|\n",
      "|   Comedy|       7|      Sabrina (1995)|\n",
      "|  Romance|       7|      Sabrina (1995)|\n",
      "|Adventure|       8| Tom and Huck (1995)|\n",
      "+---------+--------+--------------------+\n",
      "\n"
     ]
    }
   ],
   "source": [
    "movies_by_tag.show()"
   ]
  },
  {
   "cell_type": "markdown",
   "metadata": {},
   "source": [
    "# Pandas and Matplotlib"
   ]
  },
  {
   "cell_type": "code",
   "execution_count": 78,
   "metadata": {
    "collapsed": false
   },
   "outputs": [],
   "source": [
    "top_tags = movies.select(explode(movies.tags).alias(\"tag\")).\\\n",
    "                  groupBy(\"tag\").count().\\\n",
    "                  orderBy(\"count\", ascending=False).limit(10)"
   ]
  },
  {
   "cell_type": "code",
   "execution_count": 82,
   "metadata": {
    "collapsed": true
   },
   "outputs": [],
   "source": [
    "%matplotlib inline"
   ]
  },
  {
   "cell_type": "code",
   "execution_count": 86,
   "metadata": {
    "collapsed": false
   },
   "outputs": [
    {
     "data": {
      "text/html": [
       "<div>\n",
       "<table border=\"1\" class=\"dataframe\">\n",
       "  <thead>\n",
       "    <tr style=\"text-align: right;\">\n",
       "      <th></th>\n",
       "      <th>tag</th>\n",
       "      <th>count</th>\n",
       "    </tr>\n",
       "  </thead>\n",
       "  <tbody>\n",
       "    <tr>\n",
       "      <th>0</th>\n",
       "      <td>Drama</td>\n",
       "      <td>5339</td>\n",
       "    </tr>\n",
       "    <tr>\n",
       "      <th>1</th>\n",
       "      <td>Comedy</td>\n",
       "      <td>3703</td>\n",
       "    </tr>\n",
       "    <tr>\n",
       "      <th>2</th>\n",
       "      <td>Thriller</td>\n",
       "      <td>1706</td>\n",
       "    </tr>\n",
       "    <tr>\n",
       "      <th>3</th>\n",
       "      <td>Romance</td>\n",
       "      <td>1685</td>\n",
       "    </tr>\n",
       "    <tr>\n",
       "      <th>4</th>\n",
       "      <td>Action</td>\n",
       "      <td>1473</td>\n",
       "    </tr>\n",
       "    <tr>\n",
       "      <th>5</th>\n",
       "      <td>Crime</td>\n",
       "      <td>1118</td>\n",
       "    </tr>\n",
       "    <tr>\n",
       "      <th>6</th>\n",
       "      <td>Adventure</td>\n",
       "      <td>1025</td>\n",
       "    </tr>\n",
       "    <tr>\n",
       "      <th>7</th>\n",
       "      <td>Horror</td>\n",
       "      <td>1013</td>\n",
       "    </tr>\n",
       "    <tr>\n",
       "      <th>8</th>\n",
       "      <td>Sci-Fi</td>\n",
       "      <td>754</td>\n",
       "    </tr>\n",
       "    <tr>\n",
       "      <th>9</th>\n",
       "      <td>Fantasy</td>\n",
       "      <td>543</td>\n",
       "    </tr>\n",
       "  </tbody>\n",
       "</table>\n",
       "</div>"
      ],
      "text/plain": [
       "         tag  count\n",
       "0      Drama   5339\n",
       "1     Comedy   3703\n",
       "2   Thriller   1706\n",
       "3    Romance   1685\n",
       "4     Action   1473\n",
       "5      Crime   1118\n",
       "6  Adventure   1025\n",
       "7     Horror   1013\n",
       "8     Sci-Fi    754\n",
       "9    Fantasy    543"
      ]
     },
     "execution_count": 86,
     "metadata": {},
     "output_type": "execute_result"
    }
   ],
   "source": [
    "tags = top_tags.toPandas()\n",
    "tags"
   ]
  },
  {
   "cell_type": "code",
   "execution_count": 84,
   "metadata": {
    "collapsed": false
   },
   "outputs": [
    {
     "data": {
      "text/html": [
       "<div>\n",
       "<table border=\"1\" class=\"dataframe\">\n",
       "  <thead>\n",
       "    <tr style=\"text-align: right;\">\n",
       "      <th></th>\n",
       "      <th>count</th>\n",
       "    </tr>\n",
       "    <tr>\n",
       "      <th>tag</th>\n",
       "      <th></th>\n",
       "    </tr>\n",
       "  </thead>\n",
       "  <tbody>\n",
       "    <tr>\n",
       "      <th>Drama</th>\n",
       "      <td>5339</td>\n",
       "    </tr>\n",
       "    <tr>\n",
       "      <th>Comedy</th>\n",
       "      <td>3703</td>\n",
       "    </tr>\n",
       "    <tr>\n",
       "      <th>Thriller</th>\n",
       "      <td>1706</td>\n",
       "    </tr>\n",
       "    <tr>\n",
       "      <th>Romance</th>\n",
       "      <td>1685</td>\n",
       "    </tr>\n",
       "    <tr>\n",
       "      <th>Action</th>\n",
       "      <td>1473</td>\n",
       "    </tr>\n",
       "    <tr>\n",
       "      <th>Crime</th>\n",
       "      <td>1118</td>\n",
       "    </tr>\n",
       "    <tr>\n",
       "      <th>Adventure</th>\n",
       "      <td>1025</td>\n",
       "    </tr>\n",
       "    <tr>\n",
       "      <th>Horror</th>\n",
       "      <td>1013</td>\n",
       "    </tr>\n",
       "    <tr>\n",
       "      <th>Sci-Fi</th>\n",
       "      <td>754</td>\n",
       "    </tr>\n",
       "    <tr>\n",
       "      <th>Fantasy</th>\n",
       "      <td>543</td>\n",
       "    </tr>\n",
       "  </tbody>\n",
       "</table>\n",
       "</div>"
      ],
      "text/plain": [
       "           count\n",
       "tag             \n",
       "Drama       5339\n",
       "Comedy      3703\n",
       "Thriller    1706\n",
       "Romance     1685\n",
       "Action      1473\n",
       "Crime       1118\n",
       "Adventure   1025\n",
       "Horror      1013\n",
       "Sci-Fi       754\n",
       "Fantasy      543"
      ]
     },
     "execution_count": 84,
     "metadata": {},
     "output_type": "execute_result"
    }
   ],
   "source": [
    "tags.set_index(\"tag\")"
   ]
  },
  {
   "cell_type": "code",
   "execution_count": 85,
   "metadata": {
    "collapsed": false
   },
   "outputs": [
    {
     "data": {
      "text/plain": [
       "<matplotlib.axes._subplots.AxesSubplot at 0x109217150>"
      ]
     },
     "execution_count": 85,
     "metadata": {},
     "output_type": "execute_result"
    },
    {
     "data": {
      "image/png": "[encoded data removed]",
      "text/plain": [
       "<matplotlib.figure.Figure at 0x109286610>"
      ]
     },
     "metadata": {},
     "output_type": "display_data"
    }
   ],
   "source": [
    "tags.set_index(\"tag\").plot(kind='bar')"
   ]
  },
  {
   "cell_type": "markdown",
   "metadata": {
    "collapsed": true
   },
   "source": [
    "# Streaming"
   ]
  },
  {
   "cell_type": "code",
   "execution_count": 49,
   "metadata": {
    "collapsed": false
   },
   "outputs": [
    {
     "name": "stdout",
     "output_type": "stream",
     "text": [
      "549588d9-29de-11e5-9252-3c15c2c26c1e\n"
     ]
    }
   ],
   "source": [
    "from pyspark.sql import Row\n",
    "ts = str(uuid1())\n",
    "print ts\n",
    "data = [Row(movie_id=329, rating=4, user_id=53974, ts=ts), \n",
    "        Row(movie_id=329, rating=3, user_id=4324, ts=ts), \n",
    "        Row(movie_id=329, rating=2, user_id=101, ts=ts), \n",
    "        Row(movie_id=329, rating=3, user_id=7192, ts=ts), \n",
    "        Row(movie_id=580, rating=4, user_id=2538, ts=ts), \n",
    "        Row(movie_id=250, rating=5, user_id=2678, ts=ts), \n",
    "        Row(movie_id=311, rating=1, user_id=1438, ts=ts), \n",
    "        Row(movie_id=856, rating=4, user_id=6376, ts=ts), \n",
    "        Row(movie_id=954, rating=3, user_id=1282, ts=ts), \n",
    "        Row(movie_id=20, rating=2, user_id=4412, ts=ts)]\n",
    "\n",
    "df = sql.createDataFrame(data)\n",
    "df.registerTempTable(\"ratings\")\n"
   ]
  },
  {
   "cell_type": "code",
   "execution_count": 57,
   "metadata": {
    "collapsed": false
   },
   "outputs": [],
   "source": [
    "movie_to_ts = sql.sql(\"select distinct movie_id, ts from ratings\")\n",
    "movie_to_ts.registerTempTable(\"movie_ts\")"
   ]
  },
  {
   "cell_type": "code",
   "execution_count": 54,
   "metadata": {
    "collapsed": false
   },
   "outputs": [
    {
     "data": {
      "text/plain": [
       "[Row(movie_id=329, ts=u'549588d9-29de-11e5-9252-3c15c2c26c1e'),\n",
       " Row(movie_id=250, ts=u'549588d9-29de-11e5-9252-3c15c2c26c1e'),\n",
       " Row(movie_id=580, ts=u'549588d9-29de-11e5-9252-3c15c2c26c1e'),\n",
       " Row(movie_id=856, ts=u'549588d9-29de-11e5-9252-3c15c2c26c1e'),\n",
       " Row(movie_id=954, ts=u'549588d9-29de-11e5-9252-3c15c2c26c1e'),\n",
       " Row(movie_id=311, ts=u'549588d9-29de-11e5-9252-3c15c2c26c1e'),\n",
       " Row(movie_id=20, ts=u'549588d9-29de-11e5-9252-3c15c2c26c1e')]"
      ]
     },
     "execution_count": 54,
     "metadata": {},
     "output_type": "execute_result"
    }
   ],
   "source": [
    "movie_to_ts.collect()"
   ]
  },
  {
   "cell_type": "code",
   "execution_count": 55,
   "metadata": {
    "collapsed": true
   },
   "outputs": [],
   "source": [
    "agg = sql.sql(\"SELECT movie_id, avg(rating) as a, count(rating) as c from ratings group by movie_id\")"
   ]
  },
  {
   "cell_type": "code",
   "execution_count": 56,
   "metadata": {
    "collapsed": true
   },
   "outputs": [],
   "source": [
    "agg.registerTempTable(\"movie_aggregates\")"
   ]
  },
  {
   "cell_type": "code",
   "execution_count": 52,
   "metadata": {
    "collapsed": false
   },
   "outputs": [
    {
     "data": {
      "text/plain": [
       "[Row(movie_id=250, c1=5.0, c2=1),\n",
       " Row(movie_id=856, c1=4.0, c2=1),\n",
       " Row(movie_id=311, c1=1.0, c2=1),\n",
       " Row(movie_id=329, c1=3.0, c2=4),\n",
       " Row(movie_id=954, c1=3.0, c2=1),\n",
       " Row(movie_id=580, c1=4.0, c2=1),\n",
       " Row(movie_id=20, c1=2.0, c2=1)]"
      ]
     },
     "execution_count": 52,
     "metadata": {},
     "output_type": "execute_result"
    }
   ],
   "source": [
    "agg.collect()"
   ]
  },
  {
   "cell_type": "code",
   "execution_count": 59,
   "metadata": {
    "collapsed": false
   },
   "outputs": [
    {
     "data": {
      "text/plain": [
       "[Row(movie_id=250, a=5.0, c=1, ts=u'549588d9-29de-11e5-9252-3c15c2c26c1e'),\n",
       " Row(movie_id=856, a=4.0, c=1, ts=u'549588d9-29de-11e5-9252-3c15c2c26c1e'),\n",
       " Row(movie_id=311, a=1.0, c=1, ts=u'549588d9-29de-11e5-9252-3c15c2c26c1e'),\n",
       " Row(movie_id=329, a=3.0, c=4, ts=u'549588d9-29de-11e5-9252-3c15c2c26c1e'),\n",
       " Row(movie_id=954, a=3.0, c=1, ts=u'549588d9-29de-11e5-9252-3c15c2c26c1e'),\n",
       " Row(movie_id=580, a=4.0, c=1, ts=u'549588d9-29de-11e5-9252-3c15c2c26c1e'),\n",
       " Row(movie_id=20, a=2.0, c=1, ts=u'549588d9-29de-11e5-9252-3c15c2c26c1e')]"
      ]
     },
     "execution_count": 59,
     "metadata": {},
     "output_type": "execute_result"
    }
   ],
   "source": [
    "sql.sql(\"select a.movie_id, a.a, a.c, b.ts as ts from movie_aggregates a join movie_ts b on a.movie_id = b.movie_id  \").collect()"
   ]
  },
  {
   "cell_type": "code",
   "execution_count": 20,
   "metadata": {
    "collapsed": true
   },
   "outputs": [],
   "source": [
    "from pyspark.sql import functions as F"
   ]
  },
  {
   "cell_type": "code",
   "execution_count": 35,
   "metadata": {
    "collapsed": false
   },
   "outputs": [
    {
     "ename": "Py4JJavaError",
     "evalue": "An error occurred while calling o473.fill.\n: org.apache.spark.sql.AnalysisException: Cannot resolve column name \"timestamp\" among (movie_id, rating, user_id);\n\tat org.apache.spark.sql.DataFrame$$anonfun$resolve$1.apply(DataFrame.scala:159)\n\tat org.apache.spark.sql.DataFrame$$anonfun$resolve$1.apply(DataFrame.scala:159)\n\tat scala.Option.getOrElse(Option.scala:120)\n\tat org.apache.spark.sql.DataFrame.resolve(DataFrame.scala:158)\n\tat org.apache.spark.sql.DataFrameNaFunctions$$anonfun$fill0$1.apply(DataFrameNaFunctions.scala:364)\n\tat org.apache.spark.sql.DataFrameNaFunctions$$anonfun$fill0$1.apply(DataFrameNaFunctions.scala:362)\n\tat scala.collection.mutable.ResizableArray$class.foreach(ResizableArray.scala:59)\n\tat scala.collection.mutable.ArrayBuffer.foreach(ArrayBuffer.scala:47)\n\tat org.apache.spark.sql.DataFrameNaFunctions.fill0(DataFrameNaFunctions.scala:362)\n\tat org.apache.spark.sql.DataFrameNaFunctions.fill(DataFrameNaFunctions.scala:210)\n\tat sun.reflect.NativeMethodAccessorImpl.invoke0(Native Method)\n\tat sun.reflect.NativeMethodAccessorImpl.invoke(NativeMethodAccessorImpl.java:62)\n\tat sun.reflect.DelegatingMethodAccessorImpl.invoke(DelegatingMethodAccessorImpl.java:43)\n\tat java.lang.reflect.Method.invoke(Method.java:497)\n\tat py4j.reflection.MethodInvoker.invoke(MethodInvoker.java:231)\n\tat py4j.reflection.ReflectionEngine.invoke(ReflectionEngine.java:379)\n\tat py4j.Gateway.invoke(Gateway.java:259)\n\tat py4j.commands.AbstractCommand.invokeMethod(AbstractCommand.java:133)\n\tat py4j.commands.CallCommand.execute(CallCommand.java:79)\n\tat py4j.GatewayConnection.run(GatewayConnection.java:207)\n\tat java.lang.Thread.run(Thread.java:745)\n",
     "output_type": "error",
     "traceback": [
      "\u001b[0;31m---------------------------------------------------------------------------\u001b[0m",
      "\u001b[0;31mPy4JJavaError\u001b[0m                             Traceback (most recent call last)",
      "\u001b[0;32m<ipython-input-35-53bc4a75cc0c>\u001b[0m in \u001b[0;36m<module>\u001b[0;34m()\u001b[0m\n\u001b[1;32m      2\u001b[0m \u001b[0;32mfrom\u001b[0m \u001b[0muuid\u001b[0m \u001b[0;32mimport\u001b[0m \u001b[0muuid1\u001b[0m\u001b[0;34m\u001b[0m\u001b[0m\n\u001b[1;32m      3\u001b[0m \u001b[0;34m\u001b[0m\u001b[0m\n\u001b[0;32m----> 4\u001b[0;31m \u001b[0mdf\u001b[0m\u001b[0;34m.\u001b[0m\u001b[0mfillna\u001b[0m\u001b[0;34m(\u001b[0m\u001b[0;34m{\u001b[0m\u001b[0;34m\"timestamp\"\u001b[0m\u001b[0;34m:\u001b[0m\u001b[0mstr\u001b[0m\u001b[0;34m(\u001b[0m\u001b[0muuid1\u001b[0m\u001b[0;34m(\u001b[0m\u001b[0;34m)\u001b[0m\u001b[0;34m)\u001b[0m\u001b[0;34m}\u001b[0m\u001b[0;34m)\u001b[0m\u001b[0;34m.\u001b[0m\u001b[0mcollect\u001b[0m\u001b[0;34m(\u001b[0m\u001b[0;34m)\u001b[0m\u001b[0;34m\u001b[0m\u001b[0m\n\u001b[0m",
      "\u001b[0;32m/usr/local/spark-1.4.0-bin-cdh4/python/pyspark/sql/dataframe.pyc\u001b[0m in \u001b[0;36mfillna\u001b[0;34m(self, value, subset)\u001b[0m\n\u001b[1;32m   1017\u001b[0m \u001b[0;34m\u001b[0m\u001b[0m\n\u001b[1;32m   1018\u001b[0m         \u001b[0;32mif\u001b[0m \u001b[0misinstance\u001b[0m\u001b[0;34m(\u001b[0m\u001b[0mvalue\u001b[0m\u001b[0;34m,\u001b[0m \u001b[0mdict\u001b[0m\u001b[0;34m)\u001b[0m\u001b[0;34m:\u001b[0m\u001b[0;34m\u001b[0m\u001b[0m\n\u001b[0;32m-> 1019\u001b[0;31m             \u001b[0;32mreturn\u001b[0m \u001b[0mDataFrame\u001b[0m\u001b[0;34m(\u001b[0m\u001b[0mself\u001b[0m\u001b[0;34m.\u001b[0m\u001b[0m_jdf\u001b[0m\u001b[0;34m.\u001b[0m\u001b[0mna\u001b[0m\u001b[0;34m(\u001b[0m\u001b[0;34m)\u001b[0m\u001b[0;34m.\u001b[0m\u001b[0mfill\u001b[0m\u001b[0;34m(\u001b[0m\u001b[0mvalue\u001b[0m\u001b[0;34m)\u001b[0m\u001b[0;34m,\u001b[0m \u001b[0mself\u001b[0m\u001b[0;34m.\u001b[0m\u001b[0msql_ctx\u001b[0m\u001b[0;34m)\u001b[0m\u001b[0;34m\u001b[0m\u001b[0m\n\u001b[0m\u001b[1;32m   1020\u001b[0m         \u001b[0;32melif\u001b[0m \u001b[0msubset\u001b[0m \u001b[0;32mis\u001b[0m \u001b[0mNone\u001b[0m\u001b[0;34m:\u001b[0m\u001b[0;34m\u001b[0m\u001b[0m\n\u001b[1;32m   1021\u001b[0m             \u001b[0;32mreturn\u001b[0m \u001b[0mDataFrame\u001b[0m\u001b[0;34m(\u001b[0m\u001b[0mself\u001b[0m\u001b[0;34m.\u001b[0m\u001b[0m_jdf\u001b[0m\u001b[0;34m.\u001b[0m\u001b[0mna\u001b[0m\u001b[0;34m(\u001b[0m\u001b[0;34m)\u001b[0m\u001b[0;34m.\u001b[0m\u001b[0mfill\u001b[0m\u001b[0;34m(\u001b[0m\u001b[0mvalue\u001b[0m\u001b[0;34m)\u001b[0m\u001b[0;34m,\u001b[0m \u001b[0mself\u001b[0m\u001b[0;34m.\u001b[0m\u001b[0msql_ctx\u001b[0m\u001b[0;34m)\u001b[0m\u001b[0;34m\u001b[0m\u001b[0m\n",
      "\u001b[0;32m/usr/local/spark-1.4.0-bin-cdh4/python/lib/py4j-0.8.2.1-src.zip/py4j/java_gateway.py\u001b[0m in \u001b[0;36m__call__\u001b[0;34m(self, *args)\u001b[0m\n\u001b[1;32m    536\u001b[0m         \u001b[0manswer\u001b[0m \u001b[0;34m=\u001b[0m \u001b[0mself\u001b[0m\u001b[0;34m.\u001b[0m\u001b[0mgateway_client\u001b[0m\u001b[0;34m.\u001b[0m\u001b[0msend_command\u001b[0m\u001b[0;34m(\u001b[0m\u001b[0mcommand\u001b[0m\u001b[0;34m)\u001b[0m\u001b[0;34m\u001b[0m\u001b[0m\n\u001b[1;32m    537\u001b[0m         return_value = get_return_value(answer, self.gateway_client,\n\u001b[0;32m--> 538\u001b[0;31m                 self.target_id, self.name)\n\u001b[0m\u001b[1;32m    539\u001b[0m \u001b[0;34m\u001b[0m\u001b[0m\n\u001b[1;32m    540\u001b[0m         \u001b[0;32mfor\u001b[0m \u001b[0mtemp_arg\u001b[0m \u001b[0;32min\u001b[0m \u001b[0mtemp_args\u001b[0m\u001b[0;34m:\u001b[0m\u001b[0;34m\u001b[0m\u001b[0m\n",
      "\u001b[0;32m/usr/local/spark-1.4.0-bin-cdh4/python/lib/py4j-0.8.2.1-src.zip/py4j/protocol.py\u001b[0m in \u001b[0;36mget_return_value\u001b[0;34m(answer, gateway_client, target_id, name)\u001b[0m\n\u001b[1;32m    298\u001b[0m                 raise Py4JJavaError(\n\u001b[1;32m    299\u001b[0m                     \u001b[0;34m'An error occurred while calling {0}{1}{2}.\\n'\u001b[0m\u001b[0;34m.\u001b[0m\u001b[0;34m\u001b[0m\u001b[0m\n\u001b[0;32m--> 300\u001b[0;31m                     format(target_id, '.', name), value)\n\u001b[0m\u001b[1;32m    301\u001b[0m             \u001b[0;32melse\u001b[0m\u001b[0;34m:\u001b[0m\u001b[0;34m\u001b[0m\u001b[0m\n\u001b[1;32m    302\u001b[0m                 raise Py4JError(\n",
      "\u001b[0;31mPy4JJavaError\u001b[0m: An error occurred while calling o473.fill.\n: org.apache.spark.sql.AnalysisException: Cannot resolve column name \"timestamp\" among (movie_id, rating, user_id);\n\tat org.apache.spark.sql.DataFrame$$anonfun$resolve$1.apply(DataFrame.scala:159)\n\tat org.apache.spark.sql.DataFrame$$anonfun$resolve$1.apply(DataFrame.scala:159)\n\tat scala.Option.getOrElse(Option.scala:120)\n\tat org.apache.spark.sql.DataFrame.resolve(DataFrame.scala:158)\n\tat org.apache.spark.sql.DataFrameNaFunctions$$anonfun$fill0$1.apply(DataFrameNaFunctions.scala:364)\n\tat org.apache.spark.sql.DataFrameNaFunctions$$anonfun$fill0$1.apply(DataFrameNaFunctions.scala:362)\n\tat scala.collection.mutable.ResizableArray$class.foreach(ResizableArray.scala:59)\n\tat scala.collection.mutable.ArrayBuffer.foreach(ArrayBuffer.scala:47)\n\tat org.apache.spark.sql.DataFrameNaFunctions.fill0(DataFrameNaFunctions.scala:362)\n\tat org.apache.spark.sql.DataFrameNaFunctions.fill(DataFrameNaFunctions.scala:210)\n\tat sun.reflect.NativeMethodAccessorImpl.invoke0(Native Method)\n\tat sun.reflect.NativeMethodAccessorImpl.invoke(NativeMethodAccessorImpl.java:62)\n\tat sun.reflect.DelegatingMethodAccessorImpl.invoke(DelegatingMethodAccessorImpl.java:43)\n\tat java.lang.reflect.Method.invoke(Method.java:497)\n\tat py4j.reflection.MethodInvoker.invoke(MethodInvoker.java:231)\n\tat py4j.reflection.ReflectionEngine.invoke(ReflectionEngine.java:379)\n\tat py4j.Gateway.invoke(Gateway.java:259)\n\tat py4j.commands.AbstractCommand.invokeMethod(AbstractCommand.java:133)\n\tat py4j.commands.CallCommand.execute(CallCommand.java:79)\n\tat py4j.GatewayConnection.run(GatewayConnection.java:207)\n\tat java.lang.Thread.run(Thread.java:745)\n"
     ]
    }
   ],
   "source": [
    "# adding a field to a dataframe\n",
    "from uuid import uuid1\n",
    "\n",
    "df.fillna({\"timestamp\":str(uuid1())}).collect()"
   ]
  },
  {
   "cell_type": "code",
   "execution_count": 24,
   "metadata": {
    "collapsed": false
   },
   "outputs": [
    {
     "data": {
      "text/plain": [
       "[Row(movie_id=250, avg=5.0, count=1),\n",
       " Row(movie_id=856, avg=4.0, count=1),\n",
       " Row(movie_id=709, avg=3.0, count=1),\n",
       " Row(movie_id=311, avg=1.0, count=1),\n",
       " Row(movie_id=324, avg=3.0, count=1),\n",
       " Row(movie_id=926, avg=2.0, count=1),\n",
       " Row(movie_id=329, avg=4.0, count=1),\n",
       " Row(movie_id=954, avg=3.0, count=1),\n",
       " Row(movie_id=580, avg=4.0, count=1),\n",
       " Row(movie_id=20, avg=2.0, count=1)]"
      ]
     },
     "execution_count": 24,
     "metadata": {},
     "output_type": "execute_result"
    }
   ],
   "source": [
    "df.groupBy(\"movie_id\").agg(F.avg(df.rating).alias('avg'), F.count(df.rating).alias('count')).collect()"
   ]
  },
  {
   "cell_type": "code",
   "execution_count": 34,
   "metadata": {
    "collapsed": false
   },
   "outputs": [],
   "source": [
    "agg = df.groupBy(\"movie_id\").\\\n",
    "   agg(F.avg(df.rating).alias(\"avg\"), \n",
    "       F.count(df.rating).alias('count'), \n",
    "       F.max(df.timestamp).alias(\"timestamp\"))"
   ]
  },
  {
   "cell_type": "code",
   "execution_count": 33,
   "metadata": {
    "collapsed": true
   },
   "outputs": [],
   "source": [
    "# create table movie_stream_ratings ( movie_id int, ts float, avg float, c int, primary key (movie_id, ts) );"
   ]
  },
  {
   "cell_type": "code",
   "execution_count": null,
   "metadata": {
    "collapsed": true
   },
   "outputs": [],
   "source": []
  },
  {
   "cell_type": "code",
   "execution_count": 40,
   "metadata": {
    "collapsed": false
   },
   "outputs": [
    {
     "ename": "Py4JJavaError",
     "evalue": "An error occurred while calling o411.save.\n: org.apache.spark.SparkException: Job aborted due to stage failure: Task 19 in stage 29.0 failed 4 times, most recent failure: Lost task 19.3 in stage 29.0 (TID 1690, 192.168.1.13): com.datastax.spark.connector.types.TypeConversionException: Cannot convert object 1436566541 of type class java.lang.Long to java.util.UUID.\n\tat com.datastax.spark.connector.types.TypeConverter$$anonfun$convert$1.apply(TypeConverter.scala:42)\n\tat com.datastax.spark.connector.types.TypeConverter$$anonfun$convert$1.apply(TypeConverter.scala:40)\n\tat com.datastax.spark.connector.types.TypeConverter$UUIDConverter$$anonfun$convertPF$18.applyOrElse(TypeConverter.scala:393)\n\tat com.datastax.spark.connector.types.TypeConverter$class.convert(TypeConverter.scala:40)\n\tat com.datastax.spark.connector.types.TypeConverter$UUIDConverter$.com$datastax$spark$connector$types$NullableTypeConverter$$super$convert(TypeConverter.scala:391)\n\tat com.datastax.spark.connector.types.NullableTypeConverter$class.convert(TypeConverter.scala:53)\n\tat com.datastax.spark.connector.types.TypeConverter$UUIDConverter$.convert(TypeConverter.scala:391)\n\tat com.datastax.spark.connector.types.TypeConverter$OptionToNullConverter$$anonfun$convertPF$26.applyOrElse(TypeConverter.scala:702)\n\tat com.datastax.spark.connector.types.TypeConverter$class.convert(TypeConverter.scala:40)\n\tat com.datastax.spark.connector.types.TypeConverter$OptionToNullConverter.com$datastax$spark$connector$types$NullableTypeConverter$$super$convert(TypeConverter.scala:695)\n\tat com.datastax.spark.connector.types.NullableTypeConverter$class.convert(TypeConverter.scala:53)\n\tat com.datastax.spark.connector.types.TypeConverter$OptionToNullConverter.convert(TypeConverter.scala:695)\n\tat com.datastax.spark.connector.writer.SqlRowWriter$$anonfun$readColumnValues$1.apply$mcVI$sp(SqlRowWriter.scala:21)\n\tat scala.collection.immutable.Range.foreach$mVc$sp(Range.scala:141)\n\tat com.datastax.spark.connector.writer.SqlRowWriter.readColumnValues(SqlRowWriter.scala:20)\n\tat com.datastax.spark.connector.writer.SqlRowWriter.readColumnValues(SqlRowWriter.scala:8)\n\tat com.datastax.spark.connector.writer.BoundStatementBuilder.bind(BoundStatementBuilder.scala:35)\n\tat com.datastax.spark.connector.writer.GroupingBatchBuilder.next(GroupingBatchBuilder.scala:106)\n\tat com.datastax.spark.connector.writer.GroupingBatchBuilder.next(GroupingBatchBuilder.scala:31)\n\tat scala.collection.Iterator$class.foreach(Iterator.scala:727)\n\tat com.datastax.spark.connector.writer.GroupingBatchBuilder.foreach(GroupingBatchBuilder.scala:31)\n\tat com.datastax.spark.connector.writer.TableWriter$$anonfun$write$1.apply(TableWriter.scala:155)\n\tat com.datastax.spark.connector.writer.TableWriter$$anonfun$write$1.apply(TableWriter.scala:139)\n\tat com.datastax.spark.connector.cql.CassandraConnector$$anonfun$withSessionDo$1.apply(CassandraConnector.scala:108)\n\tat com.datastax.spark.connector.cql.CassandraConnector$$anonfun$withSessionDo$1.apply(CassandraConnector.scala:107)\n\tat com.datastax.spark.connector.cql.CassandraConnector.closeResourceAfterUse(CassandraConnector.scala:137)\n\tat com.datastax.spark.connector.cql.CassandraConnector.withSessionDo(CassandraConnector.scala:107)\n\tat com.datastax.spark.connector.writer.TableWriter.write(TableWriter.scala:139)\n\tat com.datastax.spark.connector.RDDFunctions$$anonfun$saveToCassandra$1.apply(RDDFunctions.scala:36)\n\tat com.datastax.spark.connector.RDDFunctions$$anonfun$saveToCassandra$1.apply(RDDFunctions.scala:36)\n\tat org.apache.spark.scheduler.ResultTask.runTask(ResultTask.scala:63)\n\tat org.apache.spark.scheduler.Task.run(Task.scala:70)\n\tat org.apache.spark.executor.Executor$TaskRunner.run(Executor.scala:213)\n\tat java.util.concurrent.ThreadPoolExecutor.runWorker(ThreadPoolExecutor.java:1142)\n\tat java.util.concurrent.ThreadPoolExecutor$Worker.run(ThreadPoolExecutor.java:617)\n\tat java.lang.Thread.run(Thread.java:745)\n\nDriver stacktrace:\n\tat org.apache.spark.scheduler.DAGScheduler.org$apache$spark$scheduler$DAGScheduler$$failJobAndIndependentStages(DAGScheduler.scala:1266)\n\tat org.apache.spark.scheduler.DAGScheduler$$anonfun$abortStage$1.apply(DAGScheduler.scala:1257)\n\tat org.apache.spark.scheduler.DAGScheduler$$anonfun$abortStage$1.apply(DAGScheduler.scala:1256)\n\tat scala.collection.mutable.ResizableArray$class.foreach(ResizableArray.scala:59)\n\tat scala.collection.mutable.ArrayBuffer.foreach(ArrayBuffer.scala:47)\n\tat org.apache.spark.scheduler.DAGScheduler.abortStage(DAGScheduler.scala:1256)\n\tat org.apache.spark.scheduler.DAGScheduler$$anonfun$handleTaskSetFailed$1.apply(DAGScheduler.scala:730)\n\tat org.apache.spark.scheduler.DAGScheduler$$anonfun$handleTaskSetFailed$1.apply(DAGScheduler.scala:730)\n\tat scala.Option.foreach(Option.scala:236)\n\tat org.apache.spark.scheduler.DAGScheduler.handleTaskSetFailed(DAGScheduler.scala:730)\n\tat org.apache.spark.scheduler.DAGSchedulerEventProcessLoop.onReceive(DAGScheduler.scala:1450)\n\tat org.apache.spark.scheduler.DAGSchedulerEventProcessLoop.onReceive(DAGScheduler.scala:1411)\n\tat org.apache.spark.util.EventLoop$$anon$1.run(EventLoop.scala:48)\n",
     "output_type": "error",
     "traceback": [
      "\u001b[0;31m---------------------------------------------------------------------------\u001b[0m",
      "\u001b[0;31mPy4JJavaError\u001b[0m                             Traceback (most recent call last)",
      "\u001b[0;32m<ipython-input-40-526583502fec>\u001b[0m in \u001b[0;36m<module>\u001b[0;34m()\u001b[0m\n\u001b[0;32m----> 1\u001b[0;31m \u001b[0mwriter\u001b[0m\u001b[0;34m(\u001b[0m\u001b[0magg\u001b[0m\u001b[0;34m.\u001b[0m\u001b[0mselect\u001b[0m\u001b[0;34m(\u001b[0m\u001b[0;34m\"movie_id\"\u001b[0m\u001b[0;34m,\u001b[0m \u001b[0;34m\"timestamp\"\u001b[0m\u001b[0;34m,\u001b[0m \u001b[0;34m\"avg\"\u001b[0m\u001b[0;34m,\u001b[0m \u001b[0;34m\"count\"\u001b[0m\u001b[0;34m)\u001b[0m\u001b[0;34m,\u001b[0m \u001b[0;34m\"movie_stream_ratings\"\u001b[0m\u001b[0;34m)\u001b[0m\u001b[0;34m\u001b[0m\u001b[0m\n\u001b[0m",
      "\u001b[0;32m<ipython-input-36-ed8dca23e535>\u001b[0m in \u001b[0;36mwriter\u001b[0;34m(df, table)\u001b[0m\n\u001b[1;32m      1\u001b[0m \u001b[0;32mdef\u001b[0m \u001b[0mcreate_writer\u001b[0m\u001b[0;34m(\u001b[0m\u001b[0msql\u001b[0m\u001b[0;34m,\u001b[0m \u001b[0mkeyspace\u001b[0m\u001b[0;34m,\u001b[0m \u001b[0mmode\u001b[0m\u001b[0;34m=\u001b[0m\u001b[0;34m\"append\"\u001b[0m\u001b[0;34m)\u001b[0m\u001b[0;34m:\u001b[0m\u001b[0;34m\u001b[0m\u001b[0m\n\u001b[1;32m      2\u001b[0m     \u001b[0;32mdef\u001b[0m \u001b[0mwriter\u001b[0m\u001b[0;34m(\u001b[0m\u001b[0mdf\u001b[0m\u001b[0;34m,\u001b[0m \u001b[0mtable\u001b[0m\u001b[0;34m)\u001b[0m\u001b[0;34m:\u001b[0m\u001b[0;34m\u001b[0m\u001b[0m\n\u001b[0;32m----> 3\u001b[0;31m         \u001b[0mdf\u001b[0m\u001b[0;34m.\u001b[0m\u001b[0mwrite\u001b[0m\u001b[0;34m.\u001b[0m\u001b[0mformat\u001b[0m\u001b[0;34m(\u001b[0m\u001b[0;34m\"org.apache.spark.sql.cassandra\"\u001b[0m\u001b[0;34m)\u001b[0m\u001b[0;34m.\u001b[0m                 \u001b[0moptions\u001b[0m\u001b[0;34m(\u001b[0m\u001b[0mtable\u001b[0m\u001b[0;34m=\u001b[0m\u001b[0mtable\u001b[0m\u001b[0;34m,\u001b[0m \u001b[0mkeyspace\u001b[0m\u001b[0;34m=\u001b[0m\u001b[0mkeyspace\u001b[0m\u001b[0;34m)\u001b[0m\u001b[0;34m.\u001b[0m\u001b[0msave\u001b[0m\u001b[0;34m(\u001b[0m\u001b[0mmode\u001b[0m\u001b[0;34m=\u001b[0m\u001b[0;34m\"append\"\u001b[0m\u001b[0;34m)\u001b[0m\u001b[0;34m\u001b[0m\u001b[0m\n\u001b[0m\u001b[1;32m      4\u001b[0m     \u001b[0;32mreturn\u001b[0m \u001b[0mwriter\u001b[0m\u001b[0;34m\u001b[0m\u001b[0m\n\u001b[1;32m      5\u001b[0m \u001b[0;34m\u001b[0m\u001b[0m\n",
      "\u001b[0;32m/usr/local/spark-1.4.0-bin-hadoop1/python/pyspark/sql/readwriter.pyc\u001b[0m in \u001b[0;36msave\u001b[0;34m(self, path, format, mode, **options)\u001b[0m\n\u001b[1;32m    291\u001b[0m             \u001b[0mself\u001b[0m\u001b[0;34m.\u001b[0m\u001b[0mformat\u001b[0m\u001b[0;34m(\u001b[0m\u001b[0mformat\u001b[0m\u001b[0;34m)\u001b[0m\u001b[0;34m\u001b[0m\u001b[0m\n\u001b[1;32m    292\u001b[0m         \u001b[0;32mif\u001b[0m \u001b[0mpath\u001b[0m \u001b[0;32mis\u001b[0m \u001b[0mNone\u001b[0m\u001b[0;34m:\u001b[0m\u001b[0;34m\u001b[0m\u001b[0m\n\u001b[0;32m--> 293\u001b[0;31m             \u001b[0mself\u001b[0m\u001b[0;34m.\u001b[0m\u001b[0m_jwrite\u001b[0m\u001b[0;34m.\u001b[0m\u001b[0msave\u001b[0m\u001b[0;34m(\u001b[0m\u001b[0;34m)\u001b[0m\u001b[0;34m\u001b[0m\u001b[0m\n\u001b[0m\u001b[1;32m    294\u001b[0m         \u001b[0;32melse\u001b[0m\u001b[0;34m:\u001b[0m\u001b[0;34m\u001b[0m\u001b[0m\n\u001b[1;32m    295\u001b[0m             \u001b[0mself\u001b[0m\u001b[0;34m.\u001b[0m\u001b[0m_jwrite\u001b[0m\u001b[0;34m.\u001b[0m\u001b[0msave\u001b[0m\u001b[0;34m(\u001b[0m\u001b[0mpath\u001b[0m\u001b[0;34m)\u001b[0m\u001b[0;34m\u001b[0m\u001b[0m\n",
      "\u001b[0;32m/usr/local/spark-1.4.0-bin-hadoop1/python/lib/py4j-0.8.2.1-src.zip/py4j/java_gateway.py\u001b[0m in \u001b[0;36m__call__\u001b[0;34m(self, *args)\u001b[0m\n\u001b[1;32m    536\u001b[0m         \u001b[0manswer\u001b[0m \u001b[0;34m=\u001b[0m \u001b[0mself\u001b[0m\u001b[0;34m.\u001b[0m\u001b[0mgateway_client\u001b[0m\u001b[0;34m.\u001b[0m\u001b[0msend_command\u001b[0m\u001b[0;34m(\u001b[0m\u001b[0mcommand\u001b[0m\u001b[0;34m)\u001b[0m\u001b[0;34m\u001b[0m\u001b[0m\n\u001b[1;32m    537\u001b[0m         return_value = get_return_value(answer, self.gateway_client,\n\u001b[0;32m--> 538\u001b[0;31m                 self.target_id, self.name)\n\u001b[0m\u001b[1;32m    539\u001b[0m \u001b[0;34m\u001b[0m\u001b[0m\n\u001b[1;32m    540\u001b[0m         \u001b[0;32mfor\u001b[0m \u001b[0mtemp_arg\u001b[0m \u001b[0;32min\u001b[0m \u001b[0mtemp_args\u001b[0m\u001b[0;34m:\u001b[0m\u001b[0;34m\u001b[0m\u001b[0m\n",
      "\u001b[0;32m/usr/local/spark-1.4.0-bin-hadoop1/python/lib/py4j-0.8.2.1-src.zip/py4j/protocol.py\u001b[0m in \u001b[0;36mget_return_value\u001b[0;34m(answer, gateway_client, target_id, name)\u001b[0m\n\u001b[1;32m    298\u001b[0m                 raise Py4JJavaError(\n\u001b[1;32m    299\u001b[0m                     \u001b[0;34m'An error occurred while calling {0}{1}{2}.\\n'\u001b[0m\u001b[0;34m.\u001b[0m\u001b[0;34m\u001b[0m\u001b[0m\n\u001b[0;32m--> 300\u001b[0;31m                     format(target_id, '.', name), value)\n\u001b[0m\u001b[1;32m    301\u001b[0m             \u001b[0;32melse\u001b[0m\u001b[0;34m:\u001b[0m\u001b[0;34m\u001b[0m\u001b[0m\n\u001b[1;32m    302\u001b[0m                 raise Py4JError(\n",
      "\u001b[0;31mPy4JJavaError\u001b[0m: An error occurred while calling o411.save.\n: org.apache.spark.SparkException: Job aborted due to stage failure: Task 19 in stage 29.0 failed 4 times, most recent failure: Lost task 19.3 in stage 29.0 (TID 1690, 192.168.1.13): com.datastax.spark.connector.types.TypeConversionException: Cannot convert object 1436566541 of type class java.lang.Long to java.util.UUID.\n\tat com.datastax.spark.connector.types.TypeConverter$$anonfun$convert$1.apply(TypeConverter.scala:42)\n\tat com.datastax.spark.connector.types.TypeConverter$$anonfun$convert$1.apply(TypeConverter.scala:40)\n\tat com.datastax.spark.connector.types.TypeConverter$UUIDConverter$$anonfun$convertPF$18.applyOrElse(TypeConverter.scala:393)\n\tat com.datastax.spark.connector.types.TypeConverter$class.convert(TypeConverter.scala:40)\n\tat com.datastax.spark.connector.types.TypeConverter$UUIDConverter$.com$datastax$spark$connector$types$NullableTypeConverter$$super$convert(TypeConverter.scala:391)\n\tat com.datastax.spark.connector.types.NullableTypeConverter$class.convert(TypeConverter.scala:53)\n\tat com.datastax.spark.connector.types.TypeConverter$UUIDConverter$.convert(TypeConverter.scala:391)\n\tat com.datastax.spark.connector.types.TypeConverter$OptionToNullConverter$$anonfun$convertPF$26.applyOrElse(TypeConverter.scala:702)\n\tat com.datastax.spark.connector.types.TypeConverter$class.convert(TypeConverter.scala:40)\n\tat com.datastax.spark.connector.types.TypeConverter$OptionToNullConverter.com$datastax$spark$connector$types$NullableTypeConverter$$super$convert(TypeConverter.scala:695)\n\tat com.datastax.spark.connector.types.NullableTypeConverter$class.convert(TypeConverter.scala:53)\n\tat com.datastax.spark.connector.types.TypeConverter$OptionToNullConverter.convert(TypeConverter.scala:695)\n\tat com.datastax.spark.connector.writer.SqlRowWriter$$anonfun$readColumnValues$1.apply$mcVI$sp(SqlRowWriter.scala:21)\n\tat scala.collection.immutable.Range.foreach$mVc$sp(Range.scala:141)\n\tat com.datastax.spark.connector.writer.SqlRowWriter.readColumnValues(SqlRowWriter.scala:20)\n\tat com.datastax.spark.connector.writer.SqlRowWriter.readColumnValues(SqlRowWriter.scala:8)\n\tat com.datastax.spark.connector.writer.BoundStatementBuilder.bind(BoundStatementBuilder.scala:35)\n\tat com.datastax.spark.connector.writer.GroupingBatchBuilder.next(GroupingBatchBuilder.scala:106)\n\tat com.datastax.spark.connector.writer.GroupingBatchBuilder.next(GroupingBatchBuilder.scala:31)\n\tat scala.collection.Iterator$class.foreach(Iterator.scala:727)\n\tat com.datastax.spark.connector.writer.GroupingBatchBuilder.foreach(GroupingBatchBuilder.scala:31)\n\tat com.datastax.spark.connector.writer.TableWriter$$anonfun$write$1.apply(TableWriter.scala:155)\n\tat com.datastax.spark.connector.writer.TableWriter$$anonfun$write$1.apply(TableWriter.scala:139)\n\tat com.datastax.spark.connector.cql.CassandraConnector$$anonfun$withSessionDo$1.apply(CassandraConnector.scala:108)\n\tat com.datastax.spark.connector.cql.CassandraConnector$$anonfun$withSessionDo$1.apply(CassandraConnector.scala:107)\n\tat com.datastax.spark.connector.cql.CassandraConnector.closeResourceAfterUse(CassandraConnector.scala:137)\n\tat com.datastax.spark.connector.cql.CassandraConnector.withSessionDo(CassandraConnector.scala:107)\n\tat com.datastax.spark.connector.writer.TableWriter.write(TableWriter.scala:139)\n\tat com.datastax.spark.connector.RDDFunctions$$anonfun$saveToCassandra$1.apply(RDDFunctions.scala:36)\n\tat com.datastax.spark.connector.RDDFunctions$$anonfun$saveToCassandra$1.apply(RDDFunctions.scala:36)\n\tat org.apache.spark.scheduler.ResultTask.runTask(ResultTask.scala:63)\n\tat org.apache.spark.scheduler.Task.run(Task.scala:70)\n\tat org.apache.spark.executor.Executor$TaskRunner.run(Executor.scala:213)\n\tat java.util.concurrent.ThreadPoolExecutor.runWorker(ThreadPoolExecutor.java:1142)\n\tat java.util.concurrent.ThreadPoolExecutor$Worker.run(ThreadPoolExecutor.java:617)\n\tat java.lang.Thread.run(Thread.java:745)\n\nDriver stacktrace:\n\tat org.apache.spark.scheduler.DAGScheduler.org$apache$spark$scheduler$DAGScheduler$$failJobAndIndependentStages(DAGScheduler.scala:1266)\n\tat org.apache.spark.scheduler.DAGScheduler$$anonfun$abortStage$1.apply(DAGScheduler.scala:1257)\n\tat org.apache.spark.scheduler.DAGScheduler$$anonfun$abortStage$1.apply(DAGScheduler.scala:1256)\n\tat scala.collection.mutable.ResizableArray$class.foreach(ResizableArray.scala:59)\n\tat scala.collection.mutable.ArrayBuffer.foreach(ArrayBuffer.scala:47)\n\tat org.apache.spark.scheduler.DAGScheduler.abortStage(DAGScheduler.scala:1256)\n\tat org.apache.spark.scheduler.DAGScheduler$$anonfun$handleTaskSetFailed$1.apply(DAGScheduler.scala:730)\n\tat org.apache.spark.scheduler.DAGScheduler$$anonfun$handleTaskSetFailed$1.apply(DAGScheduler.scala:730)\n\tat scala.Option.foreach(Option.scala:236)\n\tat org.apache.spark.scheduler.DAGScheduler.handleTaskSetFailed(DAGScheduler.scala:730)\n\tat org.apache.spark.scheduler.DAGSchedulerEventProcessLoop.onReceive(DAGScheduler.scala:1450)\n\tat org.apache.spark.scheduler.DAGSchedulerEventProcessLoop.onReceive(DAGScheduler.scala:1411)\n\tat org.apache.spark.util.EventLoop$$anon$1.run(EventLoop.scala:48)\n"
     ]
    }
   ],
   "source": [
    "writer(agg.select(\"movie_id\", \"timestamp\", \"avg\", \"count\"), \"movie_stream_ratings\")"
   ]
  },
  {
   "cell_type": "code",
   "execution_count": null,
   "metadata": {
    "collapsed": true
   },
   "outputs": [],
   "source": []
  }
 ],
 "metadata": {
  "kernelspec": {
   "display_name": "Python 2",
   "language": "python",
   "name": "python2"
  },
  "language_info": {
   "codemirror_mode": {
    "name": "ipython",
    "version": 2
   },
   "file_extension": ".py",
   "mimetype": "text/x-python",
   "name": "python",
   "nbconvert_exporter": "python",
   "pygments_lexer": "ipython2",
   "version": "2.7.8"
  }
 },
 "nbformat": 4,
 "nbformat_minor": 0
}
