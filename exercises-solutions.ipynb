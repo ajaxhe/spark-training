{
 "cells": [
  {
   "cell_type": "markdown",
   "metadata": {},
   "source": [
    "# Connecting to Spark"
   ]
  },
  {
   "cell_type": "markdown",
   "metadata": {},
   "source": [
    "We're going to be using Python with DataFrames, which is only available in Spark 1.3 or later.  We're going to be using a recent version of open source spark.  To use it, you'll have to import the `SQLContext`."
   ]
  },
  {
   "cell_type": "code",
   "execution_count": 1,
   "metadata": {
    "collapsed": false
   },
   "outputs": [],
   "source": [
    "from pyspark.sql import SQLContext\n",
    "sql = SQLContext(sc)"
   ]
  },
  {
   "cell_type": "markdown",
   "metadata": {
    "collapsed": true
   },
   "source": [
    "Let's set up some common functions"
   ]
  },
  {
   "cell_type": "markdown",
   "metadata": {},
   "source": [
    "# Reading a table"
   ]
  },
  {
   "cell_type": "code",
   "execution_count": 2,
   "metadata": {
    "collapsed": false
   },
   "outputs": [],
   "source": [
    "user = sql.read.format(\"org.apache.spark.sql.cassandra\").\\\n",
    "               load(keyspace=\"training\", table=\"user\")"
   ]
  },
  {
   "cell_type": "markdown",
   "metadata": {},
   "source": [
    "# Display"
   ]
  },
  {
   "cell_type": "code",
   "execution_count": 3,
   "metadata": {
    "collapsed": false
   },
   "outputs": [
    {
     "data": {
      "text/plain": [
       "[Row(user_id=1, age=34, favorite_foods=[u'Bacon', u'Cheese'], name=u'Jon'),\n",
       " Row(user_id=2, age=22, favorite_foods=[u'Kale', u'Pizza', u'Wine'], name=u'Dani'),\n",
       " Row(user_id=4, age=1, favorite_foods=[u'Candy', u'Fear'], name=u'Baby Luke'),\n",
       " Row(user_id=3, age=108, favorite_foods=[u'Muffins', u'Pie', u'Steak'], name=u'Patrick'),\n",
       " Row(user_id=5, age=10, favorite_foods=[u'Anger'], name=u'Larry')]"
      ]
     },
     "execution_count": 3,
     "metadata": {},
     "output_type": "execute_result"
    }
   ],
   "source": [
    "user.collect()"
   ]
  },
  {
   "cell_type": "markdown",
   "metadata": {},
   "source": [
    "# Basic Filtering"
   ]
  },
  {
   "cell_type": "code",
   "execution_count": 15,
   "metadata": {
    "collapsed": true
   },
   "outputs": [],
   "source": [
    "from pyspark.sql.functions import *"
   ]
  },
  {
   "cell_type": "code",
   "execution_count": 4,
   "metadata": {
    "collapsed": false,
    "scrolled": true
   },
   "outputs": [
    {
     "data": {
      "text/plain": [
       "[Row(user_id=1, age=34, favorite_foods=[u'Bacon', u'Cheese'], name=u'Jon')]"
      ]
     },
     "execution_count": 4,
     "metadata": {},
     "output_type": "execute_result"
    }
   ],
   "source": [
    "user[user.name == \"Jon\"].collect()"
   ]
  },
  {
   "cell_type": "code",
   "execution_count": 5,
   "metadata": {
    "collapsed": false
   },
   "outputs": [],
   "source": [
    "tmp = user.age > 100"
   ]
  },
  {
   "cell_type": "code",
   "execution_count": 6,
   "metadata": {
    "collapsed": true
   },
   "outputs": [],
   "source": [
    "user.registerTempTable(\"user\")"
   ]
  },
  {
   "cell_type": "code",
   "execution_count": 7,
   "metadata": {
    "collapsed": false
   },
   "outputs": [],
   "source": [
    "tmp = sql.sql(\"SELECT * from user WHERE name = 'Larry' or age > 30\")"
   ]
  },
  {
   "cell_type": "code",
   "execution_count": 8,
   "metadata": {
    "collapsed": false
   },
   "outputs": [
    {
     "name": "stdout",
     "output_type": "stream",
     "text": [
      "Filter ((name#3 = Larry) || (age#1 > 30))\n",
      " PhysicalRDD [user_id#0,age#1,favorite_foods#2,name#3], MapPartitionsRDD[13] at executedPlan at NativeMethodAccessorImpl.java:-2\n",
      "\n"
     ]
    }
   ],
   "source": [
    "tmp.explain()"
   ]
  },
  {
   "cell_type": "code",
   "execution_count": 9,
   "metadata": {
    "collapsed": false
   },
   "outputs": [
    {
     "name": "stdout",
     "output_type": "stream",
     "text": [
      "+-------+---+--------------------+-----+\n",
      "|user_id|age|      favorite_foods| name|\n",
      "+-------+---+--------------------+-----+\n",
      "|      1| 34|ArrayBuffer(Bacon...|  Jon|\n",
      "|      5| 10|  ArrayBuffer(Anger)|Larry|\n",
      "+-------+---+--------------------+-----+\n",
      "\n"
     ]
    }
   ],
   "source": [
    "user.filter('name = \"Larry\" or name = \"Jon\"').show()"
   ]
  },
  {
   "cell_type": "code",
   "execution_count": 10,
   "metadata": {
    "collapsed": false
   },
   "outputs": [
    {
     "data": {
      "text/plain": [
       "[Row(user_id=3, age=108, favorite_foods=[u'Muffins', u'Pie', u'Steak'], name=u'Patrick'),\n",
       " Row(user_id=5, age=10, favorite_foods=[u'Anger'], name=u'Larry')]"
      ]
     },
     "execution_count": 10,
     "metadata": {},
     "output_type": "execute_result"
    }
   ],
   "source": [
    "user.filter(\"age > 100 or name = 'Larry'\").collect()"
   ]
  },
  {
   "cell_type": "code",
   "execution_count": 22,
   "metadata": {
    "collapsed": false
   },
   "outputs": [
    {
     "data": {
      "text/plain": [
       "[Row(user_id=1, name=u'Jon', food=u'Bacon')]"
      ]
     },
     "execution_count": 22,
     "metadata": {},
     "output_type": "execute_result"
    }
   ],
   "source": [
    "# Find users who like a certain food\n",
    "user.select(\"user_id\", \"name\", explode(user.favorite_foods).alias(\"food\")).where(\"food='Bacon'\").collect()"
   ]
  },
  {
   "cell_type": "markdown",
   "metadata": {},
   "source": [
    "# A nicer reader"
   ]
  },
  {
   "cell_type": "code",
   "execution_count": 23,
   "metadata": {
    "collapsed": false
   },
   "outputs": [],
   "source": [
    "def create_reader(sql, keyspace):\n",
    "    def reader(table):\n",
    "        df = sql.read.format(\"org.apache.spark.sql.cassandra\").\\\n",
    "               load(keyspace=keyspace, table=table)\n",
    "        return df\n",
    "    return reader\n",
    "\n",
    "reader = create_reader(sql, \"training\")"
   ]
  },
  {
   "cell_type": "markdown",
   "metadata": {},
   "source": [
    "# A Nicer Writer"
   ]
  },
  {
   "cell_type": "code",
   "execution_count": 24,
   "metadata": {
    "collapsed": false
   },
   "outputs": [],
   "source": [
    "def create_writer(sql, keyspace, mode=\"append\"):\n",
    "    def writer(df, table):\n",
    "        df.write.format(\"org.apache.spark.sql.cassandra\").\\\n",
    "                 options(table=table, keyspace=keyspace).save(mode=\"append\")\n",
    "    return writer\n",
    "\n",
    "writer = create_writer(sql, \"training\")"
   ]
  },
  {
   "cell_type": "markdown",
   "metadata": {
    "collapsed": true
   },
   "source": [
    "# Data Migrations"
   ]
  },
  {
   "cell_type": "code",
   "execution_count": 25,
   "metadata": {
    "collapsed": false
   },
   "outputs": [],
   "source": [
    "\n",
    "result = user.select(explode(user.favorite_foods).alias(\"food\"), \"user_id\")\n",
    "writer(result, \"favorite_foods_index\")"
   ]
  },
  {
   "cell_type": "markdown",
   "metadata": {
    "collapsed": false
   },
   "source": [
    "# SparkSQL\n",
    "\n",
    "Register dataframe as a table\n",
    "\n",
    "do whatever you want with it"
   ]
  },
  {
   "cell_type": "code",
   "execution_count": 26,
   "metadata": {
    "collapsed": true
   },
   "outputs": [],
   "source": [
    "user.registerTempTable(\"user\")"
   ]
  },
  {
   "cell_type": "code",
   "execution_count": 27,
   "metadata": {
    "collapsed": false
   },
   "outputs": [
    {
     "data": {
      "text/plain": [
       "[Row(user_id=1, age=34, favorite_foods=[u'Bacon', u'Cheese'], name=u'Jon'),\n",
       " Row(user_id=2, age=22, favorite_foods=[u'Kale', u'Pizza', u'Wine'], name=u'Dani'),\n",
       " Row(user_id=3, age=108, favorite_foods=[u'Muffins', u'Pie', u'Steak'], name=u'Patrick')]"
      ]
     },
     "execution_count": 27,
     "metadata": {},
     "output_type": "execute_result"
    }
   ],
   "source": [
    "sql.sql(\"select * from user where age > 15\").collect()"
   ]
  },
  {
   "cell_type": "markdown",
   "metadata": {},
   "source": [
    "# Load the movie lens data\n",
    "\n",
    "Dataset lives in ml-10M100K directory\n"
   ]
  },
  {
   "cell_type": "code",
   "execution_count": 28,
   "metadata": {
    "collapsed": false
   },
   "outputs": [],
   "source": [
    "movies = sc.textFile(\"ml-10M100K/movies.dat\").map(lambda x: x.split(\"::\") )"
   ]
  },
  {
   "cell_type": "code",
   "execution_count": 29,
   "metadata": {
    "collapsed": false
   },
   "outputs": [],
   "source": [
    "movies = movies.map(lambda (x,y,z): (x,y,z.split(\"|\")))"
   ]
  },
  {
   "cell_type": "code",
   "execution_count": 30,
   "metadata": {
    "collapsed": true
   },
   "outputs": [],
   "source": [
    "movies = movies.toDF([\"movie_id\", \"name\", \"tags\"])"
   ]
  },
  {
   "cell_type": "code",
   "execution_count": 31,
   "metadata": {
    "collapsed": true
   },
   "outputs": [],
   "source": [
    "movies.registerTempTable(\"movies\")"
   ]
  },
  {
   "cell_type": "code",
   "execution_count": 32,
   "metadata": {
    "collapsed": false
   },
   "outputs": [
    {
     "data": {
      "text/plain": [
       "[Row(movie_id=u'1', name=u'Toy Story (1995)', tags=[u'Adventure', u'Animation', u'Children', u'Comedy', u'Fantasy']),\n",
       " Row(movie_id=u'2', name=u'Jumanji (1995)', tags=[u'Adventure', u'Children', u'Fantasy']),\n",
       " Row(movie_id=u'3', name=u'Grumpier Old Men (1995)', tags=[u'Comedy', u'Romance']),\n",
       " Row(movie_id=u'4', name=u'Waiting to Exhale (1995)', tags=[u'Comedy', u'Drama', u'Romance']),\n",
       " Row(movie_id=u'5', name=u'Father of the Bride Part II (1995)', tags=[u'Comedy']),\n",
       " Row(movie_id=u'6', name=u'Heat (1995)', tags=[u'Action', u'Crime', u'Thriller']),\n",
       " Row(movie_id=u'7', name=u'Sabrina (1995)', tags=[u'Comedy', u'Romance']),\n",
       " Row(movie_id=u'8', name=u'Tom and Huck (1995)', tags=[u'Adventure', u'Children']),\n",
       " Row(movie_id=u'9', name=u'Sudden Death (1995)', tags=[u'Action']),\n",
       " Row(movie_id=u'10', name=u'GoldenEye (1995)', tags=[u'Action', u'Adventure', u'Thriller'])]"
      ]
     },
     "execution_count": 32,
     "metadata": {},
     "output_type": "execute_result"
    }
   ],
   "source": [
    "movies.head(10)"
   ]
  },
  {
   "cell_type": "code",
   "execution_count": 33,
   "metadata": {
    "collapsed": false
   },
   "outputs": [],
   "source": [
    "writer(movies, \"movie\")"
   ]
  },
  {
   "cell_type": "code",
   "execution_count": 34,
   "metadata": {
    "collapsed": false
   },
   "outputs": [
    {
     "name": "stdout",
     "output_type": "stream",
     "text": [
      "+--------+----------------+--------------------+\n",
      "|movie_id|            name|                tags|\n",
      "+--------+----------------+--------------------+\n",
      "|       1|Toy Story (1995)|ArrayBuffer(Adven...|\n",
      "+--------+----------------+--------------------+\n",
      "\n"
     ]
    }
   ],
   "source": [
    "sql.sql(\"SELECT * from movies where movie_id=1\").show()"
   ]
  },
  {
   "cell_type": "code",
   "execution_count": 35,
   "metadata": {
    "collapsed": false
   },
   "outputs": [
    {
     "name": "stdout",
     "output_type": "stream",
     "text": [
      "+--------+-------------------+--------------------+\n",
      "|movie_id|               name|                tags|\n",
      "+--------+-------------------+--------------------+\n",
      "|       1|   Toy Story (1995)|ArrayBuffer(Adven...|\n",
      "|    2253|        Toys (1992)|ArrayBuffer(Actio...|\n",
      "|    3114| Toy Story 2 (1999)|ArrayBuffer(Adven...|\n",
      "|    4929|    Toy, The (1982)| ArrayBuffer(Comedy)|\n",
      "|    5843|Toy Soldiers (1991)|ArrayBuffer(Actio...|\n",
      "+--------+-------------------+--------------------+\n",
      "\n"
     ]
    }
   ],
   "source": [
    "sql.sql(\"select * from movies where name like 'Toy%'\").show()"
   ]
  },
  {
   "cell_type": "code",
   "execution_count": 36,
   "metadata": {
    "collapsed": false
   },
   "outputs": [
    {
     "name": "stdout",
     "output_type": "stream",
     "text": [
      "+--------+--------------------+--------------------+\n",
      "|movie_id|                name|                tags|\n",
      "+--------+--------------------+--------------------+\n",
      "|     610|  Heavy Metal (1981)|ArrayBuffer(Actio...|\n",
      "|     681|Clean Slate (Coup...|  ArrayBuffer(Crime)|\n",
      "|    1033|Fox and the Hound...|ArrayBuffer(Anima...|\n",
      "|    1124|On Golden Pond (1...|  ArrayBuffer(Drama)|\n",
      "|    1129|Escape from New Y...|ArrayBuffer(Actio...|\n",
      "|    1198|Raiders of the Lo...|ArrayBuffer(Actio...|\n",
      "|    1233|Boat, The (Das Bo...|ArrayBuffer(Actio...|\n",
      "|    1264|         Diva (1981)|ArrayBuffer(Actio...|\n",
      "|    1321|American Werewolf...|ArrayBuffer(Comed...|\n",
      "|    1335|  Blood Beach (1981)|ArrayBuffer(Actio...|\n",
      "|    1663|      Stripes (1981)|ArrayBuffer(Comed...|\n",
      "|    1957|Chariots of Fire ...|  ArrayBuffer(Drama)|\n",
      "|    1975|Friday the 13th P...| ArrayBuffer(Horror)|\n",
      "|    1983| Halloween II (1981)| ArrayBuffer(Horror)|\n",
      "|    2041|    Condorman (1981)|ArrayBuffer(Actio...|\n",
      "|    2044|Devil and Max Dev...|ArrayBuffer(Comed...|\n",
      "|    2075|     Mephisto (1981)|ArrayBuffer(Drama...|\n",
      "|    2254|      Choices (1981)|  ArrayBuffer(Drama)|\n",
      "|    2301|History of the Wo...|ArrayBuffer(Comed...|\n",
      "|    2639|Mommie Dearest (1...|  ArrayBuffer(Drama)|\n",
      "+--------+--------------------+--------------------+\n",
      "\n"
     ]
    }
   ],
   "source": [
    "sql.sql(\"select * from movies where name like '%(1981)'\").show()"
   ]
  },
  {
   "cell_type": "code",
   "execution_count": 39,
   "metadata": {
    "collapsed": true
   },
   "outputs": [],
   "source": [
    "# UserID::MovieID::Rating::Timestamp\n",
    "ratings_rdd = sc.textFile(\"ml-10M100K/ratings.dat\").map(lambda x: x.split(\"::\") )"
   ]
  },
  {
   "cell_type": "code",
   "execution_count": 40,
   "metadata": {
    "collapsed": false
   },
   "outputs": [],
   "source": [
    "ratings = ratings_rdd.toDF([\"user_id\", \"movie_id\", \"rating\", \"timestamp\"])"
   ]
  },
  {
   "cell_type": "code",
   "execution_count": 42,
   "metadata": {
    "collapsed": false,
    "scrolled": true
   },
   "outputs": [],
   "source": [
    "ratings = ratings.select(\"movie_id\", \"user_id\", \"rating\", \"timestamp\")"
   ]
  },
  {
   "cell_type": "code",
   "execution_count": 43,
   "metadata": {
    "collapsed": false
   },
   "outputs": [],
   "source": [
    "writer(ratings, \"rating_by_movie\")"
   ]
  },
  {
   "cell_type": "markdown",
   "metadata": {},
   "source": [
    "# JOINS and Aggregations"
   ]
  },
  {
   "cell_type": "code",
   "execution_count": 44,
   "metadata": {
    "collapsed": true
   },
   "outputs": [],
   "source": [
    "ratings.registerTempTable(\"ratings\")"
   ]
  },
  {
   "cell_type": "code",
   "execution_count": 45,
   "metadata": {
    "collapsed": false
   },
   "outputs": [],
   "source": [
    "aggregated_ratings = sql.sql(\"select movie_id, avg(rating) as rating from ratings group by movie_id\")"
   ]
  },
  {
   "cell_type": "code",
   "execution_count": 46,
   "metadata": {
    "collapsed": false
   },
   "outputs": [],
   "source": [
    "aggregated_ratings.registerTempTable(\"average_ratings\")"
   ]
  },
  {
   "cell_type": "code",
   "execution_count": 47,
   "metadata": {
    "collapsed": false
   },
   "outputs": [],
   "source": [
    "writer(aggregated_ratings, \"average_rating\")"
   ]
  },
  {
   "cell_type": "code",
   "execution_count": 48,
   "metadata": {
    "collapsed": true
   },
   "outputs": [],
   "source": [
    "movies.registerTempTable('movie')"
   ]
  },
  {
   "cell_type": "code",
   "execution_count": 49,
   "metadata": {
    "collapsed": false
   },
   "outputs": [
    {
     "data": {
      "text/plain": [
       "[Row(movie_id=u'51209', name=u'Fighting Elegy (Kenka erejii) (1966)', tags=[u'Action', u'Comedy'], rating=5.0),\n",
       " Row(movie_id=u'33264', name=u\"Satan's Tango (S\\xe1t\\xe1ntang\\xf3) (1994)\", tags=[u'Drama'], rating=5.0),\n",
       " Row(movie_id=u'53355', name=u'Sun Alley (Sonnenallee) (1999)', tags=[u'Comedy', u'Romance'], rating=5.0),\n",
       " Row(movie_id=u'42783', name=u'Shadows of Forgotten Ancestors (1964)', tags=[u'Drama', u'Romance'], rating=5.0),\n",
       " Row(movie_id=u'64275', name=u'Blue Light, The (Das Blaue Licht) (1932)', tags=[u'Drama', u'Fantasy', u'Mystery'], rating=5.0),\n",
       " Row(movie_id=u'26048', name=u'Human Condition II, The (Ningen no joken II) (1959)', tags=[u'Drama', u'War'], rating=4.75),\n",
       " Row(movie_id=u'26073', name=u'Human Condition III, The (Ningen no joken III) (1961)', tags=[u'Drama', u'War'], rating=4.75),\n",
       " Row(movie_id=u'65001', name=u\"Constantine's Sword (2007)\", tags=[u'Documentary'], rating=4.75),\n",
       " Row(movie_id=u'4454', name=u'More (1998)', tags=[u'Animation', u'IMAX', u'Sci-Fi'], rating=4.75),\n",
       " Row(movie_id=u'5194', name=u\"Who's Singin' Over There? (a.k.a. Who Sings Over There) (Ko to tamo peva) (1980)\", tags=[u'Comedy'], rating=4.75),\n",
       " Row(movie_id=u'63808', name=u'Class, The (Entre les Murs) (2008)', tags=[u'Drama'], rating=4.666666666666667),\n",
       " Row(movie_id=u'5849', name=u\"I'm Starting From Three (Ricomincio da Tre) (1981)\", tags=[u'Comedy'], rating=4.666666666666667),\n",
       " Row(movie_id=u'32657', name=u\"Man Who Planted Trees, The (Homme qui plantait des arbres, L') (1987)\", tags=[u'Animation', u'Drama'], rating=4.571428571428571),\n",
       " Row(movie_id=u'25975', name=u'Life of Oharu, The (Saikaku ichidai onna) (1952)', tags=[u'Drama'], rating=4.5),\n",
       " Row(movie_id=u'7452', name=u'Mickey (2003)', tags=[u'Crime', u'Drama'], rating=4.5),\n",
       " Row(movie_id=u'50477', name=u\"Testament of Orpheus, The (Testament d'Orph\\xe9e) (1960)\", tags=[u'Drama'], rating=4.5),\n",
       " Row(movie_id=u'63179', name=u'Tokyo! (2008)', tags=[u'Drama'], rating=4.5),\n",
       " Row(movie_id=u'3226', name=u'Hellhounds on My Trail (1999)', tags=[u'Documentary'], rating=4.5),\n",
       " Row(movie_id=u'60990', name=u'End of Summer, The (Kohayagawa-ke no aki) (1961)', tags=[u'Drama'], rating=4.5),\n",
       " Row(movie_id=u'58185', name=u'Please Vote for Me (2007)', tags=[u'Children', u'Documentary'], rating=4.5)]"
      ]
     },
     "execution_count": 49,
     "metadata": {},
     "output_type": "execute_result"
    }
   ],
   "source": [
    "sql.sql(\"\"\"select movie.movie_id, name, tags, rating FROM movie join average_ratings on movie.movie_id = average_ratings.movie_id  order by rating desc limit 20\"\"\").collect()"
   ]
  },
  {
   "cell_type": "markdown",
   "metadata": {},
   "source": [
    "# Top movies for a tag"
   ]
  },
  {
   "cell_type": "code",
   "execution_count": 50,
   "metadata": {
    "collapsed": false
   },
   "outputs": [
    {
     "data": {
      "text/plain": [
       "[u'movie_id', u'name', u'tags']"
      ]
     },
     "execution_count": 50,
     "metadata": {},
     "output_type": "execute_result"
    }
   ],
   "source": [
    "movies.columns"
   ]
  },
  {
   "cell_type": "code",
   "execution_count": 51,
   "metadata": {
    "collapsed": false
   },
   "outputs": [],
   "source": [
    "movies_by_tag = movies.select(explode(movies.tags).alias(\"tag\"), \"movie_id\", \"name\")"
   ]
  },
  {
   "cell_type": "code",
   "execution_count": 53,
   "metadata": {
    "collapsed": false
   },
   "outputs": [],
   "source": [
    "writer(movies_by_tag, \"movies_by_tag\")"
   ]
  },
  {
   "cell_type": "code",
   "execution_count": 54,
   "metadata": {
    "collapsed": false
   },
   "outputs": [
    {
     "data": {
      "text/plain": [
       "[Row(tag=u'Adventure', movie_id=u'1', name=u'Toy Story (1995)'),\n",
       " Row(tag=u'Animation', movie_id=u'1', name=u'Toy Story (1995)'),\n",
       " Row(tag=u'Children', movie_id=u'1', name=u'Toy Story (1995)'),\n",
       " Row(tag=u'Comedy', movie_id=u'1', name=u'Toy Story (1995)'),\n",
       " Row(tag=u'Fantasy', movie_id=u'1', name=u'Toy Story (1995)'),\n",
       " Row(tag=u'Adventure', movie_id=u'2', name=u'Jumanji (1995)'),\n",
       " Row(tag=u'Children', movie_id=u'2', name=u'Jumanji (1995)'),\n",
       " Row(tag=u'Fantasy', movie_id=u'2', name=u'Jumanji (1995)'),\n",
       " Row(tag=u'Comedy', movie_id=u'3', name=u'Grumpier Old Men (1995)'),\n",
       " Row(tag=u'Romance', movie_id=u'3', name=u'Grumpier Old Men (1995)')]"
      ]
     },
     "execution_count": 54,
     "metadata": {},
     "output_type": "execute_result"
    }
   ],
   "source": [
    "movies_by_tag.head(10)"
   ]
  },
  {
   "cell_type": "code",
   "execution_count": 55,
   "metadata": {
    "collapsed": false
   },
   "outputs": [
    {
     "data": {
      "text/plain": [
       "[u'movie_id', u'rating']"
      ]
     },
     "execution_count": 55,
     "metadata": {},
     "output_type": "execute_result"
    }
   ],
   "source": [
    "aggregated_ratings.columns"
   ]
  },
  {
   "cell_type": "code",
   "execution_count": 56,
   "metadata": {
    "collapsed": false
   },
   "outputs": [
    {
     "data": {
      "text/plain": [
       "[Row(movie_id=u'26649', name=u'Lonesome Dove (1989)', rating=4.3076923076923075),\n",
       " Row(movie_id=u'908', name=u'North by Northwest (1959)', rating=4.261366341347299),\n",
       " Row(movie_id=u'1198', name=u'Raiders of the Lost Ark (Indiana Jones and the Raiders of the Lost Ark) (1981)', rating=4.261317249919736),\n",
       " Row(movie_id=u'25789', name=u'Shanghai Express (1932)', rating=4.25),\n",
       " Row(movie_id=u'720', name=u'Wallace & Gromit: The Best of Aardman Animation (1996)', rating=4.22979797979798),\n",
       " Row(movie_id=u'260', name=u'Star Wars: Episode IV - A New Hope (a.k.a. Star Wars) (1977)', rating=4.2202093397745575),\n",
       " Row(movie_id=u'1204', name=u'Lawrence of Arabia (1962)', rating=4.209582164476598),\n",
       " Row(movie_id=u'1196', name=u'Star Wars: Episode V - The Empire Strikes Back (1980)', rating=4.1943614395218916),\n",
       " Row(movie_id=u'1197', name=u'Princess Bride, The (1987)', rating=4.194158595641646),\n",
       " Row(movie_id=u'5618', name=u'Spirited Away (Sen to Chihiro no kamikakushi) (2001)', rating=4.186452947259566)]"
      ]
     },
     "execution_count": 56,
     "metadata": {},
     "output_type": "execute_result"
    }
   ],
   "source": [
    "#joined = movies.join(movies_by_tag, movies.movie_id == movies_by_tag.movie_id)\n",
    "movies_by_tag.where(movies_by_tag.tag == \"Adventure\").\\\n",
    "              join(aggregated_ratings, movies_by_tag.movie_id==aggregated_ratings.movie_id).\\\n",
    "              orderBy(aggregated_ratings.rating, ascending=False).\\\n",
    "              select(movies_by_tag.movie_id, movies_by_tag.name, aggregated_ratings.rating).\\\n",
    "              limit(10).collect()"
   ]
  },
  {
   "cell_type": "code",
   "execution_count": 60,
   "metadata": {
    "collapsed": false
   },
   "outputs": [
    {
     "name": "stdout",
     "output_type": "stream",
     "text": [
      "+---------+--------+--------------------+\n",
      "|      tag|movie_id|                name|\n",
      "+---------+--------+--------------------+\n",
      "|Adventure|       1|    Toy Story (1995)|\n",
      "|Animation|       1|    Toy Story (1995)|\n",
      "| Children|       1|    Toy Story (1995)|\n",
      "|   Comedy|       1|    Toy Story (1995)|\n",
      "|  Fantasy|       1|    Toy Story (1995)|\n",
      "|Adventure|       2|      Jumanji (1995)|\n",
      "| Children|       2|      Jumanji (1995)|\n",
      "|  Fantasy|       2|      Jumanji (1995)|\n",
      "|   Comedy|       3|Grumpier Old Men ...|\n",
      "|  Romance|       3|Grumpier Old Men ...|\n",
      "|   Comedy|       4|Waiting to Exhale...|\n",
      "|    Drama|       4|Waiting to Exhale...|\n",
      "|  Romance|       4|Waiting to Exhale...|\n",
      "|   Comedy|       5|Father of the Bri...|\n",
      "|   Action|       6|         Heat (1995)|\n",
      "|    Crime|       6|         Heat (1995)|\n",
      "| Thriller|       6|         Heat (1995)|\n",
      "|   Comedy|       7|      Sabrina (1995)|\n",
      "|  Romance|       7|      Sabrina (1995)|\n",
      "|Adventure|       8| Tom and Huck (1995)|\n",
      "+---------+--------+--------------------+\n",
      "\n"
     ]
    }
   ],
   "source": [
    "movies_by_tag.show()"
   ]
  },
  {
   "cell_type": "code",
   "execution_count": null,
   "metadata": {
    "collapsed": true
   },
   "outputs": [],
   "source": []
  }
 ],
 "metadata": {
  "kernelspec": {
   "display_name": "Python 2",
   "language": "python",
   "name": "python2"
  },
  "language_info": {
   "codemirror_mode": {
    "name": "ipython",
    "version": 2
   },
   "file_extension": ".py",
   "mimetype": "text/x-python",
   "name": "python",
   "nbconvert_exporter": "python",
   "pygments_lexer": "ipython2",
   "version": "2.7.8"
  }
 },
 "nbformat": 4,
 "nbformat_minor": 0
}
