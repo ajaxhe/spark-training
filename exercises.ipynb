{
 "cells": [
  {
   "cell_type": "markdown",
   "metadata": {},
   "source": [
    "Let's start with the basics."
   ]
  },
  {
   "cell_type": "markdown",
   "metadata": {},
   "source": [
    "# Connecting to Spark"
   ]
  },
  {
   "cell_type": "markdown",
   "metadata": {},
   "source": [
    "We're going to be using Python with DataFrames, which is only available in Spark 1.3 or later.  We're going to be using a recent version of open source spark.  To use it, you'll have to import the `SQLContext`."
   ]
  },
  {
   "cell_type": "code",
   "execution_count": 2,
   "metadata": {
    "collapsed": false
   },
   "outputs": [],
   "source": [
    "from pyspark.sql import SQLContext\n",
    "sql = SQLContext(sc)"
   ]
  },
  {
   "cell_type": "markdown",
   "metadata": {
    "collapsed": true
   },
   "source": [
    "Let's set up some common functions"
   ]
  },
  {
   "cell_type": "markdown",
   "metadata": {},
   "source": [
    "# Reading a table"
   ]
  },
  {
   "cell_type": "code",
   "execution_count": 3,
   "metadata": {
    "collapsed": false
   },
   "outputs": [],
   "source": [
    "user = sql.read.format(\"org.apache.spark.sql.cassandra\").\\\n",
    "               load(keyspace=\"training\", table=\"user\")"
   ]
  },
  {
   "cell_type": "markdown",
   "metadata": {},
   "source": [
    "# Display"
   ]
  },
  {
   "cell_type": "code",
   "execution_count": 4,
   "metadata": {
    "collapsed": false
   },
   "outputs": [
    {
     "data": {
      "text/plain": [
       "[Row(user_id=1, age=34, favorite_foods=[u'Bacon', u'Cheese'], name=u'Jon'),\n",
       " Row(user_id=2, age=22, favorite_foods=[u'Kale', u'Pizza', u'Wine'], name=u'Dani'),\n",
       " Row(user_id=4, age=1, favorite_foods=[u'Candy', u'Fear'], name=u'Baby Luke'),\n",
       " Row(user_id=3, age=108, favorite_foods=[u'Muffins', u'Pie', u'Steak'], name=u'Patrick'),\n",
       " Row(user_id=5, age=10, favorite_foods=[u'Anger'], name=u'Larry')]"
      ]
     },
     "execution_count": 4,
     "metadata": {},
     "output_type": "execute_result"
    }
   ],
   "source": [
    "user.collect()"
   ]
  },
  {
   "cell_type": "markdown",
   "metadata": {},
   "source": [
    "# Basic Filtering"
   ]
  },
  {
   "cell_type": "code",
   "execution_count": 5,
   "metadata": {
    "collapsed": false
   },
   "outputs": [
    {
     "data": {
      "text/plain": [
       "[Row(user_id=3, age=108, favorite_foods=[u'Muffins', u'Pie', u'Steak'], name=u'Patrick')]"
      ]
     },
     "execution_count": 5,
     "metadata": {},
     "output_type": "execute_result"
    }
   ],
   "source": [
    "user[user.age > 35].collect()"
   ]
  },
  {
   "cell_type": "code",
   "execution_count": 6,
   "metadata": {
    "collapsed": false
   },
   "outputs": [
    {
     "data": {
      "text/plain": [
       "[Row(user_id=4, age=1, favorite_foods=[u'Candy', u'Fear'], name=u'Baby Luke')]"
      ]
     },
     "execution_count": 6,
     "metadata": {},
     "output_type": "execute_result"
    }
   ],
   "source": [
    "user[user.age < 20 and user.name.startswith(\"Baby\") ].collect()"
   ]
  },
  {
   "cell_type": "markdown",
   "metadata": {},
   "source": [
    "# A nicer reader"
   ]
  },
  {
   "cell_type": "code",
   "execution_count": 7,
   "metadata": {
    "collapsed": false
   },
   "outputs": [],
   "source": [
    "def create_reader(sql, keyspace):\n",
    "    def reader(table):\n",
    "        df = sql.read.format(\"org.apache.spark.sql.cassandra\").\\\n",
    "               load(keyspace=keyspace, table=table)\n",
    "        return df\n",
    "    return reader\n",
    "\n",
    "training_reader = create_reader(sql, \"training\")"
   ]
  },
  {
   "cell_type": "markdown",
   "metadata": {},
   "source": [
    "# A Nicer Writer"
   ]
  },
  {
   "cell_type": "code",
   "execution_count": 8,
   "metadata": {
    "collapsed": false
   },
   "outputs": [],
   "source": [
    "def create_writer(sql, keyspace, mode=\"append\"):\n",
    "    def writer(df, table):\n",
    "        df.write.format(\"org.apache.spark.sql.cassandra\").\\\n",
    "                 options(table=table, keyspace=keyspace).save(mode=\"append\")\n",
    "    return writer\n",
    "\n",
    "training_writer = create_writer(sql, \"training\")"
   ]
  },
  {
   "cell_type": "markdown",
   "metadata": {},
   "source": [
    "# Aggregations"
   ]
  },
  {
   "cell_type": "code",
   "execution_count": 9,
   "metadata": {
    "collapsed": false
   },
   "outputs": [],
   "source": [
    "user = training_reader(\"user\")"
   ]
  },
  {
   "cell_type": "markdown",
   "metadata": {},
   "source": [
    "# Working with Collections"
   ]
  },
  {
   "cell_type": "markdown",
   "metadata": {
    "collapsed": true
   },
   "source": [
    "# Migrating to a new structure"
   ]
  },
  {
   "cell_type": "code",
   "execution_count": 11,
   "metadata": {
    "collapsed": false
   },
   "outputs": [],
   "source": [
    "from pyspark.sql.functions import *\n",
    "result = user.select(explode(user.favorite_foods).alias(\"food\"), \"user_id\")\n",
    "training_writer(result, \"favorite_foods_index\")"
   ]
  },
  {
   "cell_type": "markdown",
   "metadata": {
    "collapsed": false
   },
   "source": [
    "# SparkSQL\n",
    "\n",
    "Register dataframe as a table\n",
    "\n",
    "do whatever you want with it"
   ]
  },
  {
   "cell_type": "code",
   "execution_count": 12,
   "metadata": {
    "collapsed": true
   },
   "outputs": [],
   "source": [
    "user.registerTempTable(\"user\")"
   ]
  },
  {
   "cell_type": "code",
   "execution_count": 13,
   "metadata": {
    "collapsed": false
   },
   "outputs": [
    {
     "data": {
      "text/plain": [
       "[Row(user_id=1, age=34, favorite_foods=[u'Bacon', u'Cheese'], name=u'Jon'),\n",
       " Row(user_id=2, age=22, favorite_foods=[u'Kale', u'Pizza', u'Wine'], name=u'Dani'),\n",
       " Row(user_id=3, age=108, favorite_foods=[u'Muffins', u'Pie', u'Steak'], name=u'Patrick')]"
      ]
     },
     "execution_count": 13,
     "metadata": {},
     "output_type": "execute_result"
    }
   ],
   "source": [
    "sql.sql(\"select * from user where age > 15\").collect()"
   ]
  },
  {
   "cell_type": "markdown",
   "metadata": {},
   "source": [
    "# Load the movie lens data\n",
    "\n",
    "Dataset lives in ml-10M100K directory\n"
   ]
  },
  {
   "cell_type": "code",
   "execution_count": 14,
   "metadata": {
    "collapsed": false
   },
   "outputs": [],
   "source": [
    "movies = sc.textFile(\"ml-10M100K/movies.dat\").map(lambda x: x.split(\"::\") )"
   ]
  },
  {
   "cell_type": "code",
   "execution_count": 15,
   "metadata": {
    "collapsed": false
   },
   "outputs": [],
   "source": [
    "movies = movies.map(lambda (x,y,z): (x,y,z.split(\"|\")))"
   ]
  },
  {
   "cell_type": "code",
   "execution_count": 16,
   "metadata": {
    "collapsed": true
   },
   "outputs": [],
   "source": [
    "movies = movies.toDF([\"movie_id\", \"name\", \"tags\"])"
   ]
  },
  {
   "cell_type": "code",
   "execution_count": 35,
   "metadata": {
    "collapsed": false
   },
   "outputs": [
    {
     "data": {
      "text/plain": [
       "[Row(movie_id=u'1', name=u'Toy Story (1995)', tags=[u'Adventure', u'Animation', u'Children', u'Comedy', u'Fantasy']),\n",
       " Row(movie_id=u'2', name=u'Jumanji (1995)', tags=[u'Adventure', u'Children', u'Fantasy']),\n",
       " Row(movie_id=u'3', name=u'Grumpier Old Men (1995)', tags=[u'Comedy', u'Romance']),\n",
       " Row(movie_id=u'4', name=u'Waiting to Exhale (1995)', tags=[u'Comedy', u'Drama', u'Romance']),\n",
       " Row(movie_id=u'5', name=u'Father of the Bride Part II (1995)', tags=[u'Comedy']),\n",
       " Row(movie_id=u'6', name=u'Heat (1995)', tags=[u'Action', u'Crime', u'Thriller']),\n",
       " Row(movie_id=u'7', name=u'Sabrina (1995)', tags=[u'Comedy', u'Romance']),\n",
       " Row(movie_id=u'8', name=u'Tom and Huck (1995)', tags=[u'Adventure', u'Children']),\n",
       " Row(movie_id=u'9', name=u'Sudden Death (1995)', tags=[u'Action']),\n",
       " Row(movie_id=u'10', name=u'GoldenEye (1995)', tags=[u'Action', u'Adventure', u'Thriller']),\n",
       " Row(movie_id=u'11', name=u'American President, The (1995)', tags=[u'Comedy', u'Drama', u'Romance']),\n",
       " Row(movie_id=u'12', name=u'Dracula: Dead and Loving It (1995)', tags=[u'Comedy', u'Horror']),\n",
       " Row(movie_id=u'13', name=u'Balto (1995)', tags=[u'Animation', u'Children']),\n",
       " Row(movie_id=u'14', name=u'Nixon (1995)', tags=[u'Drama']),\n",
       " Row(movie_id=u'15', name=u'Cutthroat Island (1995)', tags=[u'Action', u'Adventure', u'Romance']),\n",
       " Row(movie_id=u'16', name=u'Casino (1995)', tags=[u'Crime', u'Drama']),\n",
       " Row(movie_id=u'17', name=u'Sense and Sensibility (1995)', tags=[u'Comedy', u'Drama', u'Romance']),\n",
       " Row(movie_id=u'18', name=u'Four Rooms (1995)', tags=[u'Comedy', u'Drama', u'Thriller']),\n",
       " Row(movie_id=u'19', name=u'Ace Ventura: When Nature Calls (1995)', tags=[u'Comedy']),\n",
       " Row(movie_id=u'20', name=u'Money Train (1995)', tags=[u'Action', u'Comedy', u'Crime', u'Drama', u'Thriller']),\n",
       " Row(movie_id=u'21', name=u'Get Shorty (1995)', tags=[u'Action', u'Comedy', u'Drama']),\n",
       " Row(movie_id=u'22', name=u'Copycat (1995)', tags=[u'Crime', u'Drama', u'Horror', u'Mystery', u'Thriller']),\n",
       " Row(movie_id=u'23', name=u'Assassins (1995)', tags=[u'Action', u'Crime', u'Thriller']),\n",
       " Row(movie_id=u'24', name=u'Powder (1995)', tags=[u'Drama', u'Sci-Fi']),\n",
       " Row(movie_id=u'25', name=u'Leaving Las Vegas (1995)', tags=[u'Drama', u'Romance']),\n",
       " Row(movie_id=u'26', name=u'Othello (1995)', tags=[u'Drama']),\n",
       " Row(movie_id=u'27', name=u'Now and Then (1995)', tags=[u'Drama']),\n",
       " Row(movie_id=u'28', name=u'Persuasion (1995)', tags=[u'Drama', u'Romance']),\n",
       " Row(movie_id=u'29', name=u'City of Lost Children, The (Cit\\xe9 des enfants perdus, La) (1995)', tags=[u'Adventure', u'Drama', u'Fantasy', u'Mystery', u'Sci-Fi']),\n",
       " Row(movie_id=u'30', name=u'Shanghai Triad (Yao a yao yao dao waipo qiao) (1995)', tags=[u'Crime', u'Drama']),\n",
       " Row(movie_id=u'31', name=u'Dangerous Minds (1995)', tags=[u'Drama']),\n",
       " Row(movie_id=u'32', name=u'12 Monkeys (Twelve Monkeys) (1995)', tags=[u'Sci-Fi', u'Thriller']),\n",
       " Row(movie_id=u'33', name=u'Wings of Courage (1995)', tags=[u'Adventure', u'IMAX', u'Romance']),\n",
       " Row(movie_id=u'34', name=u'Babe (1995)', tags=[u'Children', u'Comedy', u'Drama', u'Fantasy']),\n",
       " Row(movie_id=u'35', name=u'Carrington (1995)', tags=[u'Drama', u'Romance']),\n",
       " Row(movie_id=u'36', name=u'Dead Man Walking (1995)', tags=[u'Crime', u'Drama']),\n",
       " Row(movie_id=u'37', name=u'Across the Sea of Time (1995)', tags=[u'Documentary', u'IMAX']),\n",
       " Row(movie_id=u'38', name=u'It Takes Two (1995)', tags=[u'Comedy']),\n",
       " Row(movie_id=u'39', name=u'Clueless (1995)', tags=[u'Comedy', u'Romance']),\n",
       " Row(movie_id=u'40', name=u'Cry, the Beloved Country (1995)', tags=[u'Drama']),\n",
       " Row(movie_id=u'41', name=u'Richard III (1995)', tags=[u'Drama', u'War']),\n",
       " Row(movie_id=u'42', name=u'Dead Presidents (1995)', tags=[u'Action', u'Crime', u'Drama']),\n",
       " Row(movie_id=u'43', name=u'Restoration (1995)', tags=[u'Drama']),\n",
       " Row(movie_id=u'44', name=u'Mortal Kombat (1995)', tags=[u'Action', u'Adventure', u'Fantasy']),\n",
       " Row(movie_id=u'45', name=u'To Die For (1995)', tags=[u'Comedy', u'Drama', u'Thriller']),\n",
       " Row(movie_id=u'46', name=u'How to Make an American Quilt (1995)', tags=[u'Drama', u'Romance']),\n",
       " Row(movie_id=u'47', name=u'Seven (a.k.a. Se7en) (1995)', tags=[u'Crime', u'Horror', u'Mystery', u'Thriller']),\n",
       " Row(movie_id=u'48', name=u'Pocahontas (1995)', tags=[u'Animation', u'Children', u'Musical', u'Romance']),\n",
       " Row(movie_id=u'49', name=u'When Night Is Falling (1995)', tags=[u'Drama', u'Romance']),\n",
       " Row(movie_id=u'50', name=u'Usual Suspects, The (1995)', tags=[u'Crime', u'Mystery', u'Thriller']),\n",
       " Row(movie_id=u'51', name=u'Guardian Angel (1994)', tags=[u'Action', u'Drama', u'Thriller']),\n",
       " Row(movie_id=u'52', name=u'Mighty Aphrodite (1995)', tags=[u'Comedy', u'Drama', u'Romance']),\n",
       " Row(movie_id=u'53', name=u'Lamerica (1994)', tags=[u'Adventure', u'Drama']),\n",
       " Row(movie_id=u'54', name=u'Big Green, The (1995)', tags=[u'Children', u'Comedy']),\n",
       " Row(movie_id=u'55', name=u'Georgia (1995)', tags=[u'Drama']),\n",
       " Row(movie_id=u'56', name=u'Kids of the Round Table (1995)', tags=[u'Adventure', u'Children', u'Fantasy']),\n",
       " Row(movie_id=u'57', name=u'Home for the Holidays (1995)', tags=[u'Drama']),\n",
       " Row(movie_id=u'58', name=u'Postman, The (Postino, Il) (1994)', tags=[u'Comedy', u'Drama', u'Romance']),\n",
       " Row(movie_id=u'59', name=u'Confessional, The (Confessionnal, Le) (1995)', tags=[u'Drama', u'Mystery']),\n",
       " Row(movie_id=u'60', name=u'Indian in the Cupboard, The (1995)', tags=[u'Adventure', u'Children', u'Fantasy']),\n",
       " Row(movie_id=u'61', name=u'Eye for an Eye (1996)', tags=[u'Drama', u'Thriller']),\n",
       " Row(movie_id=u'62', name=u\"Mr. Holland's Opus (1995)\", tags=[u'Drama']),\n",
       " Row(movie_id=u'63', name=u\"Don't Be a Menace to South Central While Drinking Your Juice in the Hood (1996)\", tags=[u'Comedy', u'Crime']),\n",
       " Row(movie_id=u'64', name=u'Two if by Sea (1996)', tags=[u'Comedy', u'Romance']),\n",
       " Row(movie_id=u'65', name=u'Bio-Dome (1996)', tags=[u'Comedy']),\n",
       " Row(movie_id=u'66', name=u'Lawnmower Man 2: Beyond Cyberspace (1996)', tags=[u'Action', u'Sci-Fi', u'Thriller']),\n",
       " Row(movie_id=u'67', name=u'Two Bits (1995)', tags=[u'Drama']),\n",
       " Row(movie_id=u'68', name=u'French Twist (Gazon maudit) (1995)', tags=[u'Comedy', u'Romance']),\n",
       " Row(movie_id=u'69', name=u'Friday (1995)', tags=[u'Comedy']),\n",
       " Row(movie_id=u'70', name=u'From Dusk Till Dawn (1996)', tags=[u'Action', u'Comedy', u'Horror', u'Thriller']),\n",
       " Row(movie_id=u'71', name=u'Fair Game (1995)', tags=[u'Action']),\n",
       " Row(movie_id=u'72', name=u'Kicking and Screaming (1995)', tags=[u'Comedy', u'Drama']),\n",
       " Row(movie_id=u'73', name=u'Mis\\xe9rables, Les (1995)', tags=[u'Drama', u'War']),\n",
       " Row(movie_id=u'74', name=u'Bed of Roses (1996)', tags=[u'Drama', u'Romance']),\n",
       " Row(movie_id=u'75', name=u'Big Bully (1996)', tags=[u'Comedy', u'Drama']),\n",
       " Row(movie_id=u'76', name=u'Screamers (1995)', tags=[u'Action', u'Sci-Fi', u'Thriller']),\n",
       " Row(movie_id=u'77', name=u'Nico Icon (1995)', tags=[u'Documentary']),\n",
       " Row(movie_id=u'78', name=u'Crossing Guard, The (1995)', tags=[u'Drama']),\n",
       " Row(movie_id=u'79', name=u'Juror, The (1996)', tags=[u'Drama', u'Thriller']),\n",
       " Row(movie_id=u'80', name=u'White Balloon, The (Badkonake sefid) (1995)', tags=[u'Children', u'Drama']),\n",
       " Row(movie_id=u'81', name=u\"Things to Do in Denver When You're Dead (1995)\", tags=[u'Crime', u'Drama', u'Romance']),\n",
       " Row(movie_id=u'82', name=u\"Antonia's Line (Antonia) (1995)\", tags=[u'Comedy', u'Drama']),\n",
       " Row(movie_id=u'83', name=u'Once Upon a Time... When We Were Colored (1995)', tags=[u'Drama']),\n",
       " Row(movie_id=u'84', name=u'Last Summer in the Hamptons (1995)', tags=[u'Comedy', u'Drama']),\n",
       " Row(movie_id=u'85', name=u'Angels and Insects (1995)', tags=[u'Drama', u'Romance']),\n",
       " Row(movie_id=u'86', name=u'White Squall (1996)', tags=[u'Adventure', u'Drama']),\n",
       " Row(movie_id=u'87', name=u'Dunston Checks In (1996)', tags=[u'Children', u'Comedy']),\n",
       " Row(movie_id=u'88', name=u'Black Sheep (1996)', tags=[u'Comedy']),\n",
       " Row(movie_id=u'89', name=u'Nick of Time (1995)', tags=[u'Action', u'Thriller']),\n",
       " Row(movie_id=u'90', name=u'Journey of August King, The (1995)', tags=[u'Drama']),\n",
       " Row(movie_id=u'92', name=u'Mary Reilly (1996)', tags=[u'Drama', u'Horror', u'Thriller']),\n",
       " Row(movie_id=u'93', name=u'Vampire in Brooklyn (1995)', tags=[u'Comedy', u'Romance']),\n",
       " Row(movie_id=u'94', name=u'Beautiful Girls (1996)', tags=[u'Comedy', u'Drama', u'Romance']),\n",
       " Row(movie_id=u'95', name=u'Broken Arrow (1996)', tags=[u'Action', u'Adventure', u'Thriller']),\n",
       " Row(movie_id=u'96', name=u'In the Bleak Midwinter (1995)', tags=[u'Comedy', u'Drama']),\n",
       " Row(movie_id=u'97', name=u'Hate (Haine, La) (1995)', tags=[u'Drama']),\n",
       " Row(movie_id=u'98', name=u'Shopping (1994)', tags=[u'Action', u'Thriller']),\n",
       " Row(movie_id=u'99', name=u'Heidi Fleiss: Hollywood Madam (1995)', tags=[u'Documentary']),\n",
       " Row(movie_id=u'100', name=u'City Hall (1996)', tags=[u'Drama', u'Thriller']),\n",
       " Row(movie_id=u'101', name=u'Bottle Rocket (1996)', tags=[u'Adventure', u'Comedy', u'Crime', u'Romance']),\n",
       " Row(movie_id=u'102', name=u'Mr. Wrong (1996)', tags=[u'Comedy']),\n",
       " Row(movie_id=u'103', name=u'Unforgettable (1996)', tags=[u'Mystery', u'Sci-Fi', u'Thriller']),\n",
       " Row(movie_id=u'104', name=u'Happy Gilmore (1996)', tags=[u'Comedy']),\n",
       " Row(movie_id=u'105', name=u'Bridges of Madison County, The (1995)', tags=[u'Drama', u'Romance']),\n",
       " Row(movie_id=u'106', name=u'Nobody Loves Me (Keiner liebt mich) (1994)', tags=[u'Comedy', u'Drama']),\n",
       " Row(movie_id=u'107', name=u'Muppet Treasure Island (1996)', tags=[u'Adventure', u'Children', u'Comedy', u'Musical']),\n",
       " Row(movie_id=u'108', name=u'Catwalk (1996)', tags=[u'Documentary']),\n",
       " Row(movie_id=u'109', name=u'Headless Body in Topless Bar (1995)', tags=[u'Comedy']),\n",
       " Row(movie_id=u'110', name=u'Braveheart (1995)', tags=[u'Action', u'Drama', u'War']),\n",
       " Row(movie_id=u'111', name=u'Taxi Driver (1976)', tags=[u'Crime', u'Drama', u'Thriller']),\n",
       " Row(movie_id=u'112', name=u'Rumble in the Bronx (Hont faan kui) (1995)', tags=[u'Action', u'Adventure', u'Comedy', u'Crime']),\n",
       " Row(movie_id=u'113', name=u'Before and After (1996)', tags=[u'Drama', u'Mystery']),\n",
       " Row(movie_id=u'114', name=u\"Margaret's Museum (1995)\", tags=[u'Drama']),\n",
       " Row(movie_id=u'115', name=u'Happiness Is in the Field (Bonheur est dans le pr\\xe9, Le) (1995)', tags=[u'Comedy']),\n",
       " Row(movie_id=u'116', name=u'Anne Frank Remembered (1995)', tags=[u'Documentary']),\n",
       " Row(movie_id=u'117', name=u\"Young Poisoner's Handbook, The (1995)\", tags=[u'Crime', u'Drama']),\n",
       " Row(movie_id=u'118', name=u'If Lucy Fell (1996)', tags=[u'Comedy', u'Romance']),\n",
       " Row(movie_id=u'119', name=u'Steal Big, Steal Little (1995)', tags=[u'Comedy']),\n",
       " Row(movie_id=u'120', name=u'Race the Sun (1996)', tags=[u'Drama']),\n",
       " Row(movie_id=u'121', name=u'Boys of St. Vincent, The (1992)', tags=[u'Drama']),\n",
       " Row(movie_id=u'122', name=u'Boomerang (1992)', tags=[u'Comedy', u'Romance']),\n",
       " Row(movie_id=u'123', name=u'Chungking Express (Ch\\xf3ngq\\xecng Senl\\xedn) (1994)', tags=[u'Drama', u'Mystery', u'Romance']),\n",
       " Row(movie_id=u'124', name=u\"Star Maker, The (L'Uomo delle stelle) (1995)\", tags=[u'Drama']),\n",
       " Row(movie_id=u'125', name=u'Flirting With Disaster (1996)', tags=[u'Comedy']),\n",
       " Row(movie_id=u'126', name=u'NeverEnding Story III, The (1994)', tags=[u'Adventure', u'Children', u'Fantasy']),\n",
       " Row(movie_id=u'127', name=u'Silence of the Palace, The (Saimt el Qusur) (1994)', tags=[u'Drama']),\n",
       " Row(movie_id=u'128', name=u\"Jupiter's Wife (1994)\", tags=[u'Documentary']),\n",
       " Row(movie_id=u'129', name=u'Pie in the Sky (1996)', tags=[u'Comedy', u'Romance']),\n",
       " Row(movie_id=u'130', name=u'Angela (1995)', tags=[u'Drama']),\n",
       " Row(movie_id=u'131', name=u'Frankie Starlight (1995)', tags=[u'Drama', u'Romance']),\n",
       " Row(movie_id=u'132', name=u'Jade (1995)', tags=[u'Thriller']),\n",
       " Row(movie_id=u'133', name=u'Nueba Yol (1995)', tags=[u'Comedy', u'Drama']),\n",
       " Row(movie_id=u'134', name=u'Sonic Outlaws (1995)', tags=[u'Documentary']),\n",
       " Row(movie_id=u'135', name=u'Down Periscope (1996)', tags=[u'Comedy']),\n",
       " Row(movie_id=u'136', name=u'From the Journals of Jean Seberg (1995)', tags=[u'Documentary']),\n",
       " Row(movie_id=u'137', name=u'Man of the Year (1995)', tags=[u'Documentary']),\n",
       " Row(movie_id=u'138', name=u'Neon Bible, The (1995)', tags=[u'Drama']),\n",
       " Row(movie_id=u'139', name=u'Target (1995)', tags=[u'Action', u'Drama']),\n",
       " Row(movie_id=u'140', name=u'Up Close and Personal (1996)', tags=[u'Drama', u'Romance']),\n",
       " Row(movie_id=u'141', name=u'Birdcage, The (1996)', tags=[u'Comedy']),\n",
       " Row(movie_id=u'142', name=u'Shadows (Cienie) (1988)', tags=[u'Drama']),\n",
       " Row(movie_id=u'143', name=u'Gospa (1995)', tags=[u'Drama']),\n",
       " Row(movie_id=u'144', name=u'Brothers McMullen, The (1995)', tags=[u'Comedy']),\n",
       " Row(movie_id=u'145', name=u'Bad Boys (1995)', tags=[u'Action']),\n",
       " Row(movie_id=u'146', name=u'Amazing Panda Adventure, The (1995)', tags=[u'Adventure', u'Children']),\n",
       " Row(movie_id=u'147', name=u'Basketball Diaries, The (1995)', tags=[u'Drama']),\n",
       " Row(movie_id=u'148', name=u'Awfully Big Adventure, An (1995)', tags=[u'Drama']),\n",
       " Row(movie_id=u'149', name=u'Amateur (1994)', tags=[u'Crime', u'Drama', u'Thriller']),\n",
       " Row(movie_id=u'150', name=u'Apollo 13 (1995)', tags=[u'Adventure', u'Drama']),\n",
       " Row(movie_id=u'151', name=u'Rob Roy (1995)', tags=[u'Action', u'Drama', u'Romance', u'War']),\n",
       " Row(movie_id=u'152', name=u'Addiction, The (1995)', tags=[u'Drama', u'Horror']),\n",
       " Row(movie_id=u'153', name=u'Batman Forever (1995)', tags=[u'Action', u'Adventure', u'Comedy', u'Crime']),\n",
       " Row(movie_id=u'154', name=u'Belle de jour (1967)', tags=[u'Drama']),\n",
       " Row(movie_id=u'155', name=u'Beyond Rangoon (1995)', tags=[u'Adventure', u'Drama', u'War']),\n",
       " Row(movie_id=u'156', name=u'Blue in the Face (1995)', tags=[u'Comedy', u'Drama']),\n",
       " Row(movie_id=u'157', name=u'Canadian Bacon (1995)', tags=[u'Comedy', u'War']),\n",
       " Row(movie_id=u'158', name=u'Casper (1995)', tags=[u'Adventure', u'Children']),\n",
       " Row(movie_id=u'159', name=u'Clockers (1995)', tags=[u'Crime', u'Drama', u'Mystery']),\n",
       " Row(movie_id=u'160', name=u'Congo (1995)', tags=[u'Action', u'Adventure', u'Mystery', u'Sci-Fi']),\n",
       " Row(movie_id=u'161', name=u'Crimson Tide (1995)', tags=[u'Drama', u'Thriller', u'War']),\n",
       " Row(movie_id=u'162', name=u'Crumb (1994)', tags=[u'Documentary']),\n",
       " Row(movie_id=u'163', name=u'Desperado (1995)', tags=[u'Action', u'Romance', u'Thriller']),\n",
       " Row(movie_id=u'164', name=u'Devil in a Blue Dress (1995)', tags=[u'Crime', u'Film-Noir', u'Mystery', u'Thriller']),\n",
       " Row(movie_id=u'165', name=u'Die Hard: With a Vengeance (1995)', tags=[u'Action', u'Crime', u'Thriller']),\n",
       " Row(movie_id=u'166', name=u'Doom Generation, The (1995)', tags=[u'Comedy', u'Crime', u'Drama']),\n",
       " Row(movie_id=u'167', name=u'Feast of July (1995)', tags=[u'Drama']),\n",
       " Row(movie_id=u'168', name=u'First Knight (1995)', tags=[u'Action', u'Drama', u'Romance']),\n",
       " Row(movie_id=u'169', name=u'Free Willy 2: The Adventure Home (1995)', tags=[u'Adventure', u'Children', u'Drama']),\n",
       " Row(movie_id=u'170', name=u'Hackers (1995)', tags=[u'Action', u'Adventure', u'Crime', u'Thriller']),\n",
       " Row(movie_id=u'171', name=u'Jeffrey (1995)', tags=[u'Comedy', u'Drama']),\n",
       " Row(movie_id=u'172', name=u'Johnny Mnemonic (1995)', tags=[u'Action', u'Sci-Fi', u'Thriller']),\n",
       " Row(movie_id=u'173', name=u'Judge Dredd (1995)', tags=[u'Action', u'Crime', u'Sci-Fi']),\n",
       " Row(movie_id=u'174', name=u'Jury Duty (1995)', tags=[u'Comedy']),\n",
       " Row(movie_id=u'175', name=u'Kids (1995)', tags=[u'Drama']),\n",
       " Row(movie_id=u'176', name=u'Living in Oblivion (1995)', tags=[u'Comedy']),\n",
       " Row(movie_id=u'177', name=u'Lord of Illusions (1995)', tags=[u'Horror']),\n",
       " Row(movie_id=u'178', name=u'Love & Human Remains (1993)', tags=[u'Comedy', u'Drama']),\n",
       " Row(movie_id=u'179', name=u'Mad Love (1995)', tags=[u'Drama', u'Romance']),\n",
       " Row(movie_id=u'180', name=u'Mallrats (1995)', tags=[u'Comedy']),\n",
       " Row(movie_id=u'181', name=u'Mighty Morphin Power Rangers: The Movie (1995)', tags=[u'Action', u'Children']),\n",
       " Row(movie_id=u'182', name=u'Moonlight and Valentino (1995)', tags=[u'Drama', u'Romance']),\n",
       " Row(movie_id=u'183', name=u'Mute Witness (1994)', tags=[u'Comedy', u'Horror', u'Thriller']),\n",
       " Row(movie_id=u'184', name=u'Nadja (1994)', tags=[u'Drama']),\n",
       " Row(movie_id=u'185', name=u'Net, The (1995)', tags=[u'Action', u'Crime', u'Thriller']),\n",
       " Row(movie_id=u'186', name=u'Nine Months (1995)', tags=[u'Comedy', u'Romance']),\n",
       " Row(movie_id=u'187', name=u'Party Girl (1995)', tags=[u'Comedy']),\n",
       " Row(movie_id=u'188', name=u'Prophecy, The (1995)', tags=[u'Fantasy', u'Horror', u'Mystery']),\n",
       " Row(movie_id=u'189', name=u'Reckless (1995)', tags=[u'Comedy', u'Fantasy']),\n",
       " Row(movie_id=u'190', name=u'Safe (1995)', tags=[u'Thriller']),\n",
       " Row(movie_id=u'191', name=u'Scarlet Letter, The (1995)', tags=[u'Drama', u'Romance']),\n",
       " Row(movie_id=u'192', name=u'Show, The (1995)', tags=[u'Documentary']),\n",
       " Row(movie_id=u'193', name=u'Showgirls (1995)', tags=[u'Drama']),\n",
       " Row(movie_id=u'194', name=u'Smoke (1995)', tags=[u'Comedy', u'Drama']),\n",
       " Row(movie_id=u'195', name=u'Something to Talk About (1995)', tags=[u'Comedy', u'Drama', u'Romance']),\n",
       " Row(movie_id=u'196', name=u'Species (1995)', tags=[u'Horror', u'Sci-Fi']),\n",
       " Row(movie_id=u'197', name=u'Stars Fell on Henrietta, The (1995)', tags=[u'Drama']),\n",
       " Row(movie_id=u'198', name=u'Strange Days (1995)', tags=[u'Action', u'Crime', u'Drama', u'Mystery', u'Sci-Fi', u'Thriller']),\n",
       " Row(movie_id=u'199', name=u'Umbrellas of Cherbourg, The (Parapluies de Cherbourg, Les) (1964)', tags=[u'Drama', u'Musical']),\n",
       " Row(movie_id=u'200', name=u'Tie That Binds, The (1995)', tags=[u'Thriller']),\n",
       " Row(movie_id=u'201', name=u'Three Wishes (1995)', tags=[u'Drama']),\n",
       " Row(movie_id=u'202', name=u'Total Eclipse (1995)', tags=[u'Drama', u'Romance']),\n",
       " Row(movie_id=u'203', name=u'To Wong Foo, Thanks for Everything! Julie Newmar (1995)', tags=[u'Comedy']),\n",
       " Row(movie_id=u'204', name=u'Under Siege 2: Dark Territory (1995)', tags=[u'Action']),\n",
       " Row(movie_id=u'205', name=u'Unstrung Heroes (1995)', tags=[u'Comedy', u'Drama']),\n",
       " Row(movie_id=u'206', name=u'Unzipped (1995)', tags=[u'Documentary']),\n",
       " Row(movie_id=u'207', name=u'Walk in the Clouds, A (1995)', tags=[u'Drama', u'Romance']),\n",
       " Row(movie_id=u'208', name=u'Waterworld (1995)', tags=[u'Action', u'Adventure', u'Sci-Fi']),\n",
       " Row(movie_id=u'209', name=u\"White Man's Burden (1995)\", tags=[u'Drama']),\n",
       " Row(movie_id=u'210', name=u'Wild Bill (1995)', tags=[u'Western']),\n",
       " Row(movie_id=u'211', name=u'Browning Version, The (1994)', tags=[u'Drama']),\n",
       " Row(movie_id=u'212', name=u'Bushwhacked (1995)', tags=[u'Adventure', u'Comedy', u'Crime', u'Mystery']),\n",
       " Row(movie_id=u'213', name=u'Burnt by the Sun (Utomlyonnye solntsem) (1994)', tags=[u'Drama']),\n",
       " Row(movie_id=u'214', name=u'Before the Rain (Pred dozhdot) (1994)', tags=[u'Drama', u'War']),\n",
       " Row(movie_id=u'215', name=u'Before Sunrise (1995)', tags=[u'Drama', u'Romance']),\n",
       " Row(movie_id=u'216', name=u'Billy Madison (1995)', tags=[u'Comedy']),\n",
       " Row(movie_id=u'217', name=u'Babysitter, The (1995)', tags=[u'Drama', u'Thriller']),\n",
       " Row(movie_id=u'218', name=u'Boys on the Side (1995)', tags=[u'Comedy', u'Drama']),\n",
       " Row(movie_id=u'219', name=u'Cure, The (1995)', tags=[u'Drama']),\n",
       " Row(movie_id=u'220', name=u'Castle Freak (1995)', tags=[u'Horror']),\n",
       " Row(movie_id=u'222', name=u'Circle of Friends (1995)', tags=[u'Drama', u'Romance']),\n",
       " Row(movie_id=u'223', name=u'Clerks (1994)', tags=[u'Comedy']),\n",
       " Row(movie_id=u'224', name=u'Don Juan DeMarco (1995)', tags=[u'Comedy', u'Drama', u'Romance']),\n",
       " Row(movie_id=u'225', name=u'Disclosure (1994)', tags=[u'Drama', u'Thriller']),\n",
       " Row(movie_id=u'226', name=u'Dream Man (1995)', tags=[u'Thriller']),\n",
       " Row(movie_id=u'227', name=u'Drop Zone (1994)', tags=[u'Action', u'Thriller']),\n",
       " Row(movie_id=u'228', name=u'Destiny Turns on the Radio (1995)', tags=[u'Comedy']),\n",
       " Row(movie_id=u'229', name=u'Death and the Maiden (1994)', tags=[u'Drama', u'Thriller']),\n",
       " Row(movie_id=u'230', name=u'Dolores Claiborne (1995)', tags=[u'Drama', u'Thriller']),\n",
       " Row(movie_id=u'231', name=u'Dumb & Dumber (1994)', tags=[u'Comedy']),\n",
       " Row(movie_id=u'232', name=u'Eat Drink Man Woman (Yin shi nan nu) (1994)', tags=[u'Comedy', u'Drama', u'Romance']),\n",
       " Row(movie_id=u'233', name=u'Exotica (1994)', tags=[u'Drama']),\n",
       " Row(movie_id=u'234', name=u'Exit to Eden (1994)', tags=[u'Comedy']),\n",
       " Row(movie_id=u'235', name=u'Ed Wood (1994)', tags=[u'Comedy', u'Drama']),\n",
       " Row(movie_id=u'236', name=u'French Kiss (1995)', tags=[u'Action', u'Comedy', u'Romance']),\n",
       " Row(movie_id=u'237', name=u'Forget Paris (1995)', tags=[u'Comedy', u'Romance']),\n",
       " Row(movie_id=u'238', name=u'Far From Home: The Adventures of Yellow Dog (1995)', tags=[u'Adventure', u'Children']),\n",
       " Row(movie_id=u'239', name=u'Goofy Movie, A (1995)', tags=[u'Animation', u'Children', u'Comedy', u'Romance']),\n",
       " Row(movie_id=u'240', name=u'Hideaway (1995)', tags=[u'Thriller']),\n",
       " Row(movie_id=u'241', name=u'Fluke (1995)', tags=[u'Children', u'Drama']),\n",
       " Row(movie_id=u'242', name=u'Farinelli: il castrato (1994)', tags=[u'Drama', u'Musical']),\n",
       " Row(movie_id=u'243', name=u'Gordy (1995)', tags=[u'Comedy']),\n",
       " Row(movie_id=u'244', name=u'Gumby: The Movie (1995)', tags=[u'Animation', u'Children']),\n",
       " Row(movie_id=u'245', name=u'Glass Shield, The (1994)', tags=[u'Crime', u'Drama']),\n",
       " Row(movie_id=u'246', name=u'Hoop Dreams (1994)', tags=[u'Documentary']),\n",
       " Row(movie_id=u'247', name=u'Heavenly Creatures (1994)', tags=[u'Crime', u'Drama', u'Fantasy', u'Romance', u'Thriller']),\n",
       " Row(movie_id=u'248', name=u'Houseguest (1994)', tags=[u'Comedy']),\n",
       " Row(movie_id=u'249', name=u'Immortal Beloved (1994)', tags=[u'Drama', u'Romance']),\n",
       " Row(movie_id=u'250', name=u'Heavyweights (a.k.a. Heavy Weights) (1995)', tags=[u'Children', u'Comedy']),\n",
       " Row(movie_id=u'251', name=u'Hunted, The (1995)', tags=[u'Action']),\n",
       " Row(movie_id=u'252', name=u'I.Q. (1994)', tags=[u'Comedy', u'Romance']),\n",
       " Row(movie_id=u'253', name=u'Interview with the Vampire: The Vampire Chronicles (1994)', tags=[u'Drama', u'Horror']),\n",
       " Row(movie_id=u'254', name=u'Jefferson in Paris (1995)', tags=[u'Drama']),\n",
       " Row(movie_id=u'255', name=u'Jerky Boys, The (1994)', tags=[u'Comedy']),\n",
       " Row(movie_id=u'256', name=u'Junior (1994)', tags=[u'Comedy', u'Sci-Fi']),\n",
       " Row(movie_id=u'257', name=u'Just Cause (1995)', tags=[u'Mystery', u'Thriller']),\n",
       " Row(movie_id=u'258', name=u\"Kid in King Arthur's Court, A (1995)\", tags=[u'Adventure', u'Children', u'Comedy', u'Fantasy', u'Romance']),\n",
       " Row(movie_id=u'259', name=u'Kiss of Death (1995)', tags=[u'Crime', u'Drama', u'Thriller']),\n",
       " Row(movie_id=u'260', name=u'Star Wars: Episode IV - A New Hope (a.k.a. Star Wars) (1977)', tags=[u'Action', u'Adventure', u'Sci-Fi']),\n",
       " Row(movie_id=u'261', name=u'Little Women (1994)', tags=[u'Drama']),\n",
       " Row(movie_id=u'262', name=u'Little Princess, A (1995)', tags=[u'Children', u'Drama']),\n",
       " Row(movie_id=u'263', name=u'Ladybird Ladybird (1994)', tags=[u'Drama']),\n",
       " Row(movie_id=u'264', name=u\"Enfer, L' (1994)\", tags=[u'Drama']),\n",
       " Row(movie_id=u'265', name=u'Like Water for Chocolate (Como agua para chocolate) (1992)', tags=[u'Drama', u'Romance']),\n",
       " Row(movie_id=u'266', name=u'Legends of the Fall (1994)', tags=[u'Drama', u'Romance', u'War', u'Western']),\n",
       " Row(movie_id=u'267', name=u'Major Payne (1995)', tags=[u'Comedy']),\n",
       " Row(movie_id=u'268', name=u'Little Odessa (1994)', tags=[u'Drama']),\n",
       " Row(movie_id=u'269', name=u'My Crazy Life (Mi vida loca) (1993)', tags=[u'Drama']),\n",
       " Row(movie_id=u'270', name=u'Love Affair (1994)', tags=[u'Drama', u'Romance']),\n",
       " Row(movie_id=u'271', name=u'Losing Isaiah (1995)', tags=[u'Drama']),\n",
       " Row(movie_id=u'272', name=u'Madness of King George, The (1994)', tags=[u'Comedy', u'Drama']),\n",
       " Row(movie_id=u'273', name=u\"Frankenstein (Mary Shelley's Frankenstein) (1994)\", tags=[u'Drama', u'Horror']),\n",
       " Row(movie_id=u'274', name=u'Man of the House (1995)', tags=[u'Comedy']),\n",
       " Row(movie_id=u'275', name=u'Mixed Nuts (1994)', tags=[u'Comedy']),\n",
       " Row(movie_id=u'276', name=u'Milk Money (1994)', tags=[u'Comedy', u'Romance']),\n",
       " Row(movie_id=u'277', name=u'Miracle on 34th Street (1994)', tags=[u'Drama']),\n",
       " Row(movie_id=u'278', name=u'Miami Rhapsody (1995)', tags=[u'Comedy']),\n",
       " Row(movie_id=u'279', name=u'My Family (1995)', tags=[u'Drama']),\n",
       " Row(movie_id=u'280', name=u'Murder in the First (1995)', tags=[u'Drama', u'Thriller']),\n",
       " Row(movie_id=u'281', name=u\"Nobody's Fool (1994)\", tags=[u'Comedy', u'Drama', u'Romance']),\n",
       " Row(movie_id=u'282', name=u'Nell (1994)', tags=[u'Drama']),\n",
       " Row(movie_id=u'283', name=u'New Jersey Drive (1995)', tags=[u'Crime', u'Drama']),\n",
       " Row(movie_id=u'284', name=u'New York Cop (Ny\\xfb Y\\xf4ku no koppu) (1993)', tags=[u'Action', u'Crime']),\n",
       " Row(movie_id=u'285', name=u'Beyond Bedlam (1993)', tags=[u'Drama', u'Horror']),\n",
       " Row(movie_id=u'286', name=u'Nemesis 2: Nebula (1995)', tags=[u'Action', u'Sci-Fi', u'Thriller']),\n",
       " Row(movie_id=u'287', name=u'Nina Takes a Lover (1994)', tags=[u'Comedy', u'Romance']),\n",
       " Row(movie_id=u'288', name=u'Natural Born Killers (1994)', tags=[u'Action', u'Crime', u'Thriller']),\n",
       " Row(movie_id=u'289', name=u'Only You (1994)', tags=[u'Comedy', u'Romance']),\n",
       " Row(movie_id=u'290', name=u'Once Were Warriors (1994)', tags=[u'Crime', u'Drama']),\n",
       " Row(movie_id=u'291', name=u'Poison Ivy II (1996)', tags=[u'Drama', u'Thriller']),\n",
       " Row(movie_id=u'292', name=u'Outbreak (1995)', tags=[u'Action', u'Drama', u'Sci-Fi', u'Thriller']),\n",
       " Row(movie_id=u'293', name=u'L\\xe9on: The Professional (L\\xe9on) (Professional, The) (1994)', tags=[u'Crime', u'Drama', u'Romance', u'Thriller']),\n",
       " Row(movie_id=u'294', name=u'Perez Family, The (1995)', tags=[u'Comedy', u'Romance']),\n",
       " Row(movie_id=u'295', name=u\"Pyromaniac's Love Story, A (1995)\", tags=[u'Comedy', u'Romance']),\n",
       " Row(movie_id=u'296', name=u'Pulp Fiction (1994)', tags=[u'Comedy', u'Crime', u'Drama']),\n",
       " Row(movie_id=u'297', name=u'Panther (1995)', tags=[u'Drama']),\n",
       " Row(movie_id=u'298', name=u'Pushing Hands (Tui shou) (1992)', tags=[u'Comedy', u'Drama']),\n",
       " Row(movie_id=u'299', name=u'Priest (1994)', tags=[u'Drama']),\n",
       " Row(movie_id=u'300', name=u'Quiz Show (1994)', tags=[u'Drama']),\n",
       " Row(movie_id=u'301', name=u'Picture Bride (Bijo photo) (1994)', tags=[u'Drama', u'Romance']),\n",
       " Row(movie_id=u'302', name=u'Queen Margot (La Reine Margot) (1994)', tags=[u'Drama', u'Romance']),\n",
       " Row(movie_id=u'303', name=u'Quick and the Dead, The (1995)', tags=[u'Action', u'Adventure', u'Western']),\n",
       " Row(movie_id=u'304', name=u'Roommates (1995)', tags=[u'Comedy', u'Drama']),\n",
       " Row(movie_id=u'305', name=u'Ready to Wear (Pret-A-Porter) (1994)', tags=[u'Comedy']),\n",
       " Row(movie_id=u'306', name=u'Three Colors: Red (Trois couleurs: Rouge) (1994)', tags=[u'Drama']),\n",
       " Row(movie_id=u'307', name=u'Three Colors: Blue (Trois couleurs: Bleu) (1993)', tags=[u'Drama']),\n",
       " Row(movie_id=u'308', name=u'Three Colors: White (Trois couleurs: Blanc) (1994)', tags=[u'Comedy', u'Drama']),\n",
       " Row(movie_id=u'309', name=u'Red Firecracker, Green Firecracker (Pao Da Shuang Deng) (1994)', tags=[u'Drama']),\n",
       " Row(movie_id=u'310', name=u'Rent-a-Kid (1995)', tags=[u'Comedy']),\n",
       " Row(movie_id=u'311', name=u'Relative Fear (1994)', tags=[u'Horror', u'Thriller']),\n",
       " Row(movie_id=u'312', name=u'Stuart Saves His Family (1995)', tags=[u'Comedy']),\n",
       " Row(movie_id=u'313', name=u'Swan Princess, The (1994)', tags=[u'Animation', u'Children']),\n",
       " Row(movie_id=u'314', name=u'Secret of Roan Inish, The (1994)', tags=[u'Children', u'Drama', u'Fantasy', u'Mystery']),\n",
       " Row(movie_id=u'315', name=u'Specialist, The (1994)', tags=[u'Action', u'Drama', u'Thriller']),\n",
       " Row(movie_id=u'316', name=u'Stargate (1994)', tags=[u'Action', u'Adventure', u'Sci-Fi']),\n",
       " Row(movie_id=u'317', name=u'Santa Clause, The (1994)', tags=[u'Comedy', u'Drama', u'Fantasy']),\n",
       " Row(movie_id=u'318', name=u'Shawshank Redemption, The (1994)', tags=[u'Drama']),\n",
       " Row(movie_id=u'319', name=u'Shallow Grave (1994)', tags=[u'Comedy', u'Drama', u'Thriller']),\n",
       " Row(movie_id=u'320', name=u'Suture (1993)', tags=[u'Film-Noir', u'Thriller']),\n",
       " Row(movie_id=u'321', name=u'Strawberry and Chocolate (Fresa y chocolate) (1993)', tags=[u'Drama']),\n",
       " Row(movie_id=u'322', name=u'Swimming with Sharks (1995)', tags=[u'Comedy', u'Drama']),\n",
       " Row(movie_id=u'324', name=u'Sum of Us, The (1994)', tags=[u'Comedy', u'Drama']),\n",
       " Row(movie_id=u'325', name=u\"National Lampoon's Senior Trip (1995)\", tags=[u'Comedy']),\n",
       " Row(movie_id=u'326', name=u'To Live (Huozhe) (1994)', tags=[u'Drama']),\n",
       " Row(movie_id=u'327', name=u'Tank Girl (1995)', tags=[u'Action', u'Comedy', u'Musical', u'Sci-Fi']),\n",
       " Row(movie_id=u'328', name=u'Tales from the Crypt Presents: Demon Knight (1995)', tags=[u'Horror', u'Thriller']),\n",
       " Row(movie_id=u'329', name=u'Star Trek: Generations (1994)', tags=[u'Action', u'Adventure', u'Drama', u'Sci-Fi']),\n",
       " Row(movie_id=u'330', name=u'Tales from the Hood (1995)', tags=[u'Action', u'Crime', u'Horror']),\n",
       " Row(movie_id=u'331', name=u'Tom & Viv (1994)', tags=[u'Drama']),\n",
       " Row(movie_id=u'332', name=u'Village of the Damned (1995)', tags=[u'Horror', u'Sci-Fi']),\n",
       " Row(movie_id=u'333', name=u'Tommy Boy (1995)', tags=[u'Comedy']),\n",
       " Row(movie_id=u'334', name=u'Vanya on 42nd Street (1994)', tags=[u'Drama']),\n",
       " Row(movie_id=u'335', name=u'Underneath (1995)', tags=[u'Mystery', u'Thriller']),\n",
       " Row(movie_id=u'336', name=u'Walking Dead, The (1995)', tags=[u'Drama', u'War']),\n",
       " Row(movie_id=u'337', name=u\"What's Eating Gilbert Grape (1993)\", tags=[u'Drama']),\n",
       " Row(movie_id=u'338', name=u'Virtuosity (1995)', tags=[u'Action', u'Sci-Fi', u'Thriller']),\n",
       " Row(movie_id=u'339', name=u'While You Were Sleeping (1995)', tags=[u'Comedy', u'Romance']),\n",
       " Row(movie_id=u'340', name=u'War, The (1994)', tags=[u'Adventure', u'Drama', u'War']),\n",
       " Row(movie_id=u'341', name=u'Double Happiness (1994)', tags=[u'Drama']),\n",
       " Row(movie_id=u'342', name=u\"Muriel's Wedding (1994)\", tags=[u'Comedy']),\n",
       " Row(movie_id=u'343', name=u'Baby-Sitters Club, The (1995)', tags=[u'Children']),\n",
       " Row(movie_id=u'344', name=u'Ace Ventura: Pet Detective (1994)', tags=[u'Comedy']),\n",
       " Row(movie_id=u'345', name=u'Adventures of Priscilla, Queen of the Desert, The (1994)', tags=[u'Comedy', u'Drama']),\n",
       " Row(movie_id=u'346', name=u'Backbeat (1993)', tags=[u'Drama', u'Musical']),\n",
       " Row(movie_id=u'347', name=u'Bitter Moon (1992)', tags=[u'Drama', u'Film-Noir']),\n",
       " Row(movie_id=u'348', name=u'Bullets Over Broadway (1994)', tags=[u'Comedy']),\n",
       " Row(movie_id=u'349', name=u'Clear and Present Danger (1994)', tags=[u'Action', u'Adventure', u'Thriller']),\n",
       " Row(movie_id=u'350', name=u'Client, The (1994)', tags=[u'Drama', u'Mystery', u'Thriller']),\n",
       " Row(movie_id=u'351', name=u'Corrina, Corrina (1994)', tags=[u'Comedy', u'Drama', u'Romance']),\n",
       " Row(movie_id=u'352', name=u'Crooklyn (1994)', tags=[u'Comedy']),\n",
       " Row(movie_id=u'353', name=u'Crow, The (1994)', tags=[u'Action', u'Crime', u'Fantasy', u'Thriller']),\n",
       " Row(movie_id=u'354', name=u'Cobb (1994)', tags=[u'Drama']),\n",
       " Row(movie_id=u'355', name=u'Flintstones, The (1994)', tags=[u'Children', u'Comedy', u'Fantasy']),\n",
       " Row(movie_id=u'356', name=u'Forrest Gump (1994)', tags=[u'Comedy', u'Drama', u'Romance', u'War']),\n",
       " Row(movie_id=u'357', name=u'Four Weddings and a Funeral (1994)', tags=[u'Comedy', u'Romance']),\n",
       " Row(movie_id=u'358', name=u'Higher Learning (1995)', tags=[u'Drama']),\n",
       " Row(movie_id=u'359', name=u'I Like It Like That (1994)', tags=[u'Comedy', u'Drama', u'Romance']),\n",
       " Row(movie_id=u'360', name=u'I Love Trouble (1994)', tags=[u'Action', u'Comedy']),\n",
       " Row(movie_id=u'361', name=u'It Could Happen to You (1994)', tags=[u'Comedy', u'Drama', u'Romance']),\n",
       " Row(movie_id=u'362', name=u'Jungle Book, The (1994)', tags=[u'Adventure', u'Children', u'Romance']),\n",
       " Row(movie_id=u'363', name=u'Wonderful, Horrible Life of Leni Riefenstahl, The (Macht der Bilder: Leni Riefenstahl, Die) (1993)', tags=[u'Documentary']),\n",
       " Row(movie_id=u'364', name=u'Lion King, The (1994)', tags=[u'Adventure', u'Animation', u'Children', u'Drama', u'Musical']),\n",
       " Row(movie_id=u'365', name=u'Little Buddha (1993)', tags=[u'Drama']),\n",
       " Row(movie_id=u'366', name=u\"Wes Craven's New Nightmare (1994)\", tags=[u'Fantasy', u'Horror']),\n",
       " Row(movie_id=u'367', name=u'Mask, The (1994)', tags=[u'Action', u'Comedy', u'Crime', u'Fantasy']),\n",
       " Row(movie_id=u'368', name=u'Maverick (1994)', tags=[u'Adventure', u'Comedy', u'Western']),\n",
       " Row(movie_id=u'369', name=u'Mrs. Parker and the Vicious Circle (1994)', tags=[u'Drama']),\n",
       " Row(movie_id=u'370', name=u'Naked Gun 33 1/3: The Final Insult (1994)', tags=[u'Action', u'Comedy']),\n",
       " Row(movie_id=u'371', name=u'Paper, The (1994)', tags=[u'Comedy', u'Drama']),\n",
       " Row(movie_id=u'372', name=u'Reality Bites (1994)', tags=[u'Comedy', u'Drama', u'Romance']),\n",
       " Row(movie_id=u'373', name=u'Red Rock West (1992)', tags=[u'Thriller']),\n",
       " Row(movie_id=u'374', name=u'Richie Rich (1994)', tags=[u'Children', u'Comedy']),\n",
       " Row(movie_id=u'375', name=u'Safe Passage (1994)', tags=[u'Drama']),\n",
       " Row(movie_id=u'376', name=u'River Wild, The (1994)', tags=[u'Action', u'Thriller']),\n",
       " Row(movie_id=u'377', name=u'Speed (1994)', tags=[u'Action', u'Romance', u'Thriller']),\n",
       " Row(movie_id=u'378', name=u'Speechless (1994)', tags=[u'Comedy', u'Romance']),\n",
       " Row(movie_id=u'379', name=u'Timecop (1994)', tags=[u'Action', u'Sci-Fi', u'Thriller']),\n",
       " Row(movie_id=u'380', name=u'True Lies (1994)', tags=[u'Action', u'Adventure', u'Comedy', u'Romance', u'Thriller']),\n",
       " Row(movie_id=u'381', name=u'When a Man Loves a Woman (1994)', tags=[u'Drama']),\n",
       " Row(movie_id=u'382', name=u'Wolf (1994)', tags=[u'Drama', u'Horror', u'Romance', u'Thriller']),\n",
       " Row(movie_id=u'383', name=u'Wyatt Earp (1994)', tags=[u'Western']),\n",
       " Row(movie_id=u'384', name=u'Bad Company (1995)', tags=[u'Action', u'Crime', u'Drama']),\n",
       " Row(movie_id=u'385', name=u'Man of No Importance, A (1994)', tags=[u'Drama']),\n",
       " Row(movie_id=u'386', name=u'S.F.W. (1994)', tags=[u'Drama']),\n",
       " Row(movie_id=u'387', name=u'Low Down Dirty Shame, A (1994)', tags=[u'Action', u'Comedy']),\n",
       " Row(movie_id=u'388', name=u'Boys Life (1995)', tags=[u'Drama']),\n",
       " Row(movie_id=u'389', name=u'Colonel Chabert, Le (1994)', tags=[u'Drama', u'Romance', u'War']),\n",
       " Row(movie_id=u'390', name=u'Faster Pussycat! Kill! Kill! (1965)', tags=[u'Action', u'Comedy', u'Crime', u'Drama']),\n",
       " Row(movie_id=u'391', name=u\"Jason's Lyric (1994)\", tags=[u'Crime', u'Drama']),\n",
       " Row(movie_id=u'392', name=u'Secret Adventures of Tom Thumb, The (1993)', tags=[u'Adventure', u'Animation']),\n",
       " Row(movie_id=u'393', name=u'Street Fighter (1994)', tags=[u'Action', u'Adventure', u'Fantasy']),\n",
       " Row(movie_id=u'394', name=u'Coldblooded (1995)', tags=[u'Comedy']),\n",
       " Row(movie_id=u'395', name=u'Desert Winds (1995)', tags=[u'Drama', u'Fantasy', u'Romance']),\n",
       " Row(movie_id=u'396', name=u'Fall Time (1995)', tags=[u'Drama']),\n",
       " Row(movie_id=u'397', name=u'Fear, The (1995)', tags=[u'Horror']),\n",
       " Row(movie_id=u'398', name=u'Frank and Ollie (1995)', tags=[u'Documentary']),\n",
       " Row(movie_id=u'399', name=u'Girl in the Cadillac (1995)', tags=[u'Drama']),\n",
       " Row(movie_id=u'400', name=u'Homage (1995)', tags=[u'Drama']),\n",
       " Row(movie_id=u'401', name=u'Mirage (1995)', tags=[u'Action', u'Thriller']),\n",
       " Row(movie_id=u'402', name=u'Open Season (1996)', tags=[u'Comedy']),\n",
       " Row(movie_id=u'403', name=u'Two Crimes (Dos cr\\xedmenes) (1995)', tags=[u'Comedy', u'Crime', u'Drama']),\n",
       " Row(movie_id=u'404', name=u'Brother Minister: The Assassination of Malcolm X (1994)', tags=[u'Documentary']),\n",
       " Row(movie_id=u'405', name=u'Highlander III: The Sorcerer (a.k.a. Highlander: The Final Dimension) (1994)', tags=[u'Action', u'Sci-Fi']),\n",
       " Row(movie_id=u'406', name=u'Federal Hill (1994)', tags=[u'Drama']),\n",
       " Row(movie_id=u'407', name=u'In the Mouth of Madness (1995)', tags=[u'Horror', u'Thriller']),\n",
       " Row(movie_id=u'408', name=u'8 Seconds (1994)', tags=[u'Drama']),\n",
       " Row(movie_id=u'409', name=u'Above the Rim (1994)', tags=[u'Drama']),\n",
       " Row(movie_id=u'410', name=u'Addams Family Values (1993)', tags=[u'Comedy']),\n",
       " Row(movie_id=u'411', name=u'You So Crazy (1994)', tags=[u'Comedy']),\n",
       " Row(movie_id=u'412', name=u'Age of Innocence, The (1993)', tags=[u'Drama']),\n",
       " Row(movie_id=u'413', name=u'Airheads (1994)', tags=[u'Comedy']),\n",
       " Row(movie_id=u'414', name=u'Air Up There, The (1994)', tags=[u'Comedy']),\n",
       " Row(movie_id=u'415', name=u'Another Stakeout (1993)', tags=[u'Comedy', u'Thriller']),\n",
       " Row(movie_id=u'416', name=u'Bad Girls (1994)', tags=[u'Western']),\n",
       " Row(movie_id=u'417', name=u'Barcelona (1994)', tags=[u'Comedy', u'Romance']),\n",
       " Row(movie_id=u'418', name=u'Being Human (1993)', tags=[u'Drama']),\n",
       " Row(movie_id=u'419', name=u'Beverly Hillbillies, The (1993)', tags=[u'Comedy']),\n",
       " Row(movie_id=u'420', name=u'Beverly Hills Cop III (1994)', tags=[u'Action', u'Comedy', u'Crime', u'Thriller']),\n",
       " Row(movie_id=u'421', name=u'Black Beauty (1994)', tags=[u'Adventure', u'Children']),\n",
       " Row(movie_id=u'422', name=u'Blink (1994)', tags=[u'Thriller']),\n",
       " Row(movie_id=u'423', name=u'Blown Away (1994)', tags=[u'Action', u'Thriller']),\n",
       " Row(movie_id=u'424', name=u'Blue Chips (1994)', tags=[u'Drama']),\n",
       " Row(movie_id=u'425', name=u'Blue Sky (1994)', tags=[u'Drama', u'Romance']),\n",
       " Row(movie_id=u'426', name=u'Body Snatchers (1993)', tags=[u'Horror', u'Sci-Fi', u'Thriller']),\n",
       " Row(movie_id=u'427', name=u'Boxing Helena (1993)', tags=[u'Drama', u'Mystery', u'Romance', u'Thriller']),\n",
       " Row(movie_id=u'428', name=u'Bronx Tale, A (1993)', tags=[u'Drama']),\n",
       " Row(movie_id=u'429', name=u'Cabin Boy (1994)', tags=[u'Comedy']),\n",
       " Row(movie_id=u'430', name=u'Calendar Girl (1993)', tags=[u'Drama']),\n",
       " Row(movie_id=u'431', name=u\"Carlito's Way (1993)\", tags=[u'Crime', u'Drama']),\n",
       " Row(movie_id=u'432', name=u\"City Slickers II: The Legend of Curly's Gold (1994)\", tags=[u'Adventure', u'Comedy', u'Western']),\n",
       " Row(movie_id=u'433', name=u'Clean Slate (1994)', tags=[u'Comedy']),\n",
       " Row(movie_id=u'434', name=u'Cliffhanger (1993)', tags=[u'Action', u'Adventure', u'Thriller']),\n",
       " Row(movie_id=u'435', name=u'Coneheads (1993)', tags=[u'Comedy', u'Sci-Fi']),\n",
       " Row(movie_id=u'436', name=u'Color of Night (1994)', tags=[u'Drama', u'Thriller']),\n",
       " Row(movie_id=u'437', name=u'Cops and Robbersons (1994)', tags=[u'Comedy']),\n",
       " Row(movie_id=u'438', name=u'Cowboy Way, The (1994)', tags=[u'Action', u'Comedy', u'Drama']),\n",
       " Row(movie_id=u'439', name=u'Dangerous Game (1993)', tags=[u'Drama']),\n",
       " Row(movie_id=u'440', name=u'Dave (1993)', tags=[u'Comedy', u'Romance']),\n",
       " Row(movie_id=u'441', name=u'Dazed and Confused (1993)', tags=[u'Comedy']),\n",
       " Row(movie_id=u'442', name=u'Demolition Man (1993)', tags=[u'Action', u'Adventure', u'Sci-Fi']),\n",
       " Row(movie_id=u'443', name=u'Endless Summer 2, The (1994)', tags=[u'Documentary']),\n",
       " Row(movie_id=u'444', name=u'Even Cowgirls Get the Blues (1993)', tags=[u'Comedy', u'Romance']),\n",
       " Row(movie_id=u'445', name=u'Fatal Instinct (1993)', tags=[u'Comedy']),\n",
       " Row(movie_id=u'446', name=u'Farewell My Concubine (Ba wang bie ji) (1993)', tags=[u'Drama', u'Romance']),\n",
       " Row(movie_id=u'447', name=u'Favor, The (1994)', tags=[u'Comedy', u'Romance']),\n",
       " Row(movie_id=u'448', name=u'Fearless (1993)', tags=[u'Drama']),\n",
       " Row(movie_id=u'449', name=u'Fear of a Black Hat (1994)', tags=[u'Comedy']),\n",
       " Row(movie_id=u'450', name=u'With Honors (1994)', tags=[u'Comedy', u'Drama']),\n",
       " Row(movie_id=u'451', name=u'Flesh and Bone (1993)', tags=[u'Drama', u'Mystery', u'Romance']),\n",
       " Row(movie_id=u'452', name=u\"Widows' Peak (1994)\", tags=[u'Drama']),\n",
       " Row(movie_id=u'453', name=u'For Love or Money (1993)', tags=[u'Comedy']),\n",
       " Row(movie_id=u'454', name=u'Firm, The (1993)', tags=[u'Drama', u'Thriller']),\n",
       " Row(movie_id=u'455', name=u'Free Willy (1993)', tags=[u'Adventure', u'Children', u'Drama']),\n",
       " Row(movie_id=u'456', name=u'Fresh (1994)', tags=[u'Crime', u'Drama', u'Thriller']),\n",
       " Row(movie_id=u'457', name=u'Fugitive, The (1993)', tags=[u'Thriller']),\n",
       " Row(movie_id=u'458', name=u'Geronimo: An American Legend (1993)', tags=[u'Drama', u'Western']),\n",
       " Row(movie_id=u'459', name=u'Getaway, The (1994)', tags=[u'Action', u'Adventure', u'Crime', u'Drama', u'Romance', u'Thriller']),\n",
       " Row(movie_id=u'460', name=u'Getting Even with Dad (1994)', tags=[u'Comedy']),\n",
       " Row(movie_id=u'461', name=u'Go Fish (1994)', tags=[u'Drama', u'Romance']),\n",
       " Row(movie_id=u'462', name=u'Good Man in Africa, A (1994)', tags=[u'Action', u'Adventure']),\n",
       " Row(movie_id=u'463', name=u'Guilty as Sin (1993)', tags=[u'Crime', u'Drama', u'Thriller']),\n",
       " Row(movie_id=u'464', name=u'Hard Target (1993)', tags=[u'Action', u'Adventure', u'Crime', u'Thriller']),\n",
       " Row(movie_id=u'465', name=u'Heaven & Earth (1993)', tags=[u'Action', u'Drama', u'War']),\n",
       " Row(movie_id=u'466', name=u'Hot Shots! Part Deux (1993)', tags=[u'Action', u'Comedy', u'War']),\n",
       " Row(movie_id=u'467', name=u'Live Nude Girls (1995)', tags=[u'Comedy']),\n",
       " Row(movie_id=u'468', name=u'Englishman Who Went Up a Hill But Came Down a Mountain, The (1995)', tags=[u'Comedy', u'Romance']),\n",
       " Row(movie_id=u'469', name=u'House of the Spirits, The (1993)', tags=[u'Drama', u'Romance']),\n",
       " Row(movie_id=u'470', name=u'House Party 3 (1994)', tags=[u'Comedy']),\n",
       " Row(movie_id=u'471', name=u'Hudsucker Proxy, The (1994)', tags=[u'Comedy', u'Drama', u'Fantasy', u'Romance']),\n",
       " Row(movie_id=u'472', name=u\"I'll Do Anything (1994)\", tags=[u'Comedy', u'Drama']),\n",
       " Row(movie_id=u'473', name=u'In the Army Now (1994)', tags=[u'Comedy', u'War']),\n",
       " Row(movie_id=u'474', name=u'In the Line of Fire (1993)', tags=[u'Action', u'Thriller']),\n",
       " Row(movie_id=u'475', name=u'In the Name of the Father (1993)', tags=[u'Drama']),\n",
       " Row(movie_id=u'476', name=u'Inkwell, The (1994)', tags=[u'Comedy', u'Drama']),\n",
       " Row(movie_id=u'477', name=u\"What's Love Got to Do with It? (1993)\", tags=[u'Drama', u'Musical']),\n",
       " Row(movie_id=u'478', name=u'Jimmy Hollywood (1994)', tags=[u'Comedy', u'Crime', u'Drama']),\n",
       " Row(movie_id=u'479', name=u'Judgment Night (1993)', tags=[u'Action', u'Crime', u'Thriller']),\n",
       " Row(movie_id=u'480', name=u'Jurassic Park (1993)', tags=[u'Action', u'Adventure', u'Sci-Fi', u'Thriller']),\n",
       " Row(movie_id=u'481', name=u'Kalifornia (1993)', tags=[u'Drama', u'Thriller']),\n",
       " Row(movie_id=u'482', name=u'Killing Zoe (1994)', tags=[u'Action', u'Crime']),\n",
       " Row(movie_id=u'483', name=u'King of the Hill (1993)', tags=[u'Drama']),\n",
       " Row(movie_id=u'484', name=u'Lassie (1994)', tags=[u'Adventure', u'Children']),\n",
       " Row(movie_id=u'485', name=u'Last Action Hero (1993)', tags=[u'Action', u'Adventure', u'Comedy', u'Fantasy']),\n",
       " Row(movie_id=u'486', name=u'Life with Mikey (1993)', tags=[u'Comedy']),\n",
       " Row(movie_id=u'487', name=u'Lightning Jack (1994)', tags=[u'Comedy', u'Western']),\n",
       " Row(movie_id=u'488', name=u'M. Butterfly (1993)', tags=[u'Drama']),\n",
       " Row(movie_id=u'489', name=u'Made in America (1993)', tags=[u'Comedy']),\n",
       " Row(movie_id=u'490', name=u'Malice (1993)', tags=[u'Thriller']),\n",
       " Row(movie_id=u'491', name=u'Man Without a Face, The (1993)', tags=[u'Drama']),\n",
       " Row(movie_id=u'492', name=u'Manhattan Murder Mystery (1993)', tags=[u'Comedy', u'Mystery']),\n",
       " Row(movie_id=u'493', name=u'Menace II Society (1993)', tags=[u'Action', u'Crime', u'Drama']),\n",
       " Row(movie_id=u'494', name=u'Executive Decision (1996)', tags=[u'Action', u'Adventure', u'Thriller']),\n",
       " Row(movie_id=u'495', name=u'In the Realm of the Senses (Ai no corrida) (1976)', tags=[u'Drama']),\n",
       " Row(movie_id=u'496', name=u'What Happened Was... (1994)', tags=[u'Comedy', u'Drama', u'Romance']),\n",
       " Row(movie_id=u'497', name=u'Much Ado About Nothing (1993)', tags=[u'Comedy', u'Romance']),\n",
       " Row(movie_id=u'498', name=u'Mr. Jones (1993)', tags=[u'Drama', u'Romance']),\n",
       " Row(movie_id=u'499', name=u'Mr. Wonderful (1993)', tags=[u'Comedy', u'Romance']),\n",
       " Row(movie_id=u'500', name=u'Mrs. Doubtfire (1993)', tags=[u'Comedy', u'Drama']),\n",
       " Row(movie_id=u'501', name=u'Naked (1993)', tags=[u'Drama']),\n",
       " Row(movie_id=u'502', name=u'Next Karate Kid, The (1994)', tags=[u'Action', u'Children']),\n",
       " Row(movie_id=u'503', name=u'New Age, The (1994)', tags=[u'Drama']),\n",
       " Row(movie_id=u'504', name=u'No Escape (1994)', tags=[u'Action', u'Sci-Fi']),\n",
       " Row(movie_id=u'505', name=u'North (1994)', tags=[u'Comedy']),\n",
       " Row(movie_id=u'506', name=u'Orlando (1992)', tags=[u'Drama']),\n",
       " Row(movie_id=u'507', name=u'Perfect World, A (1993)', tags=[u'Crime', u'Drama', u'Thriller']),\n",
       " Row(movie_id=u'508', name=u'Philadelphia (1993)', tags=[u'Drama']),\n",
       " Row(movie_id=u'509', name=u'Piano, The (1993)', tags=[u'Drama', u'Romance']),\n",
       " Row(movie_id=u'510', name=u'Poetic Justice (1993)', tags=[u'Drama']),\n",
       " Row(movie_id=u'511', name=u'Program, The (1993)', tags=[u'Action', u'Drama']),\n",
       " Row(movie_id=u'512', name=u'Puppet Masters, The (1994)', tags=[u'Horror', u'Sci-Fi']),\n",
       " Row(movie_id=u'513', name=u'Radioland Murders (1994)', tags=[u'Comedy', u'Mystery', u'Romance']),\n",
       " Row(movie_id=u'514', name=u'Ref, The (1994)', tags=[u'Comedy']),\n",
       " Row(movie_id=u'515', name=u'Remains of the Day, The (1993)', tags=[u'Drama', u'Romance']),\n",
       " Row(movie_id=u'516', name=u'Renaissance Man (1994)', tags=[u'Comedy', u'Drama']),\n",
       " Row(movie_id=u'517', name=u'Rising Sun (1993)', tags=[u'Action', u'Drama', u'Mystery']),\n",
       " Row(movie_id=u'518', name=u'Road to Wellville, The (1994)', tags=[u'Comedy']),\n",
       " Row(movie_id=u'519', name=u'RoboCop 3 (1993)', tags=[u'Crime', u'Sci-Fi', u'Thriller']),\n",
       " Row(movie_id=u'520', name=u'Robin Hood: Men in Tights (1993)', tags=[u'Comedy']),\n",
       " Row(movie_id=u'521', name=u'Romeo Is Bleeding (1993)', tags=[u'Crime', u'Thriller']),\n",
       " Row(movie_id=u'522', name=u'Romper Stomper (1992)', tags=[u'Action', u'Drama']),\n",
       " Row(movie_id=u'523', name=u'Ruby in Paradise (1993)', tags=[u'Drama']),\n",
       " Row(movie_id=u'524', name=u'Rudy (1993)', tags=[u'Drama']),\n",
       " Row(movie_id=u'525', name=u'Saint of Fort Washington, The (1993)', tags=[u'Drama']),\n",
       " Row(movie_id=u'526', name=u'Savage Nights (Nuits fauves, Les) (1992)', tags=[u'Drama']),\n",
       " Row(movie_id=u'527', name=u\"Schindler's List (1993)\", tags=[u'Drama', u'War']),\n",
       " Row(movie_id=u'528', name=u'Scout, The (1994)', tags=[u'Comedy']),\n",
       " Row(movie_id=u'529', name=u'Searching for Bobby Fischer (1993)', tags=[u'Drama']),\n",
       " Row(movie_id=u'530', name=u'Second Best (1994)', tags=[u'Drama']),\n",
       " Row(movie_id=u'531', name=u'Secret Garden, The (1993)', tags=[u'Children', u'Drama']),\n",
       " Row(movie_id=u'532', name=u'Serial Mom (1994)', tags=[u'Comedy', u'Crime', u'Horror']),\n",
       " Row(movie_id=u'533', name=u'Shadow, The (1994)', tags=[u'Action', u'Adventure', u'Fantasy', u'Mystery']),\n",
       " Row(movie_id=u'534', name=u'Shadowlands (1993)', tags=[u'Drama', u'Romance']),\n",
       " Row(movie_id=u'535', name=u'Short Cuts (1993)', tags=[u'Drama']),\n",
       " Row(movie_id=u'536', name=u'Simple Twist of Fate, A (1994)', tags=[u'Drama']),\n",
       " Row(movie_id=u'537', name=u'Sirens (1994)', tags=[u'Drama']),\n",
       " Row(movie_id=u'538', name=u'Six Degrees of Separation (1993)', tags=[u'Drama']),\n",
       " Row(movie_id=u'539', name=u'Sleepless in Seattle (1993)', tags=[u'Comedy', u'Drama', u'Romance']),\n",
       " Row(movie_id=u'540', name=u'Sliver (1993)', tags=[u'Thriller']),\n",
       " Row(movie_id=u'541', name=u'Blade Runner (1982)', tags=[u'Adventure', u'Drama', u'Film-Noir', u'Sci-Fi', u'Thriller']),\n",
       " Row(movie_id=u'542', name=u'Son in Law (1993)', tags=[u'Comedy']),\n",
       " Row(movie_id=u'543', name=u'So I Married an Axe Murderer (1993)', tags=[u'Comedy', u'Romance', u'Thriller']),\n",
       " Row(movie_id=u'544', name=u'Striking Distance (1993)', tags=[u'Action', u'Crime']),\n",
       " Row(movie_id=u'545', name=u'Harem (1985)', tags=[u'Drama']),\n",
       " Row(movie_id=u'546', name=u'Super Mario Bros. (1993)', tags=[u'Action', u'Adventure', u'Children', u'Comedy', u'Fantasy', u'Sci-Fi']),\n",
       " Row(movie_id=u'547', name=u'Surviving the Game (1994)', tags=[u'Action', u'Adventure', u'Thriller']),\n",
       " Row(movie_id=u'548', name=u'Terminal Velocity (1994)', tags=[u'Action', u'Mystery', u'Thriller']),\n",
       " Row(movie_id=u'549', name=u'Thirty-Two Short Films About Glenn Gould (1993)', tags=[u'Drama', u'Musical']),\n",
       " Row(movie_id=u'550', name=u'Threesome (1994)', tags=[u'Comedy', u'Romance']),\n",
       " Row(movie_id=u'551', name=u'Nightmare Before Christmas, The (1993)', tags=[u'Animation', u'Children', u'Fantasy', u'Musical']),\n",
       " Row(movie_id=u'552', name=u'Three Musketeers, The (1993)', tags=[u'Action', u'Adventure', u'Comedy']),\n",
       " Row(movie_id=u'553', name=u'Tombstone (1993)', tags=[u'Action', u'Drama', u'Western']),\n",
       " Row(movie_id=u'554', name=u'Trial by Jury (1994)', tags=[u'Crime', u'Drama', u'Thriller']),\n",
       " Row(movie_id=u'555', name=u'True Romance (1993)', tags=[u'Action', u'Crime', u'Romance']),\n",
       " Row(movie_id=u'556', name=u'War Room, The (1993)', tags=[u'Documentary']),\n",
       " Row(movie_id=u'558', name=u'Pagemaster, The (1994)', tags=[u'Action', u'Adventure', u'Animation', u'Children', u'Fantasy']),\n",
       " Row(movie_id=u'559', name=u'Paris, France (1993)', tags=[u'Comedy']),\n",
       " Row(movie_id=u'560', name=u'Beans of Egypt, Maine, The (1994)', tags=[u'Drama']),\n",
       " Row(movie_id=u'561', name=u'Killer (a.k.a. Bulletproof Heart) (1994)', tags=[u'Drama', u'Thriller']),\n",
       " Row(movie_id=u'562', name=u'Welcome to the Dollhouse (1995)', tags=[u'Comedy', u'Drama']),\n",
       " Row(movie_id=u'563', name=u'Germinal (1993)', tags=[u'Drama']),\n",
       " Row(movie_id=u'564', name=u'Chasers (1994)', tags=[u'Comedy']),\n",
       " Row(movie_id=u'565', name=u'Cronos (1993)', tags=[u'Action', u'Drama', u'Horror']),\n",
       " Row(movie_id=u'566', name=u'Naked in New York (1994)', tags=[u'Comedy', u'Romance']),\n",
       " Row(movie_id=u'567', name=u'Kika (1993)', tags=[u'Comedy', u'Drama']),\n",
       " Row(movie_id=u'568', name=u'Bhaji on the Beach (1993)', tags=[u'Comedy', u'Drama']),\n",
       " Row(movie_id=u'569', name=u'Little Big League (1994)', tags=[u'Comedy', u'Drama']),\n",
       " Row(movie_id=u'570', name=u'Slingshot, The (K\\xe5disbellan) (1993)', tags=[u'Comedy', u'Drama']),\n",
       " Row(movie_id=u'571', name=u'Wedding Gift, The (1994)', tags=[u'Drama', u'Romance']),\n",
       " Row(movie_id=u'572', name=u'Foreign Student (1994)', tags=[u'Drama']),\n",
       " Row(movie_id=u'573', name=u'Ciao, Professore! (Io speriamo che me la cavo) (1992)', tags=[u'Drama']),\n",
       " Row(movie_id=u'574', name=u'Spanking the Monkey (1994)', tags=[u'Comedy', u'Drama']),\n",
       " Row(movie_id=u'575', name=u'Little Rascals, The (1994)', tags=[u'Children', u'Comedy']),\n",
       " Row(movie_id=u'576', name=u'Fausto (1993)', tags=[u'Comedy']),\n",
       " Row(movie_id=u'577', name=u'Andre (1994)', tags=[u'Adventure', u'Children']),\n",
       " Row(movie_id=u'579', name=u'Escort, The (Scorta, La) (1993)', tags=[u'Crime', u'Thriller']),\n",
       " Row(movie_id=u'580', name=u'Princess Caraboo (1994)', tags=[u'Drama']),\n",
       " Row(movie_id=u'581', name=u'Celluloid Closet, The (1995)', tags=[u'Documentary']),\n",
       " Row(movie_id=u'582', name=u'M\\xe9tisse (Caf\\xe9 au Lait) (1993)', tags=[u'Comedy', u'Drama']),\n",
       " Row(movie_id=u'583', name=u'Dear Diary (Caro Diario) (1994)', tags=[u'Comedy', u'Drama']),\n",
       " Row(movie_id=u'584', name=u\"I Don't Want to Talk About It (De eso no se habla) (1993)\", tags=[u'Drama', u'Romance']),\n",
       " Row(movie_id=u'585', name=u'Brady Bunch Movie, The (1995)', tags=[u'Comedy']),\n",
       " Row(movie_id=u'586', name=u'Home Alone (1990)', tags=[u'Children', u'Comedy']),\n",
       " Row(movie_id=u'587', name=u'Ghost (1990)', tags=[u'Comedy', u'Drama', u'Fantasy', u'Romance', u'Thriller']),\n",
       " Row(movie_id=u'588', name=u'Aladdin (1992)', tags=[u'Adventure', u'Animation', u'Children', u'Comedy', u'Musical']),\n",
       " Row(movie_id=u'589', name=u'Terminator 2: Judgment Day (1991)', tags=[u'Action', u'Sci-Fi']),\n",
       " Row(movie_id=u'590', name=u'Dances with Wolves (1990)', tags=[u'Adventure', u'Drama', u'Western']),\n",
       " Row(movie_id=u'591', name=u'Tough and Deadly (1995)', tags=[u'Action', u'Drama', u'Thriller']),\n",
       " Row(movie_id=u'592', name=u'Batman (1989)', tags=[u'Action', u'Crime', u'Sci-Fi', u'Thriller']),\n",
       " Row(movie_id=u'593', name=u'Silence of the Lambs, The (1991)', tags=[u'Crime', u'Horror', u'Thriller']),\n",
       " Row(movie_id=u'594', name=u'Snow White and the Seven Dwarfs (1937)', tags=[u'Animation', u'Children', u'Drama', u'Fantasy', u'Musical']),\n",
       " Row(movie_id=u'595', name=u'Beauty and the Beast (1991)', tags=[u'Animation', u'Children', u'Fantasy', u'Musical', u'Romance']),\n",
       " Row(movie_id=u'596', name=u'Pinocchio (1940)', tags=[u'Animation', u'Children', u'Fantasy', u'Musical']),\n",
       " Row(movie_id=u'597', name=u'Pretty Woman (1990)', tags=[u'Comedy', u'Romance']),\n",
       " Row(movie_id=u'598', name=u'Window to Paris (Okno v Parizh) (1994)', tags=[u'Comedy', u'Fantasy']),\n",
       " Row(movie_id=u'599', name=u'Wild Bunch, The (1969)', tags=[u'Adventure', u'Western']),\n",
       " Row(movie_id=u'600', name=u'Love and a .45 (1994)', tags=[u'Thriller']),\n",
       " Row(movie_id=u'601', name=u\"Wooden Man's Bride, The (Yan shen) (1994)\", tags=[u'Drama']),\n",
       " Row(movie_id=u'602', name=u'Great Day in Harlem, A (1994)', tags=[u'Documentary']),\n",
       " Row(movie_id=u'603', name=u'Bye Bye, Love (1995)', tags=[u'Comedy']),\n",
       " Row(movie_id=u'604', name=u'Criminals (1996)', tags=[u'Documentary']),\n",
       " Row(movie_id=u'605', name=u'One Fine Day (1996)', tags=[u'Drama', u'Romance']),\n",
       " Row(movie_id=u'606', name=u'Candyman: Farewell to the Flesh (1995)', tags=[u'Fantasy', u'Horror']),\n",
       " Row(movie_id=u'607', name=u'Century (1993)', tags=[u'Drama']),\n",
       " Row(movie_id=u'608', name=u'Fargo (1996)', tags=[u'Comedy', u'Crime', u'Drama', u'Thriller']),\n",
       " Row(movie_id=u'609', name=u'Homeward Bound II: Lost in San Francisco (1996)', tags=[u'Adventure', u'Children']),\n",
       " Row(movie_id=u'610', name=u'Heavy Metal (1981)', tags=[u'Action', u'Adventure', u'Animation', u'Horror', u'Sci-Fi']),\n",
       " Row(movie_id=u'611', name=u'Hellraiser: Bloodline (1996)', tags=[u'Action', u'Horror', u'Sci-Fi']),\n",
       " Row(movie_id=u'612', name=u'Pallbearer, The (1996)', tags=[u'Comedy']),\n",
       " Row(movie_id=u'613', name=u'Jane Eyre (1996)', tags=[u'Drama', u'Romance']),\n",
       " Row(movie_id=u'614', name=u'Loaded (1994)', tags=[u'Drama', u'Thriller']),\n",
       " Row(movie_id=u'615', name=u'Bread and Chocolate (Pane e cioccolata) (1973)', tags=[u'Comedy', u'Drama']),\n",
       " Row(movie_id=u'616', name=u'Aristocats, The (1970)', tags=[u'Animation', u'Children']),\n",
       " Row(movie_id=u'617', name=u'Flower of My Secret, The (La Flor de Mi Secreto) (1995)', tags=[u'Comedy', u'Drama']),\n",
       " Row(movie_id=u'618', name=u'Two Much (1995)', tags=[u'Comedy', u'Romance']),\n",
       " Row(movie_id=u'619', name=u'Ed (1996)', tags=[u'Comedy']),\n",
       " Row(movie_id=u'620', name=u'Scream of Stone (Cerro Torre: Schrei aus Stein) (1991)', tags=[u'Drama']),\n",
       " Row(movie_id=u'621', name=u'My Favorite Season (1993)', tags=[u'Drama']),\n",
       " Row(movie_id=u'623', name=u'Modern Affair, A (1995)', tags=[u'Romance']),\n",
       " Row(movie_id=u'624', name=u'Condition Red (1995)', tags=[u'Action', u'Drama', u'Thriller']),\n",
       " Row(movie_id=u'625', name=u'Asfour Stah (1990)', tags=[u'Drama']),\n",
       " Row(movie_id=u'626', name=u'Thin Line Between Love and Hate, A (1996)', tags=[u'Comedy']),\n",
       " Row(movie_id=u'627', name=u'Last Supper, The (1995)', tags=[u'Drama', u'Thriller']),\n",
       " Row(movie_id=u'628', name=u'Primal Fear (1996)', tags=[u'Crime', u'Drama', u'Thriller']),\n",
       " Row(movie_id=u'629', name=u'Rude (1995)', tags=[u'Drama']),\n",
       " Row(movie_id=u'630', name=u'Carried Away (1996)', tags=[u'Drama', u'Romance']),\n",
       " Row(movie_id=u'631', name=u'All Dogs Go to Heaven 2 (1996)', tags=[u'Animation', u'Children', u'Musical']),\n",
       " Row(movie_id=u'632', name=u'Land and Freedom (Tierra y libertad) (1995)', tags=[u'Drama', u'War']),\n",
       " Row(movie_id=u'633', name=u'Denise Calls Up (1995)', tags=[u'Comedy']),\n",
       " Row(movie_id=u'634', name=u'Theodore Rex (1995)', tags=[u'Comedy']),\n",
       " Row(movie_id=u'635', name=u'Family Thing, A (1996)', tags=[u'Comedy', u'Drama']),\n",
       " Row(movie_id=u'636', name=u'Frisk (1995)', tags=[u'Drama']),\n",
       " Row(movie_id=u'637', name=u'Sgt. Bilko (1996)', tags=[u'Comedy']),\n",
       " Row(movie_id=u'638', name=u'Jack and Sarah (1995)', tags=[u'Romance']),\n",
       " Row(movie_id=u'639', name=u'Girl 6 (1996)', tags=[u'Comedy', u'Drama']),\n",
       " Row(movie_id=u'640', name=u'Diabolique (1996)', tags=[u'Drama', u'Thriller']),\n",
       " Row(movie_id=u'641', name=u'Little Indian, Big City (Un indien dans la ville) (1994)', tags=[u'Adventure', u'Children', u'Comedy']),\n",
       " Row(movie_id=u'642', name=u'Roula (1995)', tags=[u'Drama']),\n",
       " Row(movie_id=u'643', name=u'Peanuts - Die Bank zahlt alles (1996)', tags=[u'Comedy']),\n",
       " Row(movie_id=u'644', name=u'Happy Weekend (1996)', tags=[u'Comedy']),\n",
       " Row(movie_id=u'645', name=u'Nelly & Monsieur Arnaud (1995)', tags=[u'Drama']),\n",
       " Row(movie_id=u'647', name=u'Courage Under Fire (1996)', tags=[u'Drama', u'War']),\n",
       " Row(movie_id=u'648', name=u'Mission: Impossible (1996)', tags=[u'Action', u'Adventure', u'Mystery', u'Thriller']),\n",
       " Row(movie_id=u'649', name=u'Cold Fever (\\xc1 k\\xf6ldum klaka) (1995)', tags=[u'Comedy', u'Drama']),\n",
       " Row(movie_id=u'650', name=u'Moll Flanders (1996)', tags=[u'Drama']),\n",
       " Row(movie_id=u'651', name=u'Superweib, Das (1996)', tags=[u'Comedy']),\n",
       " Row(movie_id=u'652', name=u'301, 302 (a.k.a. 301/302) (1995)', tags=[u'Horror', u'Mystery', u'Thriller']),\n",
       " Row(movie_id=u'653', name=u'Dragonheart (1996)', tags=[u'Action', u'Adventure', u'Fantasy']),\n",
       " Row(movie_id=u'654', name=u'Und keiner weint mir nach (1996)', tags=[u'Drama', u'Romance']),\n",
       " Row(movie_id=u'655', name=u\"My Mother's Courage (Mutters Courage) (1995)\", tags=[u'Comedy']),\n",
       " Row(movie_id=u'656', name=u'Eddie (1996)', tags=[u'Comedy']),\n",
       " Row(movie_id=u'657', name=u'Yankee Zulu (1994)', tags=[u'Comedy', u'Drama']),\n",
       " Row(movie_id=u'658', name=u\"Billy's Holiday (1995)\", tags=[u'Drama', u'Musical']),\n",
       " Row(movie_id=u'659', name=u'Purple Noon (Plein soleil) (1960)', tags=[u'Crime', u'Drama', u'Thriller']),\n",
       " Row(movie_id=u'660', name=u'August (1996)', tags=[u'Drama']),\n",
       " Row(movie_id=u'661', name=u'James and the Giant Peach (1996)', tags=[u'Animation', u'Children', u'Fantasy', u'Musical']),\n",
       " Row(movie_id=u'662', name=u'Fear (1996)', tags=[u'Thriller']),\n",
       " Row(movie_id=u'663', name=u'Kids in the Hall: Brain Candy (1996)', tags=[u'Comedy']),\n",
       " Row(movie_id=u'664', name=u'Faithful (1996)', tags=[u'Comedy']),\n",
       " Row(movie_id=u'665', name=u'Underground (1995)', tags=[u'Comedy', u'Drama', u'War']),\n",
       " Row(movie_id=u'666', name=u'All Things Fair (Lust och f\\xe4gring stor) (1995)', tags=[u'Drama', u'Romance', u'War']),\n",
       " Row(movie_id=u'667', name=u'Bloodsport 2 (a.k.a. Bloodsport II: The Next Kumite) (1996)', tags=[u'Action']),\n",
       " Row(movie_id=u'668', name=u'Pather Panchali (1955)', tags=[u'Drama']),\n",
       " Row(movie_id=u'670', name=u'World of Apu, The (Apur Sansar) (1959)', tags=[u'Drama']),\n",
       " Row(movie_id=u'671', name=u'Mystery Science Theater 3000: The Movie (1996)', tags=[u'Comedy', u'Sci-Fi']),\n",
       " Row(movie_id=u'672', name=u'Tarantella (1995)', tags=[u'Drama']),\n",
       " Row(movie_id=u'673', name=u'Space Jam (1996)', tags=[u'Adventure', u'Animation', u'Children', u'Comedy', u'Fantasy', u'Sci-Fi']),\n",
       " Row(movie_id=u'674', name=u'Barbarella (1968)', tags=[u'Adventure', u'Sci-Fi']),\n",
       " Row(movie_id=u'675', name=u'Hostile Intentions (1994)', tags=[u'Action', u'Drama', u'Thriller']),\n",
       " Row(movie_id=u'676', name=u'They Bite (1996)', tags=[u'Drama']),\n",
       " Row(movie_id=u'678', name=u'Some Folks Call It a Sling Blade (1993)', tags=[u'Drama', u'Thriller']),\n",
       " Row(movie_id=u'679', name=u'Run of the Country, The (1995)', tags=[u'Drama']),\n",
       " Row(movie_id=u'680', name=u'Alphaville (Alphaville, une \\xe9trange aventure de Lemmy Caution) (1965)', tags=[u'Drama', u'Mystery', u'Romance', u'Sci-Fi', u'Thriller']),\n",
       " Row(movie_id=u'681', name=u'Clean Slate (Coup de Torchon) (1981)', tags=[u'Crime']),\n",
       " Row(movie_id=u'682', name=u'Tigrero: A Film That Was Never Made (1994)', tags=[u'Documentary', u'Drama']),\n",
       " Row(movie_id=u'683', name=u\"Eye of Vichy, The (L'Oeil de Vichy) (1993)\", tags=[u'Documentary']),\n",
       " Row(movie_id=u'684', name=u'Windows (1980)', tags=[u'Drama']),\n",
       " Row(movie_id=u'685', name=u\"It's My Party (1996)\", tags=[u'Drama']),\n",
       " Row(movie_id=u'687', name=u'Country Life (1994)', tags=[u'Drama', u'Romance']),\n",
       " Row(movie_id=u'688', name=u'Operation Dumbo Drop (1995)', tags=[u'Action', u'Adventure', u'Comedy', u'War']),\n",
       " Row(movie_id=u'690', name=u'Promise, The (Das Versprechen) (1995)', tags=[u'Drama', u'Romance']),\n",
       " Row(movie_id=u'691', name=u'Mrs. Winterbourne (1996)', tags=[u'Comedy', u'Romance']),\n",
       " Row(movie_id=u'692', name=u'Solo (1996)', tags=[u'Action', u'Sci-Fi', u'Thriller']),\n",
       " Row(movie_id=u'693', name=u'Under the Domim Tree (Etz Hadomim Tafus) (1994)', tags=[u'Drama']),\n",
       " Row(movie_id=u'694', name=u'Substitute, The (1996)', tags=[u'Action', u'Crime', u'Drama']),\n",
       " Row(movie_id=u'695', name=u'True Crime (1996)', tags=[u'Mystery', u'Thriller']),\n",
       " Row(movie_id=u'696', name=u'Butterfly Kiss (1995)', tags=[u'Drama', u'Thriller']),\n",
       " Row(movie_id=u'697', name=u'Feeling Minnesota (1996)', tags=[u'Drama', u'Romance']),\n",
       " Row(movie_id=u'698', name=u'Delta of Venus (1995)', tags=[u'Drama']),\n",
       " Row(movie_id=u'699', name=u'To Cross the Rubicon (1991)', tags=[u'Drama']),\n",
       " Row(movie_id=u'700', name=u'Angus (1995)', tags=[u'Comedy']),\n",
       " Row(movie_id=u'701', name=u'Daens (1992)', tags=[u'Drama']),\n",
       " Row(movie_id=u'702', name=u'Faces (1968)', tags=[u'Drama']),\n",
       " Row(movie_id=u'703', name=u'Boys (1996)', tags=[u'Drama']),\n",
       " Row(movie_id=u'704', name=u'Quest, The (1996)', tags=[u'Action', u'Adventure']),\n",
       " Row(movie_id=u'705', name=u'Cosi (1996)', tags=[u'Comedy']),\n",
       " Row(movie_id=u'706', name=u'Sunset Park (1996)', tags=[u'Drama']),\n",
       " Row(movie_id=u'707', name=u'Mulholland Falls (1996)', tags=[u'Crime', u'Drama', u'Thriller']),\n",
       " Row(movie_id=u'708', name=u'Truth About Cats & Dogs, The (1996)', tags=[u'Comedy', u'Romance']),\n",
       " Row(movie_id=u'709', name=u'Oliver & Company (1988)', tags=[u'Adventure', u'Animation', u'Children', u'Comedy', u'Musical']),\n",
       " Row(movie_id=u'710', name=u'Celtic Pride (1996)', tags=[u'Comedy']),\n",
       " Row(movie_id=u'711', name=u'Flipper (1996)', tags=[u'Adventure', u'Children']),\n",
       " Row(movie_id=u'712', name=u'Captives (1994)', tags=[u'Crime', u'Drama', u'Romance', u'Thriller']),\n",
       " Row(movie_id=u'713', name=u'Of Love and Shadows (1994)', tags=[u'Drama']),\n",
       " Row(movie_id=u'714', name=u'Dead Man (1995)', tags=[u'Drama', u'Mystery', u'Western']),\n",
       " Row(movie_id=u'715', name=u'Horseman on the Roof, The (Hussard sur le toit, Le) (1995)', tags=[u'Drama', u'Romance']),\n",
       " Row(movie_id=u'716', name=u'Switchblade Sisters (1975)', tags=[u'Crime']),\n",
       " Row(movie_id=u'717', name=u'Mouth to Mouth (Boca a boca) (1995)', tags=[u'Comedy']),\n",
       " Row(movie_id=u'718', name=u'Visitors, The (Les Visiteurs) (1993)', tags=[u'Comedy', u'Fantasy']),\n",
       " Row(movie_id=u'719', name=u'Multiplicity (1996)', tags=[u'Comedy']),\n",
       " Row(movie_id=u'720', name=u'Wallace & Gromit: The Best of Aardman Animation (1996)', tags=[u'Adventure', u'Animation', u'Comedy']),\n",
       " Row(movie_id=u'721', name=u'Halfmoon (Paul Bowles - Halbmond) (1995)', tags=[u'Drama']),\n",
       " Row(movie_id=u'722', name=u'Haunted World of Edward D. Wood Jr., The (1996)', tags=[u'Documentary']),\n",
       " Row(movie_id=u'723', name=u'Two Friends (1986)', tags=[u'Drama']),\n",
       " Row(movie_id=u'724', name=u'Craft, The (1996)', tags=[u'Comedy', u'Drama', u'Fantasy', u'Horror', u'Thriller']),\n",
       " Row(movie_id=u'725', name=u'Great White Hype, The (1996)', tags=[u'Comedy']),\n",
       " Row(movie_id=u'726', name=u'Last Dance (1996)', tags=[u'Drama']),\n",
       " Row(movie_id=u'727', name=u'War Stories (1995)', tags=[u'Documentary']),\n",
       " Row(movie_id=u'728', name=u'Cold Comfort Farm (1995)', tags=[u'Comedy']),\n",
       " Row(movie_id=u'729', name=u'Institute Benjamenta, or This Dream People Call Human Life (1995)', tags=[u'Drama']),\n",
       " Row(movie_id=u'730', name=u'Low Life (1994)', tags=[u'Drama']),\n",
       " Row(movie_id=u'731', name=u\"Heaven's Prisoners (1996)\", tags=[u'Crime', u'Thriller']),\n",
       " Row(movie_id=u'732', name=u'Original Gangstas (1996)', tags=[u'Crime']),\n",
       " Row(movie_id=u'733', name=u'Rock, The (1996)', tags=[u'Action', u'Adventure', u'Thriller']),\n",
       " Row(movie_id=u'734', name=u'Getting Away With Murder (1996)', tags=[u'Comedy']),\n",
       " Row(movie_id=u'735', name=u'Cemetery Man (Dellamorte Dellamore) (1994)', tags=[u'Comedy', u'Horror']),\n",
       " Row(movie_id=u'736', name=u'Twister (1996)', tags=[u'Action', u'Adventure', u'Romance', u'Thriller']),\n",
       " Row(movie_id=u'737', name=u'Barb Wire (1996)', tags=[u'Action', u'Sci-Fi']),\n",
       " Row(movie_id=u'738', name=u'Gar\\xe7u, Le (1995)', tags=[u'Drama']),\n",
       " Row(movie_id=u'739', name=u'Honey Moon (Honigmond) (1996)', tags=[u'Comedy']),\n",
       " Row(movie_id=u'741', name=u'Ghost in the Shell (K\\xf4kaku kid\\xf4tai) (1995)', tags=[u'Animation', u'Sci-Fi']),\n",
       " Row(movie_id=u'742', name=u'Thinner (1996)', tags=[u'Horror', u'Thriller']),\n",
       " Row(movie_id=u'743', name=u'Spy Hard (1996)', tags=[u'Comedy']),\n",
       " Row(movie_id=u'744', name=u'Brothers in Trouble (1995)', tags=[u'Drama']),\n",
       " Row(movie_id=u'745', name=u'Wallace & Gromit: A Close Shave (1995)', tags=[u'Animation', u'Children', u'Comedy']),\n",
       " Row(movie_id=u'746', name=u'Force of Evil (1948)', tags=[u'Film-Noir']),\n",
       " Row(movie_id=u'747', name=u'Stupids, The (1996)', tags=[u'Comedy']),\n",
       " Row(movie_id=u'748', name=u'Arrival, The (1996)', tags=[u'Action', u'Sci-Fi', u'Thriller']),\n",
       " Row(movie_id=u'749', name=u'Man from Down Under, The (1943)', tags=[u'Drama']),\n",
       " Row(movie_id=u'750', name=u'Dr. Strangelove or: How I Learned to Stop Worrying and Love the Bomb (1964)', tags=[u'Comedy', u'War']),\n",
       " Row(movie_id=u'751', name=u'Careful (1992)', tags=[u'Comedy', u'Horror']),\n",
       " Row(movie_id=u'752', name=u'Vermont Is For Lovers (1992)', tags=[u'Comedy', u'Documentary', u'Romance']),\n",
       " Row(movie_id=u'753', name=u'Month by the Lake, A (1995)', tags=[u'Comedy', u'Drama']),\n",
       " Row(movie_id=u'754', name=u'Gold Diggers: The Secret of Bear Mountain (1995)', tags=[u'Adventure', u'Children']),\n",
       " Row(movie_id=u'755', name=u'Kim (1950)', tags=[u'Children', u'Drama']),\n",
       " Row(movie_id=u'756', name=u'Carmen Miranda: Bananas Is My Business (1994)', tags=[u'Documentary']),\n",
       " Row(movie_id=u'757', name=u'Ashes of Time (Dung che sai duk) (1994)', tags=[u'Drama']),\n",
       " Row(movie_id=u'758', name=u'Jar, The (Khomreh) (1992)', tags=[u'Drama']),\n",
       " Row(movie_id=u'759', name=u'Maya Lin: A Strong Clear Vision (1994)', tags=[u'Documentary']),\n",
       " Row(movie_id=u'760', name=u'Stalingrad (1993)', tags=[u'Drama', u'War']),\n",
       " Row(movie_id=u'761', name=u'Phantom, The (1996)', tags=[u'Action', u'Adventure']),\n",
       " Row(movie_id=u'762', name=u'Striptease (1996)', tags=[u'Comedy', u'Crime']),\n",
       " Row(movie_id=u'763', name=u'Last of the High Kings, The (a.k.a. Summer Fling) (1996)', tags=[u'Comedy', u'Drama']),\n",
       " Row(movie_id=u'764', name=u'Heavy (1995)', tags=[u'Drama', u'Romance']),\n",
       " Row(movie_id=u'765', name=u'Jack (1996)', tags=[u'Comedy', u'Drama']),\n",
       " Row(movie_id=u'766', name=u'I Shot Andy Warhol (1996)', tags=[u'Drama']),\n",
       " Row(movie_id=u'767', name=u'Grass Harp, The (1995)', tags=[u'Comedy', u'Drama']),\n",
       " Row(movie_id=u'768', name=u\"Someone Else's America (1995)\", tags=[u'Drama']),\n",
       " Row(movie_id=u'769', name=u'Marlene Dietrich: Shadow and Light (1996)', tags=[u'Documentary']),\n",
       " Row(movie_id=u'770', name=u'Costa Brava (1946)', tags=[u'Drama']),\n",
       " Row(movie_id=u'771', name=u'Life Is Rosy (a.k.a. Life Is Beautiful) (La Vie est belle) (1987)', tags=[u'Comedy', u'Drama']),\n",
       " Row(movie_id=u'772', name=u'Quartier Mozart (1992)', tags=[u'Comedy']),\n",
       " Row(movie_id=u'773', name=u'Touki Bouki (1973)', tags=[u'Drama']),\n",
       " Row(movie_id=u'774', name=u\"Wend Kuuni (a.k.a. God's Gift) (1982)\", tags=[u'Drama']),\n",
       " Row(movie_id=u'775', name=u'Spirits of the Dead (Histoires extraordinaires) (1968)', tags=[u'Horror', u'Mystery']),\n",
       " Row(movie_id=u'776', name=u'Babyfever (1994)', tags=[u'Comedy', u'Drama']),\n",
       " Row(movie_id=u'777', name=u\"Pharaoh's Army (1995)\", tags=[u'War']),\n",
       " Row(movie_id=u'778', name=u'Trainspotting (1996)', tags=[u'Comedy', u'Crime', u'Drama']),\n",
       " Row(movie_id=u'779', name=u\"'Til There Was You (1997)\", tags=[u'Drama', u'Romance']),\n",
       " Row(movie_id=u'780', name=u'Independence Day (a.k.a. ID4) (1996)', tags=[u'Action', u'Adventure', u'Sci-Fi', u'War']),\n",
       " Row(movie_id=u'781', name=u'Stealing Beauty (1996)', tags=[u'Drama']),\n",
       " Row(movie_id=u'782', name=u'Fan, The (1996)', tags=[u'Drama', u'Thriller']),\n",
       " Row(movie_id=u'783', name=u'Hunchback of Notre Dame, The (1996)', tags=[u'Animation', u'Children', u'Musical']),\n",
       " Row(movie_id=u'784', name=u'Cable Guy, The (1996)', tags=[u'Comedy', u'Thriller']),\n",
       " Row(movie_id=u'785', name=u'Kingpin (1996)', tags=[u'Comedy']),\n",
       " Row(movie_id=u'786', name=u'Eraser (1996)', tags=[u'Action', u'Drama', u'Thriller']),\n",
       " Row(movie_id=u'787', name=u'Gate of Heavenly Peace, The (1995)', tags=[u'Documentary']),\n",
       " Row(movie_id=u'788', name=u'Nutty Professor, The (1996)', tags=[u'Comedy', u'Fantasy', u'Romance', u'Sci-Fi']),\n",
       " Row(movie_id=u'789', name=u'I, the Worst of All (Yo, la peor de todas) (1990)', tags=[u'Drama']),\n",
       " Row(movie_id=u'790', name=u'Unforgettable Summer, An (Un \\xe9t\\xe9 inoubliable) (1994)', tags=[u'Drama']),\n",
       " Row(movie_id=u'791', name=u'Last Klezmer: Leopold Kozlowski, His Life and Music, The (1994)', tags=[u'Documentary']),\n",
       " Row(movie_id=u'792', name=u'Hungarian Fairy Tale, A (Hol volt, hol nem volt) (1987)', tags=[u'Fantasy']),\n",
       " Row(movie_id=u'793', name=u\"My Life and Times With Antonin Artaud (En compagnie d'Antonin Artaud) (1993)\", tags=[u'Drama']),\n",
       " Row(movie_id=u'794', name=u'Midnight Dancers (Sibak) (1994)', tags=[u'Comedy', u'Drama']),\n",
       " Row(movie_id=u'795', name=u'Somebody to Love (1994)', tags=[u'Drama']),\n",
       " Row(movie_id=u'796', name=u'Very Natural Thing, A (1974)', tags=[u'Drama']),\n",
       " Row(movie_id=u'797', name=u'Old Lady Who Walked in the Sea, The (Vieille qui marchait dans la mer, La) (1991)', tags=[u'Comedy']),\n",
       " Row(movie_id=u'798', name=u'Daylight (1996)', tags=[u'Action', u'Adventure', u'Drama', u'Thriller']),\n",
       " Row(movie_id=u'799', name=u'Frighteners, The (1996)', tags=[u'Comedy', u'Horror', u'Thriller']),\n",
       " Row(movie_id=u'800', name=u'Lone Star (1996)', tags=[u'Drama']),\n",
       " Row(movie_id=u'801', name=u'Harriet the Spy (1996)', tags=[u'Children', u'Comedy']),\n",
       " Row(movie_id=u'802', name=u'Phenomenon (1996)', tags=[u'Drama', u'Romance']),\n",
       " Row(movie_id=u'803', name=u'Walking and Talking (1996)', tags=[u'Comedy', u'Drama', u'Romance']),\n",
       " Row(movie_id=u'804', name=u\"She's the One (1996)\", tags=[u'Comedy', u'Romance']),\n",
       " Row(movie_id=u'805', name=u'Time to Kill, A (1996)', tags=[u'Drama', u'Thriller']),\n",
       " Row(movie_id=u'806', name=u'American Buffalo (1996)', tags=[u'Crime', u'Drama']),\n",
       " Row(movie_id=u'807', name=u'Rendezvous in Paris (Rendez-vous de Paris, Les) (1995)', tags=[u'Comedy', u'Romance']),\n",
       " Row(movie_id=u'808', name=u'Alaska (1996)', tags=[u'Adventure', u'Children']),\n",
       " Row(movie_id=u'809', name=u'Fled (1996)', tags=[u'Action', u'Adventure']),\n",
       " Row(movie_id=u'810', name=u'Kazaam (1996)', tags=[u'Children', u'Comedy', u'Fantasy']),\n",
       " Row(movie_id=u'812', name=u'Magic Hunter (B\\xfcv\\xf6s vad\\xe1sz) (1994)', tags=[u'Drama']),\n",
       " Row(movie_id=u'813', name=u'Larger Than Life (1996)', tags=[u'Comedy']),\n",
       " Row(movie_id=u'814', name=u'Boy Called Hate, A (1995)', tags=[u'Drama']),\n",
       " Row(movie_id=u'815', name=u'Power 98 (1996)', tags=[u'Action', u'Mystery', u'Thriller']),\n",
       " Row(movie_id=u'816', name=u'Two Deaths (1995)', tags=[u'Drama']),\n",
       " Row(movie_id=u'818', name=u'Very Brady Sequel, A (1996)', tags=[u'Comedy']),\n",
       " Row(movie_id=u'819', name=u'Stefano Quantestorie (1993)', tags=[u'Comedy', u'Drama']),\n",
       " Row(movie_id=u'820', name=u'Death in the Garden (La Mort en ce jardin) (1956)', tags=[u'Drama']),\n",
       " Row(movie_id=u'821', name=u'Crude Oasis, The (1995)', tags=[u'Romance']),\n",
       " Row(movie_id=u'822', name=u'Hedd Wyn (1992)', tags=[u'Drama']),\n",
       " Row(movie_id=u'823', name=u'Collectionneuse, La (1967)', tags=[u'Drama']),\n",
       " Row(movie_id=u'824', name=u'Kaspar Hauser (1993)', tags=[u'Drama']),\n",
       " Row(movie_id=u'825', name=u'Regular Guys (Echte Kerle) (1996)', tags=[u'Comedy', u'Romance']),\n",
       " Row(movie_id=u'826', name=u'Women Robbers (Diebinnen) (1995)', tags=[u'Drama']),\n",
       " Row(movie_id=u'827', name=u'Convent, The (O Convento) (1995)', tags=[u'Drama']),\n",
       " Row(movie_id=u'828', name=u'Adventures of Pinocchio, The (1996)', tags=[u'Adventure', u'Children']),\n",
       " Row(movie_id=u'829', name=u\"Joe's Apartment (1996)\", tags=[u'Comedy', u'Fantasy', u'Musical']),\n",
       " Row(movie_id=u'830', name=u'First Wives Club, The (1996)', tags=[u'Comedy']),\n",
       " Row(movie_id=u'831', name=u'Stonewall (1995)', tags=[u'Drama']),\n",
       " Row(movie_id=u'832', name=u'Ransom (1996)', tags=[u'Action', u'Crime', u'Drama', u'Thriller']),\n",
       " Row(movie_id=u'833', name=u'High School High (1996)', tags=[u'Comedy']),\n",
       " Row(movie_id=u'834', name=u'Phat Beach (1996)', tags=[u'Comedy']),\n",
       " Row(movie_id=u'835', name=u'Foxfire (1996)', tags=[u'Drama']),\n",
       " Row(movie_id=u'836', name=u'Chain Reaction (1996)', tags=[u'Action', u'Adventure', u'Thriller']),\n",
       " Row(movie_id=u'837', name=u'Matilda (1996)', tags=[u'Children', u'Comedy', u'Fantasy']),\n",
       " Row(movie_id=u'838', name=u'Emma (1996)', tags=[u'Comedy', u'Drama', u'Romance']),\n",
       " Row(movie_id=u'839', name=u'Crow: City of Angels, The (1996)', tags=[u'Action', u'Thriller']),\n",
       " Row(movie_id=u'840', name=u'House Arrest (1996)', tags=[u'Children', u'Comedy']),\n",
       " Row(movie_id=u'841', name=u'Eyes Without a Face (Les Yeux sans visage) (1959)', tags=[u'Horror']),\n",
       " Row(movie_id=u'842', name=u'Bordello of Blood (1996)', tags=[u'Comedy', u'Horror']),\n",
       " Row(movie_id=u'843', name=u'Lotto Land (1995)', tags=[u'Drama']),\n",
       " Row(movie_id=u'844', name=u'Story of Xinghua, The (Xinghua san yue tian) (1994)', tags=[u'Drama']),\n",
       " Row(movie_id=u'845', name=u'Day the Sun Turned Cold, The (Tianguo niezi) (1994)', tags=[u'Drama']),\n",
       " Row(movie_id=u'846', name=u'Flirt (1995)', tags=[u'Drama']),\n",
       " Row(movie_id=u'847', name=u'Big Squeeze, The (1996)', tags=[u'Comedy', u'Drama']),\n",
       " Row(movie_id=u'848', name=u'Spitfire Grill, The (1996)', tags=[u'Drama']),\n",
       " Row(movie_id=u'849', name=u'Escape from L.A. (1996)', tags=[u'Action', u'Adventure', u'Sci-Fi', u'Thriller']),\n",
       " Row(movie_id=u'850', name=u'Cyclo (Xich lo) (1995)', tags=[u'Crime', u'Drama']),\n",
       " Row(movie_id=u'851', name=u'Basquiat (1996)', tags=[u'Drama']),\n",
       " Row(movie_id=u'852', name=u'Tin Cup (1996)', tags=[u'Comedy', u'Drama', u'Romance']),\n",
       " Row(movie_id=u'853', name=u'Dingo (1991)', tags=[u'Drama']),\n",
       " Row(movie_id=u'854', name=u'Ballad of Narayama (Narayama Bushiko) (1958)', tags=[u'Drama']),\n",
       " Row(movie_id=u'855', name=u'Every Other Weekend (Un week-end sur deux) (1990)', tags=[u'Drama']),\n",
       " Row(movie_id=u'856', name=u'Mille bolle blu (1993)', tags=[u'Comedy']),\n",
       " Row(movie_id=u'857', name=u'Crows and Sparrows (Wuya yu maque) (1949)', tags=[u'Drama']),\n",
       " Row(movie_id=u'858', name=u'Godfather, The (1972)', tags=[u'Crime', u'Drama']),\n",
       " Row(movie_id=u'859', name=u'Hippie Revolution, The (1996)', tags=[u'Documentary']),\n",
       " Row(movie_id=u'860', name=u'Maybe, Maybe Not (Der Bewegte Mann) (1994)', tags=[u'Comedy']),\n",
       " Row(movie_id=u'861', name=u'Supercop (Police Story 3: Supercop) (Jing cha gu shi III: Chao ji jing cha) (1992)', tags=[u'Action', u'Comedy', u'Crime', u'Thriller']),\n",
       " Row(movie_id=u'862', name=u'Manny & Lo (1996)', tags=[u'Drama']),\n",
       " Row(movie_id=u'864', name=u'Wife, The (1995)', tags=[u'Comedy', u'Drama']),\n",
       " Row(movie_id=u'865', name=u'Small Faces (1996)', tags=[u'Drama']),\n",
       " Row(movie_id=u'866', name=u'Bound (1996)', tags=[u'Crime', u'Drama', u'Romance', u'Thriller']),\n",
       " Row(movie_id=u'867', name=u'Carpool (1996)', tags=[u'Comedy', u'Crime']),\n",
       " Row(movie_id=u'868', name=u'Death in Brunswick (1991)', tags=[u'Comedy']),\n",
       " Row(movie_id=u'869', name=u'Kansas City (1996)', tags=[u'Crime']),\n",
       " Row(movie_id=u'870', name=u\"Gone Fishin' (1997)\", tags=[u'Comedy']),\n",
       " Row(movie_id=u'871', name=u\"Lover's Knot (1996)\", tags=[u'Comedy']),\n",
       " Row(movie_id=u'872', name=u\"Vive L'Amour (Aiqing wansui) (1994)\", tags=[u'Drama']),\n",
       " Row(movie_id=u'873', name=u'Shadow of Angels (Schatten der Engel) (1976)', tags=[u'Drama']),\n",
       " Row(movie_id=u'874', name=u'Killer: A Journal of Murder (1995)', tags=[u'Crime', u'Drama']),\n",
       " Row(movie_id=u'875', name=u'Nothing to Lose (1994)', tags=[u'Drama']),\n",
       " Row(movie_id=u'876', name=u'Supercop 2 (Project S) (Chao ji ji hua) (1993)', tags=[u'Action', u'Comedy', u'Crime', u'Thriller']),\n",
       " Row(movie_id=u'877', name=u'Girls Town (1996)', tags=[u'Drama']),\n",
       " Row(movie_id=u'878', name=u'Bye-Bye (1995)', tags=[u'Drama']),\n",
       " Row(movie_id=u'879', name=u'Relic, The (1997)', tags=[u'Horror', u'Thriller']),\n",
       " Row(movie_id=u'880', name=u'Island of Dr. Moreau, The (1996)', tags=[u'Sci-Fi', u'Thriller']),\n",
       " Row(movie_id=u'881', name=u'First Kid (1996)', tags=[u'Children', u'Comedy']),\n",
       " Row(movie_id=u'882', name=u'Trigger Effect, The (1996)', tags=[u'Drama', u'Thriller']),\n",
       " Row(movie_id=u'884', name=u'Sweet Nothing (1996)', tags=[u'Drama']),\n",
       " Row(movie_id=u'885', name=u'Bogus (1996)', tags=[u'Children', u'Drama', u'Fantasy']),\n",
       " Row(movie_id=u'886', name=u'Bulletproof (1996)', tags=[u'Action']),\n",
       " Row(movie_id=u'887', name=u'Talk of Angels (1998)', tags=[u'Drama']),\n",
       " Row(movie_id=u'888', name=u'Land Before Time III: The Time of the Great Giving (1995)', tags=[u'Adventure', u'Animation', u'Children', u'Drama', u'Musical']),\n",
       " Row(movie_id=u'889', name=u'1-900 (06) (1994)', tags=[u'Drama', u'Romance']),\n",
       " Row(movie_id=u'890', name=u'Baton Rouge (B\\xe2ton rouge) (1988)', tags=[u'Thriller']),\n",
       " Row(movie_id=u'891', name=u'Halloween: The Curse of Michael Myers (1995)', tags=[u'Horror', u'Thriller']),\n",
       " Row(movie_id=u'892', name=u'Twelfth Night (1996)', tags=[u'Comedy', u'Drama', u'Romance']),\n",
       " Row(movie_id=u'893', name=u'Mother Night (1996)', tags=[u'Drama']),\n",
       " Row(movie_id=u'894', name=u'Liebelei (1933)', tags=[u'Romance']),\n",
       " Row(movie_id=u'895', name=u'Venice/Venice (1992)', tags=[u'Drama']),\n",
       " Row(movie_id=u'896', name=u'Wild Reeds (Les Roseaux sauvages) (1994)', tags=[u'Drama']),\n",
       " Row(movie_id=u'897', name=u'For Whom the Bell Tolls (1943)', tags=[u'Adventure', u'Drama', u'Romance', u'War']),\n",
       " Row(movie_id=u'898', name=u'Philadelphia Story, The (1940)', tags=[u'Comedy', u'Romance']),\n",
       " Row(movie_id=u'899', name=u\"Singin' in the Rain (1952)\", tags=[u'Comedy', u'Musical', u'Romance']),\n",
       " Row(movie_id=u'900', name=u'American in Paris, An (1951)', tags=[u'Musical', u'Romance']),\n",
       " Row(movie_id=u'901', name=u'Funny Face (1957)', tags=[u'Comedy', u'Musical']),\n",
       " Row(movie_id=u'902', name=u\"Breakfast at Tiffany's (1961)\", tags=[u'Drama', u'Romance']),\n",
       " Row(movie_id=u'903', name=u'Vertigo (1958)', tags=[u'Drama', u'Mystery', u'Romance', u'Thriller']),\n",
       " Row(movie_id=u'904', name=u'Rear Window (1954)', tags=[u'Mystery', u'Thriller']),\n",
       " Row(movie_id=u'905', name=u'It Happened One Night (1934)', tags=[u'Comedy', u'Romance']),\n",
       " Row(movie_id=u'906', name=u'Gaslight (1944)', tags=[u'Drama', u'Thriller']),\n",
       " Row(movie_id=u'907', name=u'Gay Divorcee, The (1934)', tags=[u'Comedy', u'Musical', u'Romance']),\n",
       " Row(movie_id=u'908', name=u'North by Northwest (1959)', tags=[u'Adventure', u'Mystery', u'Thriller']),\n",
       " Row(movie_id=u'909', name=u'Apartment, The (1960)', tags=[u'Comedy', u'Drama', u'Romance']),\n",
       " Row(movie_id=u'910', name=u'Some Like It Hot (1959)', tags=[u'Comedy', u'Crime']),\n",
       " Row(movie_id=u'911', name=u'Charade (1963)', tags=[u'Comedy', u'Crime', u'Mystery', u'Romance', u'Thriller']),\n",
       " Row(movie_id=u'912', name=u'Casablanca (1942)', tags=[u'Drama', u'Romance']),\n",
       " Row(movie_id=u'913', name=u'Maltese Falcon, The (1941)', tags=[u'Film-Noir', u'Mystery']),\n",
       " Row(movie_id=u'914', name=u'My Fair Lady (1964)', tags=[u'Comedy', u'Drama', u'Musical', u'Romance']),\n",
       " Row(movie_id=u'915', name=u'Sabrina (1954)', tags=[u'Comedy', u'Romance']),\n",
       " Row(movie_id=u'916', name=u'Roman Holiday (1953)', tags=[u'Comedy', u'Romance']),\n",
       " Row(movie_id=u'917', name=u'Little Princess, The (1939)', tags=[u'Children', u'Drama']),\n",
       " Row(movie_id=u'918', name=u'Meet Me in St. Louis (1944)', tags=[u'Musical']),\n",
       " Row(movie_id=u'919', name=u'Wizard of Oz, The (1939)', tags=[u'Adventure', u'Children', u'Fantasy', u'Musical']),\n",
       " Row(movie_id=u'920', name=u'Gone with the Wind (1939)', tags=[u'Drama', u'Romance', u'War']),\n",
       " Row(movie_id=u'921', name=u'My Favorite Year (1982)', tags=[u'Comedy']),\n",
       " Row(movie_id=u'922', name=u'Sunset Blvd. (a.k.a. Sunset Boulevard) (1950)', tags=[u'Drama', u'Film-Noir', u'Romance']),\n",
       " Row(movie_id=u'923', name=u'Citizen Kane (1941)', tags=[u'Drama', u'Mystery']),\n",
       " Row(movie_id=u'924', name=u'2001: A Space Odyssey (1968)', tags=[u'Adventure', u'Sci-Fi']),\n",
       " Row(movie_id=u'925', name=u'Golden Earrings (1947)', tags=[u'Adventure', u'Romance']),\n",
       " Row(movie_id=u'926', name=u'All About Eve (1950)', tags=[u'Drama']),\n",
       " Row(movie_id=u'927', name=u'Women, The (1939)', tags=[u'Comedy']),\n",
       " Row(movie_id=u'928', name=u'Rebecca (1940)', tags=[u'Drama', u'Mystery', u'Romance', u'Thriller']),\n",
       " Row(movie_id=u'929', name=u'Foreign Correspondent (1940)', tags=[u'Drama', u'Film-Noir', u'Mystery', u'Thriller']),\n",
       " Row(movie_id=u'930', name=u'Notorious (1946)', tags=[u'Film-Noir', u'Romance', u'Thriller']),\n",
       " Row(movie_id=u'931', name=u'Spellbound (1945)', tags=[u'Mystery', u'Romance', u'Thriller']),\n",
       " Row(movie_id=u'932', name=u'Affair to Remember, An (1957)', tags=[u'Romance']),\n",
       " Row(movie_id=u'933', name=u'To Catch a Thief (1955)', tags=[u'Crime', u'Mystery', u'Romance', u'Thriller']),\n",
       " Row(movie_id=u'934', name=u'Father of the Bride (1950)', tags=[u'Comedy']),\n",
       " Row(movie_id=u'935', name=u'Band Wagon, The (1953)', tags=[u'Comedy', u'Musical']),\n",
       " Row(movie_id=u'936', name=u'Ninotchka (1939)', tags=[u'Comedy', u'Romance']),\n",
       " Row(movie_id=u'937', name=u'Love in the Afternoon (1957)', tags=[u'Comedy', u'Romance']),\n",
       " Row(movie_id=u'938', name=u'Gigi (1958)', tags=[u'Musical']),\n",
       " Row(movie_id=u'939', name=u'Reluctant Debutante, The (1958)', tags=[u'Comedy', u'Drama']),\n",
       " Row(movie_id=u'940', name=u'Adventures of Robin Hood, The (1938)', tags=[u'Action', u'Adventure', u'Romance']),\n",
       " Row(movie_id=u'941', name=u'Mark of Zorro, The (1940)', tags=[u'Adventure']),\n",
       " Row(movie_id=u'942', name=u'Laura (1944)', tags=[u'Crime', u'Film-Noir', u'Mystery']),\n",
       " Row(movie_id=u'943', name=u'Ghost and Mrs. Muir, The (1947)', tags=[u'Drama', u'Fantasy', u'Romance']),\n",
       " Row(movie_id=u'944', name=u'Lost Horizon (1937)', tags=[u'Drama']),\n",
       " Row(movie_id=u'945', name=u'Top Hat (1935)', tags=[u'Comedy', u'Musical', u'Romance']),\n",
       " Row(movie_id=u'946', name=u'To Be or Not to Be (1942)', tags=[u'Comedy', u'Drama', u'War']),\n",
       " Row(movie_id=u'947', name=u'My Man Godfrey (1936)', tags=[u'Comedy']),\n",
       " Row(movie_id=u'948', name=u'Giant (1956)', tags=[u'Drama']),\n",
       " Row(movie_id=u'949', name=u'East of Eden (1955)', tags=[u'Drama']),\n",
       " Row(movie_id=u'950', name=u'Thin Man, The (1934)', tags=[u'Comedy', u'Mystery']),\n",
       " Row(movie_id=u'951', name=u'His Girl Friday (1940)', tags=[u'Comedy', u'Romance']),\n",
       " Row(movie_id=u'952', name=u'Around the World in 80 Days (1956)', tags=[u'Adventure', u'Comedy']),\n",
       " Row(movie_id=u'953', name=u\"It's a Wonderful Life (1946)\", tags=[u'Drama', u'Fantasy', u'Romance']),\n",
       " Row(movie_id=u'954', name=u'Mr. Smith Goes to Washington (1939)', tags=[u'Drama']),\n",
       " Row(movie_id=u'955', name=u'Bringing Up Baby (1938)', tags=[u'Comedy']),\n",
       " Row(movie_id=u'956', name=u'Penny Serenade (1941)', tags=[u'Drama', u'Romance']),\n",
       " Row(movie_id=u'957', name=u'Scarlet Letter, The (1926)', tags=[u'Drama']),\n",
       " Row(movie_id=u'958', name=u'Lady of Burlesque (1943)', tags=[u'Comedy', u'Mystery']),\n",
       " Row(movie_id=u'959', name=u'Of Human Bondage (1934)', tags=[u'Drama']),\n",
       " Row(movie_id=u'960', name=u'Angel on My Shoulder (1946)', tags=[u'Crime', u'Drama']),\n",
       " Row(movie_id=u'961', name=u'Little Lord Fauntleroy (1936)', tags=[u'Drama']),\n",
       " Row(movie_id=u'962', name=u'They Made Me a Criminal (1939)', tags=[u'Crime', u'Drama']),\n",
       " Row(movie_id=u'963', name=u'Inspector General, The (1949)', tags=[u'Musical']),\n",
       " Row(movie_id=u'964', name=u'Angel and the Badman (1947)', tags=[u'Romance', u'Western']),\n",
       " Row(movie_id=u'965', name=u'39 Steps, The (1935)', tags=[u'Drama', u'Mystery', u'Thriller']),\n",
       " Row(movie_id=u'966', name=u'Walk in the Sun, A (1945)', tags=[u'War']),\n",
       " Row(movie_id=u'967', name=u'Outlaw, The (1943)', tags=[u'Western']),\n",
       " Row(movie_id=u'968', name=u'Night of the Living Dead (1968)', tags=[u'Horror', u'Sci-Fi', u'Thriller']),\n",
       " Row(movie_id=u'969', name=u'African Queen, The (1951)', tags=[u'Adventure', u'Comedy', u'Romance', u'War']),\n",
       " Row(movie_id=u'970', name=u'Beat the Devil (1953)', tags=[u'Adventure', u'Comedy', u'Crime', u'Drama', u'Romance']),\n",
       " Row(movie_id=u'971', name=u'Cat on a Hot Tin Roof (1958)', tags=[u'Drama']),\n",
       " Row(movie_id=u'972', name=u'Last Time I Saw Paris, The (1954)', tags=[u'Drama']),\n",
       " Row(movie_id=u'973', name=u'Meet John Doe (1941)', tags=[u'Comedy', u'Drama']),\n",
       " Row(movie_id=u'974', name=u'Algiers (1938)', tags=[u'Drama', u'Romance']),\n",
       " Row(movie_id=u'975', name=u'Something to Sing About (1937)', tags=[u'Comedy', u'Musical']),\n",
       " Row(movie_id=u'976', name=u'Farewell to Arms, A (1932)', tags=[u'Romance', u'War']),\n",
       " Row(movie_id=u'977', name=u'Moonlight Murder (1936)', tags=[u'Mystery']),\n",
       " Row(movie_id=u'979', name=u'Nothing Personal (1995)', tags=[u'Drama', u'War']),\n",
       " Row(movie_id=u'980', name=u'Yes, Madam (a.k.a. Police Assassins) (a.k.a. In the Line of Duty 2) (Huang gu shi jie) (1985)', tags=[u'Action']),\n",
       " Row(movie_id=u'981', name=u'Dangerous Ground (1997)', tags=[u'Drama']),\n",
       " Row(movie_id=u'982', name=u'Picnic (1955)', tags=[u'Drama']),\n",
       " Row(movie_id=u'983', name=u'Madagascar Skin (1995)', tags=[u'Romance']),\n",
       " Row(movie_id=u'984', name=u'Pompatus of Love, The (1996)', tags=[u'Comedy', u'Drama']),\n",
       " Row(movie_id=u'985', name=u'Small Wonders (1995)', tags=[u'Documentary']),\n",
       " Row(movie_id=u'986', name=u'Fly Away Home (1996)', tags=[u'Adventure', u'Children']),\n",
       " Row(movie_id=u'987', name=u'Bliss (1997)', tags=[u'Drama', u'Romance']),\n",
       " Row(movie_id=u'988', name=u'Grace of My Heart (1996)', tags=[u'Comedy', u'Drama']),\n",
       " Row(movie_id=u'989', name=u'Brother of Sleep (Schlafes Bruder) (1995)', tags=[u'Drama']),\n",
       " Row(movie_id=u'990', name=u'Maximum Risk (1996)', tags=[u'Action', u'Adventure', u'Thriller']),\n",
       " Row(movie_id=u'991', name=u'Michael Collins (1996)', tags=[u'Drama']),\n",
       " Row(movie_id=u'992', name=u\"Rich Man's Wife, The (1996)\", tags=[u'Thriller']),\n",
       " Row(movie_id=u'993', name=u'Infinity (1996)', tags=[u'Drama']),\n",
       " Row(movie_id=u'994', name=u'Big Night (1996)', tags=[u'Comedy', u'Drama']),\n",
       " Row(movie_id=u'996', name=u'Last Man Standing (1996)', tags=[u'Action', u'Crime', u'Drama', u'Thriller']),\n",
       " Row(movie_id=u'997', name=u'Caught (1996)', tags=[u'Drama', u'Thriller']),\n",
       " Row(movie_id=u'998', name=u'Set It Off (1996)', tags=[u'Action', u'Crime']),\n",
       " Row(movie_id=u'999', name=u'2 Days in the Valley (1996)', tags=[u'Crime', u'Film-Noir']),\n",
       " Row(movie_id=u'1000', name=u'Curdled (1996)', tags=[u'Crime']),\n",
       " Row(movie_id=u'1001', name=u\"Associate, The (Associ\\xe9, L') (1979)\", tags=[u'Comedy']),\n",
       " Row(movie_id=u'1002', name=u\"Ed's Next Move (1996)\", tags=[u'Comedy']),\n",
       " Row(movie_id=u'1003', name=u'Extreme Measures (1996)', tags=[u'Drama', u'Thriller']),\n",
       " Row(movie_id=u'1004', name=u'Glimmer Man, The (1996)', tags=[u'Action', u'Thriller']),\n",
       " Row(movie_id=u'1005', name=u'D3: The Mighty Ducks (1996)', tags=[u'Children', u'Comedy']),\n",
       " Row(movie_id=u'1006', name=u'Chamber, The (1996)', tags=[u'Drama']),\n",
       " Row(movie_id=u'1007', name=u'Apple Dumpling Gang, The (1975)', tags=[u'Children', u'Comedy', u'Western']),\n",
       " Row(movie_id=u'1008', name=u'Davy Crockett, King of the Wild Frontier (1955)', tags=[u'Adventure', u'Western']),\n",
       " Row(movie_id=u'1009', name=u'Escape to Witch Mountain (1975)', tags=[u'Adventure', u'Children', u'Fantasy']),\n",
       " Row(movie_id=u'1010', name=u'Love Bug, The (1969)', tags=[u'Children', u'Comedy']),\n",
       " Row(movie_id=u'1011', name=u'Herbie Rides Again (1974)', tags=[u'Adventure', u'Children', u'Comedy']),\n",
       " Row(movie_id=u'1012', name=u'Old Yeller (1957)', tags=[u'Children', u'Drama']),\n",
       " Row(movie_id=u'1013', name=u'Parent Trap, The (1961)', tags=[u'Children', u'Comedy', u'Romance']),\n",
       " Row(movie_id=u'1014', name=u'Pollyanna (1960)', tags=[u'Children', u'Comedy', u'Drama']),\n",
       " Row(movie_id=u'1015', name=u'Homeward Bound: The Incredible Journey (1993)', tags=[u'Adventure', u'Children', u'Drama']),\n",
       " Row(movie_id=u'1016', name=u'Shaggy Dog, The (1959)', tags=[u'Children', u'Comedy']),\n",
       " Row(movie_id=u'1017', name=u'Swiss Family Robinson (1960)', tags=[u'Adventure', u'Children']),\n",
       " Row(movie_id=u'1018', name=u'That Darn Cat! (1965)', tags=[u'Children', u'Comedy', u'Mystery']),\n",
       " ...]"
      ]
     },
     "execution_count": 35,
     "metadata": {},
     "output_type": "execute_result"
    }
   ],
   "source": [
    "movies.collect()"
   ]
  },
  {
   "cell_type": "code",
   "execution_count": 17,
   "metadata": {
    "collapsed": false
   },
   "outputs": [],
   "source": [
    "training_writer(movies, \"movie\")"
   ]
  },
  {
   "cell_type": "code",
   "execution_count": 18,
   "metadata": {
    "collapsed": true
   },
   "outputs": [],
   "source": [
    "# UserID::MovieID::Rating::Timestamp\n",
    "ratings = sc.textFile(\"ml-10M100K/ratings.dat\").map(lambda x: x.split(\"::\") )"
   ]
  },
  {
   "cell_type": "code",
   "execution_count": 25,
   "metadata": {
    "collapsed": false
   },
   "outputs": [],
   "source": [
    "df = ratings.toDF([\"user_id\", \"movie_id\", \"rating\", \"timestamp\"])"
   ]
  },
  {
   "cell_type": "code",
   "execution_count": 27,
   "metadata": {
    "collapsed": false,
    "scrolled": true
   },
   "outputs": [],
   "source": [
    "ratings = df.select(\"movie_id\", \"user_id\", \"rating\", \"timestamp\")"
   ]
  },
  {
   "cell_type": "code",
   "execution_count": 29,
   "metadata": {
    "collapsed": false
   },
   "outputs": [],
   "source": [
    "training_writer(ratings, \"rating_by_movie\")"
   ]
  },
  {
   "cell_type": "markdown",
   "metadata": {},
   "source": [
    "Aggregate Ratings by Movie"
   ]
  },
  {
   "cell_type": "code",
   "execution_count": 30,
   "metadata": {
    "collapsed": true
   },
   "outputs": [],
   "source": [
    "ratings.registerTempTable(\"ratings\")"
   ]
  },
  {
   "cell_type": "code",
   "execution_count": 34,
   "metadata": {
    "collapsed": false
   },
   "outputs": [],
   "source": [
    "aggregated_ratings = sql.sql(\"select movie_id, avg(rating) as rating from ratings group by movie_id\")"
   ]
  },
  {
   "cell_type": "code",
   "execution_count": 43,
   "metadata": {
    "collapsed": true
   },
   "outputs": [],
   "source": [
    "aggregated_ratings.registerTempTable(\"average_ratings\")"
   ]
  },
  {
   "cell_type": "code",
   "execution_count": 35,
   "metadata": {
    "collapsed": false
   },
   "outputs": [],
   "source": [
    "training_writer(aggregated_ratings, \"average_rating\")"
   ]
  },
  {
   "cell_type": "code",
   "execution_count": 36,
   "metadata": {
    "collapsed": true
   },
   "outputs": [],
   "source": [
    "movies.registerTempTable('movie')"
   ]
  },
  {
   "cell_type": "code",
   "execution_count": 45,
   "metadata": {
    "collapsed": false
   },
   "outputs": [
    {
     "data": {
      "text/plain": [
       "[Row(movie_id=u'53355', name=u'Sun Alley (Sonnenallee) (1999)', tags=[u'Comedy', u'Romance'], rating=5.0),\n",
       " Row(movie_id=u'51209', name=u'Fighting Elegy (Kenka erejii) (1966)', tags=[u'Action', u'Comedy'], rating=5.0),\n",
       " Row(movie_id=u'33264', name=u\"Satan's Tango (S\\xe1t\\xe1ntang\\xf3) (1994)\", tags=[u'Drama'], rating=5.0),\n",
       " Row(movie_id=u'42783', name=u'Shadows of Forgotten Ancestors (1964)', tags=[u'Drama', u'Romance'], rating=5.0),\n",
       " Row(movie_id=u'64275', name=u'Blue Light, The (Das Blaue Licht) (1932)', tags=[u'Drama', u'Fantasy', u'Mystery'], rating=5.0),\n",
       " Row(movie_id=u'26073', name=u'Human Condition III, The (Ningen no joken III) (1961)', tags=[u'Drama', u'War'], rating=4.75),\n",
       " Row(movie_id=u'5194', name=u\"Who's Singin' Over There? (a.k.a. Who Sings Over There) (Ko to tamo peva) (1980)\", tags=[u'Comedy'], rating=4.75),\n",
       " Row(movie_id=u'65001', name=u\"Constantine's Sword (2007)\", tags=[u'Documentary'], rating=4.75),\n",
       " Row(movie_id=u'4454', name=u'More (1998)', tags=[u'Animation', u'IMAX', u'Sci-Fi'], rating=4.75),\n",
       " Row(movie_id=u'26048', name=u'Human Condition II, The (Ningen no joken II) (1959)', tags=[u'Drama', u'War'], rating=4.75),\n",
       " Row(movie_id=u'63808', name=u'Class, The (Entre les Murs) (2008)', tags=[u'Drama'], rating=4.666666666666667),\n",
       " Row(movie_id=u'5849', name=u\"I'm Starting From Three (Ricomincio da Tre) (1981)\", tags=[u'Comedy'], rating=4.666666666666667),\n",
       " Row(movie_id=u'32657', name=u\"Man Who Planted Trees, The (Homme qui plantait des arbres, L') (1987)\", tags=[u'Animation', u'Drama'], rating=4.571428571428571),\n",
       " Row(movie_id=u'53883', name=u'Power of Nightmares: The Rise of the Politics of Fear, The (2004)', tags=[u'Documentary'], rating=4.5),\n",
       " Row(movie_id=u'3226', name=u'Hellhounds on My Trail (1999)', tags=[u'Documentary'], rating=4.5),\n",
       " Row(movie_id=u'58185', name=u'Please Vote for Me (2007)', tags=[u'Children', u'Documentary'], rating=4.5),\n",
       " Row(movie_id=u'60990', name=u'End of Summer, The (Kohayagawa-ke no aki) (1961)', tags=[u'Drama'], rating=4.5),\n",
       " Row(movie_id=u'25975', name=u'Life of Oharu, The (Saikaku ichidai onna) (1952)', tags=[u'Drama'], rating=4.5),\n",
       " Row(movie_id=u'60336', name=u'Bad Blood (Mauvais sang) (1986)', tags=[u'Crime', u'Drama', u'Romance'], rating=4.5),\n",
       " Row(movie_id=u'7452', name=u'Mickey (2003)', tags=[u'Crime', u'Drama'], rating=4.5)]"
      ]
     },
     "execution_count": 45,
     "metadata": {},
     "output_type": "execute_result"
    }
   ],
   "source": [
    "sql.sql(\"\"\"select movie.movie_id, name, tags, rating FROM movie join average_ratings on movie.movie_id = average_ratings.movie_id  order by rating desc limit 20\"\"\").collect()"
   ]
  },
  {
   "cell_type": "markdown",
   "metadata": {},
   "source": [
    "# Top movies per tag"
   ]
  },
  {
   "cell_type": "code",
   "execution_count": 48,
   "metadata": {
    "collapsed": false
   },
   "outputs": [
    {
     "data": {
      "text/plain": [
       "[u'movie_id', u'name', u'tags']"
      ]
     },
     "execution_count": 48,
     "metadata": {},
     "output_type": "execute_result"
    }
   ],
   "source": [
    "movies.columns"
   ]
  },
  {
   "cell_type": "code",
   "execution_count": 50,
   "metadata": {
    "collapsed": false
   },
   "outputs": [],
   "source": [
    "movies_by_tag = movies.select(explode(movies.tags).alias(\"tag\"), \"movie_id\", \"name\")"
   ]
  },
  {
   "cell_type": "code",
   "execution_count": 51,
   "metadata": {
    "collapsed": true
   },
   "outputs": [],
   "source": [
    "training_writer(movies_by_tag, \"movies_by_tag\")"
   ]
  },
  {
   "cell_type": "code",
   "execution_count": 53,
   "metadata": {
    "collapsed": false
   },
   "outputs": [
    {
     "data": {
      "text/plain": [
       "[Row(tag=u'Adventure', movie_id=u'1', name=u'Toy Story (1995)'),\n",
       " Row(tag=u'Animation', movie_id=u'1', name=u'Toy Story (1995)'),\n",
       " Row(tag=u'Children', movie_id=u'1', name=u'Toy Story (1995)'),\n",
       " Row(tag=u'Comedy', movie_id=u'1', name=u'Toy Story (1995)'),\n",
       " Row(tag=u'Fantasy', movie_id=u'1', name=u'Toy Story (1995)'),\n",
       " Row(tag=u'Adventure', movie_id=u'2', name=u'Jumanji (1995)'),\n",
       " Row(tag=u'Children', movie_id=u'2', name=u'Jumanji (1995)'),\n",
       " Row(tag=u'Fantasy', movie_id=u'2', name=u'Jumanji (1995)'),\n",
       " Row(tag=u'Comedy', movie_id=u'3', name=u'Grumpier Old Men (1995)'),\n",
       " Row(tag=u'Romance', movie_id=u'3', name=u'Grumpier Old Men (1995)')]"
      ]
     },
     "execution_count": 53,
     "metadata": {},
     "output_type": "execute_result"
    }
   ],
   "source": [
    "movies_by_tag.head(10)"
   ]
  },
  {
   "cell_type": "code",
   "execution_count": null,
   "metadata": {
    "collapsed": true
   },
   "outputs": [],
   "source": []
  }
 ],
 "metadata": {
  "kernelspec": {
   "display_name": "Python 2",
   "language": "python",
   "name": "python2"
  },
  "language_info": {
   "codemirror_mode": {
    "name": "ipython",
    "version": 2
   },
   "file_extension": ".py",
   "mimetype": "text/x-python",
   "name": "python",
   "nbconvert_exporter": "python",
   "pygments_lexer": "ipython2",
   "version": "2.7.8"
  }
 },
 "nbformat": 4,
 "nbformat_minor": 0
}
